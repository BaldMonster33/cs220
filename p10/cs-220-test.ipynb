{
 "cells": [
  {
   "cell_type": "code",
   "execution_count": 1,
   "metadata": {},
   "outputs": [],
   "source": [
    "#project:p10\n",
    "#submitter:lqin33\n",
    "#partner:mjiao5"
   ]
  },
  {
   "cell_type": "code",
   "execution_count": 2,
   "metadata": {},
   "outputs": [],
   "source": [
    "import requests, os, math\n",
    "import numpy as np\n",
    "import pandas as pd\n",
    "from pandas import DataFrame\n",
    "from math import sin,cos,asin,sqrt\n",
    "\n",
    "def download(filename, url):\n",
    "    if os.path.exists(filename):\n",
    "        print(str(filename) + \" already exists!\")\n",
    "    else:\n",
    "        r = requests.get(url)\n",
    "        r.raise_for_status()\n",
    "        data = r.text\n",
    "        f = open(filename, \"w\", encoding=\"utf-8\")\n",
    "        f.write(data)\n",
    "        f.close()\n",
    "    return (str(filename) + \" created!\")"
   ]
  },
  {
   "cell_type": "code",
   "execution_count": 3,
   "metadata": {},
   "outputs": [],
   "source": [
    "#draft:\n",
    "# sa_to_all_distance['Chile'].tolist()\n",
    "# list(filter(no_nan, sa_to_all_distance['Chile'].tolist()))\n",
    "# #Q13: What is the least central country in South America?\n",
    "# sa_to_all_distance = find_group_distance(list(countries['country']),select_countries('continent','South America'))\n",
    "# new_sa_to_all_distance = sa_to_all_distance.copy(deep=True)\n",
    "# # new_sa_to_all_distance['Sum'] = new_sa_to_all_distance.apply(lambda x: new_avg(x))\n",
    "# # new_sa_to_all_distance['Sum'].sort_values(ascending = True).index[0]\n",
    "# new_sa_to_all_distance.loc['Avg'] = new_sa_to_all_distance.apply(lambda x: new_avg(x))\n",
    "# new_sa_to_all_distance.loc['Avg'].sort_values(ascending = False).index[0]"
   ]
  },
  {
   "cell_type": "code",
   "execution_count": 4,
   "metadata": {},
   "outputs": [
    {
     "name": "stdout",
     "output_type": "stream",
     "text": [
      "countries.json already exists!\n"
     ]
    },
    {
     "data": {
      "text/plain": [
       "'countries.json created!'"
      ]
     },
     "execution_count": 4,
     "metadata": {},
     "output_type": "execute_result"
    }
   ],
   "source": [
    "download('countries.json', 'https://raw.githubusercontent.com/msyamkumar/cs220-projects/master/spring20/p10/countries.json')"
   ]
  },
  {
   "cell_type": "code",
   "execution_count": 5,
   "metadata": {},
   "outputs": [],
   "source": [
    "countries = pd.read_json('countries.json')"
   ]
  },
  {
   "cell_type": "code",
   "execution_count": 6,
   "metadata": {},
   "outputs": [
    {
     "data": {
      "text/html": [
       "<div>\n",
       "<style scoped>\n",
       "    .dataframe tbody tr th:only-of-type {\n",
       "        vertical-align: middle;\n",
       "    }\n",
       "\n",
       "    .dataframe tbody tr th {\n",
       "        vertical-align: top;\n",
       "    }\n",
       "\n",
       "    .dataframe thead th {\n",
       "        text-align: right;\n",
       "    }\n",
       "</style>\n",
       "<table border=\"1\" class=\"dataframe\">\n",
       "  <thead>\n",
       "    <tr style=\"text-align: right;\">\n",
       "      <th></th>\n",
       "      <th>area</th>\n",
       "      <th>birth-rate</th>\n",
       "      <th>coastline</th>\n",
       "      <th>continent</th>\n",
       "      <th>country</th>\n",
       "      <th>death-rate</th>\n",
       "      <th>gdp-per-capita</th>\n",
       "      <th>infant-mortality</th>\n",
       "      <th>literacy</th>\n",
       "      <th>net-migration</th>\n",
       "      <th>phones</th>\n",
       "      <th>population</th>\n",
       "      <th>region</th>\n",
       "    </tr>\n",
       "  </thead>\n",
       "  <tbody>\n",
       "    <tr>\n",
       "      <th>0</th>\n",
       "      <td>756950</td>\n",
       "      <td>15.23</td>\n",
       "      <td>0.85</td>\n",
       "      <td>South America</td>\n",
       "      <td>Chile</td>\n",
       "      <td>5.81</td>\n",
       "      <td>9900</td>\n",
       "      <td>8.80</td>\n",
       "      <td>96,2</td>\n",
       "      <td>0.00</td>\n",
       "      <td>213,0</td>\n",
       "      <td>16134219</td>\n",
       "      <td>LATIN AMER. &amp; CARIB</td>\n",
       "    </tr>\n",
       "    <tr>\n",
       "      <th>1</th>\n",
       "      <td>665</td>\n",
       "      <td>17.80</td>\n",
       "      <td>24.21</td>\n",
       "      <td>Asia</td>\n",
       "      <td>Bahrain</td>\n",
       "      <td>4.14</td>\n",
       "      <td>16900</td>\n",
       "      <td>17.27</td>\n",
       "      <td>89,1</td>\n",
       "      <td>1.05</td>\n",
       "      <td>281,3</td>\n",
       "      <td>698585</td>\n",
       "      <td>NEAR EAST</td>\n",
       "    </tr>\n",
       "    <tr>\n",
       "      <th>2</th>\n",
       "      <td>22966</td>\n",
       "      <td>28.84</td>\n",
       "      <td>1.68</td>\n",
       "      <td>North America</td>\n",
       "      <td>Belize</td>\n",
       "      <td>5.72</td>\n",
       "      <td>4900</td>\n",
       "      <td>25.69</td>\n",
       "      <td>94,1</td>\n",
       "      <td>0.00</td>\n",
       "      <td>115,7</td>\n",
       "      <td>287730</td>\n",
       "      <td>LATIN AMER. &amp; CARIB</td>\n",
       "    </tr>\n",
       "    <tr>\n",
       "      <th>3</th>\n",
       "      <td>582650</td>\n",
       "      <td>39.72</td>\n",
       "      <td>0.09</td>\n",
       "      <td>Africa</td>\n",
       "      <td>Kenya</td>\n",
       "      <td>14.02</td>\n",
       "      <td>1000</td>\n",
       "      <td>61.47</td>\n",
       "      <td>85,1</td>\n",
       "      <td>-0.10</td>\n",
       "      <td>8,1</td>\n",
       "      <td>34707817</td>\n",
       "      <td>SUB-SAHARAN AFRICA</td>\n",
       "    </tr>\n",
       "    <tr>\n",
       "      <th>4</th>\n",
       "      <td>11854</td>\n",
       "      <td>33.05</td>\n",
       "      <td>3.12</td>\n",
       "      <td>Australia</td>\n",
       "      <td>Marshall Islands</td>\n",
       "      <td>4.78</td>\n",
       "      <td>1600</td>\n",
       "      <td>29.45</td>\n",
       "      <td>93,7</td>\n",
       "      <td>-6.04</td>\n",
       "      <td>91,2</td>\n",
       "      <td>60422</td>\n",
       "      <td>OCEANIA</td>\n",
       "    </tr>\n",
       "    <tr>\n",
       "      <th>...</th>\n",
       "      <td>...</td>\n",
       "      <td>...</td>\n",
       "      <td>...</td>\n",
       "      <td>...</td>\n",
       "      <td>...</td>\n",
       "      <td>...</td>\n",
       "      <td>...</td>\n",
       "      <td>...</td>\n",
       "      <td>...</td>\n",
       "      <td>...</td>\n",
       "      <td>...</td>\n",
       "      <td>...</td>\n",
       "      <td>...</td>\n",
       "    </tr>\n",
       "    <tr>\n",
       "      <th>169</th>\n",
       "      <td>2381740</td>\n",
       "      <td>17.14</td>\n",
       "      <td>0.04</td>\n",
       "      <td>Africa</td>\n",
       "      <td>Algeria</td>\n",
       "      <td>4.61</td>\n",
       "      <td>6000</td>\n",
       "      <td>31.00</td>\n",
       "      <td>70,0</td>\n",
       "      <td>-0.39</td>\n",
       "      <td>78,1</td>\n",
       "      <td>32930091</td>\n",
       "      <td>NORTHERN AFRICA</td>\n",
       "    </tr>\n",
       "    <tr>\n",
       "      <th>170</th>\n",
       "      <td>103000</td>\n",
       "      <td>13.64</td>\n",
       "      <td>4.83</td>\n",
       "      <td>Europe</td>\n",
       "      <td>Iceland</td>\n",
       "      <td>6.72</td>\n",
       "      <td>30900</td>\n",
       "      <td>3.31</td>\n",
       "      <td>99,9</td>\n",
       "      <td>2.38</td>\n",
       "      <td>647,7</td>\n",
       "      <td>299388</td>\n",
       "      <td>WESTERN EUROPE</td>\n",
       "    </tr>\n",
       "    <tr>\n",
       "      <th>171</th>\n",
       "      <td>748</td>\n",
       "      <td>25.37</td>\n",
       "      <td>56.02</td>\n",
       "      <td>Australia</td>\n",
       "      <td>Tonga</td>\n",
       "      <td>5.28</td>\n",
       "      <td>2200</td>\n",
       "      <td>12.62</td>\n",
       "      <td>98,5</td>\n",
       "      <td>0.00</td>\n",
       "      <td>97,7</td>\n",
       "      <td>114689</td>\n",
       "      <td>OCEANIA</td>\n",
       "    </tr>\n",
       "    <tr>\n",
       "      <th>172</th>\n",
       "      <td>27750</td>\n",
       "      <td>36.44</td>\n",
       "      <td>6.38</td>\n",
       "      <td>North America</td>\n",
       "      <td>Haiti</td>\n",
       "      <td>12.17</td>\n",
       "      <td>1600</td>\n",
       "      <td>73.45</td>\n",
       "      <td>52,9</td>\n",
       "      <td>-3.40</td>\n",
       "      <td>16,9</td>\n",
       "      <td>8308504</td>\n",
       "      <td>LATIN AMER. &amp; CARIB</td>\n",
       "    </tr>\n",
       "    <tr>\n",
       "      <th>173</th>\n",
       "      <td>1284000</td>\n",
       "      <td>45.73</td>\n",
       "      <td>0.00</td>\n",
       "      <td>Africa</td>\n",
       "      <td>Chad</td>\n",
       "      <td>16.38</td>\n",
       "      <td>1200</td>\n",
       "      <td>93.82</td>\n",
       "      <td>47,5</td>\n",
       "      <td>-0.11</td>\n",
       "      <td>1,3</td>\n",
       "      <td>9944201</td>\n",
       "      <td>SUB-SAHARAN AFRICA</td>\n",
       "    </tr>\n",
       "  </tbody>\n",
       "</table>\n",
       "<p>174 rows × 13 columns</p>\n",
       "</div>"
      ],
      "text/plain": [
       "        area  birth-rate  coastline      continent           country  \\\n",
       "0     756950       15.23       0.85  South America             Chile   \n",
       "1        665       17.80      24.21           Asia           Bahrain   \n",
       "2      22966       28.84       1.68  North America            Belize   \n",
       "3     582650       39.72       0.09         Africa             Kenya   \n",
       "4      11854       33.05       3.12      Australia  Marshall Islands   \n",
       "..       ...         ...        ...            ...               ...   \n",
       "169  2381740       17.14       0.04         Africa           Algeria   \n",
       "170   103000       13.64       4.83         Europe           Iceland   \n",
       "171      748       25.37      56.02      Australia             Tonga   \n",
       "172    27750       36.44       6.38  North America             Haiti   \n",
       "173  1284000       45.73       0.00         Africa              Chad   \n",
       "\n",
       "     death-rate  gdp-per-capita  infant-mortality literacy  net-migration  \\\n",
       "0          5.81            9900              8.80     96,2           0.00   \n",
       "1          4.14           16900             17.27     89,1           1.05   \n",
       "2          5.72            4900             25.69     94,1           0.00   \n",
       "3         14.02            1000             61.47     85,1          -0.10   \n",
       "4          4.78            1600             29.45     93,7          -6.04   \n",
       "..          ...             ...               ...      ...            ...   \n",
       "169        4.61            6000             31.00     70,0          -0.39   \n",
       "170        6.72           30900              3.31     99,9           2.38   \n",
       "171        5.28            2200             12.62     98,5           0.00   \n",
       "172       12.17            1600             73.45     52,9          -3.40   \n",
       "173       16.38            1200             93.82     47,5          -0.11   \n",
       "\n",
       "    phones  population               region  \n",
       "0    213,0    16134219  LATIN AMER. & CARIB  \n",
       "1    281,3      698585            NEAR EAST  \n",
       "2    115,7      287730  LATIN AMER. & CARIB  \n",
       "3      8,1    34707817   SUB-SAHARAN AFRICA  \n",
       "4     91,2       60422              OCEANIA  \n",
       "..     ...         ...                  ...  \n",
       "169   78,1    32930091      NORTHERN AFRICA  \n",
       "170  647,7      299388       WESTERN EUROPE  \n",
       "171   97,7      114689              OCEANIA  \n",
       "172   16,9     8308504  LATIN AMER. & CARIB  \n",
       "173    1,3     9944201   SUB-SAHARAN AFRICA  \n",
       "\n",
       "[174 rows x 13 columns]"
      ]
     },
     "execution_count": 6,
     "metadata": {},
     "output_type": "execute_result"
    }
   ],
   "source": [
    "countries"
   ]
  },
  {
   "cell_type": "code",
   "execution_count": 7,
   "metadata": {},
   "outputs": [
    {
     "data": {
      "text/plain": [
       "174"
      ]
     },
     "execution_count": 7,
     "metadata": {},
     "output_type": "execute_result"
    }
   ],
   "source": [
    "#q1\n",
    "len(countries)"
   ]
  },
  {
   "cell_type": "code",
   "execution_count": 8,
   "metadata": {},
   "outputs": [
    {
     "data": {
      "text/plain": [
       "6261901793"
      ]
     },
     "execution_count": 8,
     "metadata": {},
     "output_type": "execute_result"
    }
   ],
   "source": [
    "#Q2: what is the total population across all the countries in our dataset?\n",
    "# find_sum = lambda x:x.sum()\n",
    "# total_data = countries.apply(find_sum)\n",
    "# total_data['population']\n",
    "countries['population'].sum()"
   ]
  },
  {
   "cell_type": "code",
   "execution_count": 9,
   "metadata": {},
   "outputs": [
    {
     "name": "stdout",
     "output_type": "stream",
     "text": [
      "capitals.json already exists!\n"
     ]
    },
    {
     "data": {
      "text/plain": [
       "'capitals.json created!'"
      ]
     },
     "execution_count": 9,
     "metadata": {},
     "output_type": "execute_result"
    }
   ],
   "source": [
    "download('capitals.json','https://raw.githubusercontent.com/msyamkumar/cs220-projects/master/spring20/p10/capitals.json')"
   ]
  },
  {
   "cell_type": "code",
   "execution_count": 10,
   "metadata": {},
   "outputs": [
    {
     "data": {
      "text/html": [
       "<div>\n",
       "<style scoped>\n",
       "    .dataframe tbody tr th:only-of-type {\n",
       "        vertical-align: middle;\n",
       "    }\n",
       "\n",
       "    .dataframe tbody tr th {\n",
       "        vertical-align: top;\n",
       "    }\n",
       "\n",
       "    .dataframe thead th {\n",
       "        text-align: right;\n",
       "    }\n",
       "</style>\n",
       "<table border=\"1\" class=\"dataframe\">\n",
       "  <thead>\n",
       "    <tr style=\"text-align: right;\">\n",
       "      <th></th>\n",
       "      <th>country</th>\n",
       "      <th>capital</th>\n",
       "      <th>latitude</th>\n",
       "      <th>longitude</th>\n",
       "    </tr>\n",
       "  </thead>\n",
       "  <tbody>\n",
       "    <tr>\n",
       "      <th>0</th>\n",
       "      <td>Afghanistan</td>\n",
       "      <td>Kabul</td>\n",
       "      <td>34.516667</td>\n",
       "      <td>69.183333</td>\n",
       "    </tr>\n",
       "    <tr>\n",
       "      <th>1</th>\n",
       "      <td>Albania</td>\n",
       "      <td>Tirana</td>\n",
       "      <td>41.316667</td>\n",
       "      <td>19.816667</td>\n",
       "    </tr>\n",
       "    <tr>\n",
       "      <th>2</th>\n",
       "      <td>Algeria</td>\n",
       "      <td>Algiers</td>\n",
       "      <td>36.750000</td>\n",
       "      <td>3.050000</td>\n",
       "    </tr>\n",
       "    <tr>\n",
       "      <th>3</th>\n",
       "      <td>Anguilla</td>\n",
       "      <td>The Valley</td>\n",
       "      <td>18.216667</td>\n",
       "      <td>-63.050000</td>\n",
       "    </tr>\n",
       "    <tr>\n",
       "      <th>4</th>\n",
       "      <td>Argentina</td>\n",
       "      <td>Buenos Aires</td>\n",
       "      <td>-34.583333</td>\n",
       "      <td>-58.666667</td>\n",
       "    </tr>\n",
       "  </tbody>\n",
       "</table>\n",
       "</div>"
      ],
      "text/plain": [
       "       country       capital   latitude  longitude\n",
       "0  Afghanistan         Kabul  34.516667  69.183333\n",
       "1      Albania        Tirana  41.316667  19.816667\n",
       "2      Algeria       Algiers  36.750000   3.050000\n",
       "3     Anguilla    The Valley  18.216667 -63.050000\n",
       "4    Argentina  Buenos Aires -34.583333 -58.666667"
      ]
     },
     "execution_count": 10,
     "metadata": {},
     "output_type": "execute_result"
    }
   ],
   "source": [
    "capitals = pd.read_json('capitals.json')\n",
    "capitals.head()"
   ]
  },
  {
   "cell_type": "code",
   "execution_count": 11,
   "metadata": {},
   "outputs": [
    {
     "data": {
      "text/plain": [
       "['Abu Dhabi',\n",
       " 'Abuja',\n",
       " 'Accra',\n",
       " 'Addis Ababa',\n",
       " 'Algiers',\n",
       " 'Amman',\n",
       " 'Amsterdam',\n",
       " 'Ankara',\n",
       " 'Antananarivo',\n",
       " 'Apia',\n",
       " 'Ashgabat',\n",
       " 'Asmara',\n",
       " 'Astana',\n",
       " 'Asuncion',\n",
       " 'Athens',\n",
       " 'Baghdad',\n",
       " 'Baku',\n",
       " 'Bamako',\n",
       " 'Bangkok',\n",
       " 'Beijing',\n",
       " 'Beirut',\n",
       " 'Belmopan',\n",
       " 'Berlin',\n",
       " 'Bern',\n",
       " 'Bishkek',\n",
       " 'Bissau',\n",
       " 'Bogota',\n",
       " 'Brasilia',\n",
       " 'Bridgetown',\n",
       " 'Brussels',\n",
       " 'Bucharest',\n",
       " 'Budapest',\n",
       " 'Buenos Aires',\n",
       " 'Bujumbura',\n",
       " 'Cairo',\n",
       " 'Canberra',\n",
       " 'Caracas',\n",
       " 'Castries',\n",
       " 'Chisinau',\n",
       " 'Colombo',\n",
       " 'Conakry',\n",
       " 'Copenhagen',\n",
       " 'Dakar',\n",
       " 'Damascus',\n",
       " 'Dar es Salaam',\n",
       " 'Dhaka',\n",
       " 'Djibouti',\n",
       " 'Doha',\n",
       " 'Dublin',\n",
       " 'Dushanbe',\n",
       " 'Freetown',\n",
       " 'Gaborone',\n",
       " 'George Town',\n",
       " 'Georgetown',\n",
       " 'Guatemala City',\n",
       " 'Hagatna',\n",
       " 'Hamilton',\n",
       " 'Hanoi',\n",
       " 'Harare',\n",
       " 'Havana',\n",
       " 'Helsinki',\n",
       " 'Islamabad',\n",
       " 'Jakarta',\n",
       " 'Jamestown',\n",
       " 'Jerusalem',\n",
       " 'Kabul',\n",
       " 'Kampala',\n",
       " 'Kathmandu',\n",
       " 'Khartoum',\n",
       " 'Kigali',\n",
       " 'Kingston',\n",
       " 'Kingstown',\n",
       " 'Kuala Lumpur',\n",
       " 'Kuwait City',\n",
       " 'Kyiv',\n",
       " 'La Paz',\n",
       " 'Libreville',\n",
       " 'Lilongwe',\n",
       " 'Lima',\n",
       " 'Lisbon',\n",
       " 'Ljubljana',\n",
       " 'Lome',\n",
       " 'London',\n",
       " 'Lusaka',\n",
       " 'Luxembourg',\n",
       " 'Madrid',\n",
       " 'Majuro',\n",
       " 'Malabo',\n",
       " 'Male',\n",
       " 'Managua',\n",
       " 'Manama',\n",
       " 'Manila',\n",
       " 'Maputo',\n",
       " 'Maseru',\n",
       " 'Mbabane',\n",
       " 'Melekeok',\n",
       " 'Mexico City',\n",
       " 'Minsk',\n",
       " 'Mogadishu',\n",
       " 'Monaco',\n",
       " 'Monrovia',\n",
       " 'Montevideo',\n",
       " 'Moroni',\n",
       " 'Moscow',\n",
       " 'Muscat',\n",
       " 'Nairobi',\n",
       " 'New Delhi',\n",
       " 'Niamey',\n",
       " 'Nouakchott',\n",
       " 'Noumea',\n",
       " 'Nuku’alofa',\n",
       " 'N’Djamena',\n",
       " 'Oranjestad',\n",
       " 'Oslo',\n",
       " 'Ottawa',\n",
       " 'Ouagadougou',\n",
       " 'Panama City',\n",
       " 'Papeete',\n",
       " 'Paramaribo',\n",
       " 'Paris',\n",
       " 'Phnom Penh',\n",
       " 'Port Louis',\n",
       " 'Port Moresby',\n",
       " 'Port-Vila',\n",
       " 'Port-au-Prince',\n",
       " 'Porto-Novo',\n",
       " 'Prague',\n",
       " 'Praia',\n",
       " 'Pretoria',\n",
       " 'Quito',\n",
       " 'Rabat',\n",
       " 'Reykjavik',\n",
       " 'Riga',\n",
       " 'Riyadh',\n",
       " 'Rome',\n",
       " 'Roseau',\n",
       " 'Saint George’s',\n",
       " 'San Jose',\n",
       " 'San Juan',\n",
       " 'San Marino',\n",
       " 'San Salvador',\n",
       " 'Sanaa',\n",
       " 'Santiago',\n",
       " 'Santo Domingo',\n",
       " 'Singapore',\n",
       " 'Sofia',\n",
       " 'Stockholm',\n",
       " 'Suva',\n",
       " 'Taipei',\n",
       " 'Tallinn',\n",
       " 'Tashkent',\n",
       " 'Tbilisi',\n",
       " 'Tegucigalpa',\n",
       " 'Tehran',\n",
       " 'The Valley',\n",
       " 'Thimphu',\n",
       " 'Tirana',\n",
       " 'Tokyo',\n",
       " 'Tripoli',\n",
       " 'Tunis',\n",
       " 'Ulaanbaatar',\n",
       " 'Vaduz',\n",
       " 'Valletta',\n",
       " 'Victoria',\n",
       " 'Vienna',\n",
       " 'Vientiane',\n",
       " 'Vilnius',\n",
       " 'Warsaw',\n",
       " 'Washington, D.C.',\n",
       " 'Wellington',\n",
       " 'Windhoek',\n",
       " 'Yaounde',\n",
       " 'Yerevan',\n",
       " 'Zagreb']"
      ]
     },
     "execution_count": 11,
     "metadata": {},
     "output_type": "execute_result"
    }
   ],
   "source": [
    "#Q3: What are the capital names in capitals.json?\n",
    "def help_sort():\n",
    "    return lambda x:x[0]\n",
    "capital_names = list(capitals['capital'])\n",
    "sorted(capital_names, \n",
    "       #key = lambda x:x[0], \n",
    "       )"
   ]
  },
  {
   "cell_type": "code",
   "execution_count": 60,
   "metadata": {},
   "outputs": [],
   "source": []
  },
  {
   "cell_type": "code",
   "execution_count": 12,
   "metadata": {},
   "outputs": [],
   "source": [
    "def find_corresponding_values(name, name_column, column):\n",
    "    values = list(capitals[column])\n",
    "    idx = None\n",
    "    for i in range(len(values)):\n",
    "        if values[i] == name:\n",
    "            idx = i\n",
    "    new_column = list(capitals[name_column])\n",
    "    return new_column[idx]\n"
   ]
  },
  {
   "cell_type": "code",
   "execution_count": 13,
   "metadata": {},
   "outputs": [
    {
     "data": {
      "text/plain": [
       "'Rome'"
      ]
     },
     "execution_count": 13,
     "metadata": {},
     "output_type": "execute_result"
    }
   ],
   "source": [
    "#Q4: What is the capital of Italy?\n",
    "find_corresponding_values(name = 'Italy', column = 'country', name_column = 'capital')"
   ]
  },
  {
   "cell_type": "code",
   "execution_count": 14,
   "metadata": {},
   "outputs": [
    {
     "data": {
      "text/plain": [
       "'Belgium'"
      ]
     },
     "execution_count": 14,
     "metadata": {},
     "output_type": "execute_result"
    }
   ],
   "source": [
    "#Q5: Which country's capital is Brussels?\n",
    "find_corresponding_values('Brussels','country','capital')"
   ]
  },
  {
   "cell_type": "code",
   "execution_count": 15,
   "metadata": {},
   "outputs": [
    {
     "data": {
      "text/plain": [
       "['New Zealand',\n",
       " 'Australia',\n",
       " 'Uruguay',\n",
       " 'Argentina',\n",
       " 'Chile',\n",
       " 'Lesotho',\n",
       " 'Swaziland']"
      ]
     },
     "execution_count": 15,
     "metadata": {},
     "output_type": "execute_result"
    }
   ],
   "source": [
    "#Q6: Which 7 countries have the southern-most capitals?\n",
    "def return_sorted_df(key, nums, key_2): \n",
    "    return capitals.sort_values(by=[key])[key_2].values.tolist()[:nums]\n",
    "return_sorted_df('latitude',7,'country')"
   ]
  },
  {
   "cell_type": "code",
   "execution_count": 16,
   "metadata": {},
   "outputs": [
    {
     "data": {
      "text/plain": [
       "['Iceland',\n",
       " 'Finland',\n",
       " 'Norway',\n",
       " 'Estonia',\n",
       " 'Sweden',\n",
       " 'Latvia',\n",
       " 'Russia',\n",
       " 'Denmark',\n",
       " 'Lithuania',\n",
       " 'Belarus']"
      ]
     },
     "execution_count": 16,
     "metadata": {},
     "output_type": "execute_result"
    }
   ],
   "source": [
    "#Q7: Which 10 countries have the capitals closest to the North Pole?\n",
    "funcs = lambda x,y,z : capitals.sort_values(by=[x], ascending = False)[y].values.tolist()[:z]\n",
    "funcs('latitude','country',10)"
   ]
  },
  {
   "cell_type": "code",
   "execution_count": 17,
   "metadata": {},
   "outputs": [],
   "source": [
    "\n",
    "#Haversine Formula (from R.W. Sinnott, \"Virtues of the Haversine\", Sky and Telescope, vol. 68, no. 2, 1984, p. 159):\n",
    "def calculate_distance(lat1,lon1,lat2,lon2):\n",
    "\n",
    "    R = 3956\n",
    "    lat1 = math.radians(lat1)\n",
    "    lat2 = math.radians(lat2)\n",
    "    lon1 = math.radians(lon1)\n",
    "    lon2 = math.radians(lon2)\n",
    "    dlon = lon2 - lon1\n",
    "    dlat = lat2 - lat1\n",
    "    a = (sin(dlat/2.0)) ** 2.0 + cos(lat1) * cos(lat2) * (sin(dlon/2.0)) ** 2.0\n",
    "    a = sqrt(a ** 2.0)\n",
    "    c = 2.0 * asin(min(1,sqrt(a)))\n",
    "    d = R * c\n",
    "    return d\n",
    "\n"
   ]
  },
  {
   "cell_type": "code",
   "execution_count": 18,
   "metadata": {},
   "outputs": [
    {
     "data": {
      "text/plain": [
       "1.433899492072933"
      ]
     },
     "execution_count": 18,
     "metadata": {},
     "output_type": "execute_result"
    }
   ],
   "source": [
    "#Q8: What is the distance between Camp Randall Stadium and the Wisconsin State Capital?\n",
    "calculate_distance(43.070231,-89.411893,43.074645,-89.384113)"
   ]
  },
  {
   "cell_type": "code",
   "execution_count": 19,
   "metadata": {},
   "outputs": [],
   "source": [
    "def find_distance(country1,country2):\n",
    "    lat1 = float(capitals[(capitals['country'] == country1)]['latitude'])\n",
    "    lon1 = float(capitals[(capitals['country'] == country1)]['longitude'])\n",
    "    lat2 = float(capitals[(capitals['country'] == country2)]['latitude'])\n",
    "    lon2 = float(capitals[(capitals['country'] == country2)]['longitude'])\n",
    "    return calculate_distance(lat1,lon1,lat2,lon2)"
   ]
  },
  {
   "cell_type": "code",
   "execution_count": 20,
   "metadata": {},
   "outputs": [
    {
     "data": {
      "text/plain": [
       "520.8581822565818"
      ]
     },
     "execution_count": 20,
     "metadata": {},
     "output_type": "execute_result"
    }
   ],
   "source": [
    "#Q9: What is the distance between Germany and Norway?\n",
    "find_distance('Germany','Norway')"
   ]
  },
  {
   "cell_type": "code",
   "execution_count": 21,
   "metadata": {},
   "outputs": [],
   "source": [
    "\n",
    "def find_group_distance(list_1, *args):\n",
    "    df = DataFrame()\n",
    "    list_2 = list_1\n",
    "    for i in args:\n",
    "        list_2 = i\n",
    "    for i in list_2:\n",
    "        Distance_list = []\n",
    "        for j in list_1:\n",
    "            if i == j:\n",
    "                Distance_list.append('NaN')\n",
    "            else:\n",
    "                Distance_list.append(find_distance(i,j))\n",
    "        df[i] = Distance_list\n",
    "        df.set_index([list_1], inplace = True)\n",
    "    return df"
   ]
  },
  {
   "cell_type": "code",
   "execution_count": 22,
   "metadata": {},
   "outputs": [],
   "source": [
    "\n",
    "def find_group_distance_2(list_1, *args):\n",
    "    df = DataFrame()\n",
    "    list_2 = list_1\n",
    "    for i in args:\n",
    "        list_2 = i\n",
    "    for i in list_2:\n",
    "        Distance_list = []\n",
    "        for j in list_1:\n",
    "            if i == j:\n",
    "                Distance_list.append(None)\n",
    "            else:\n",
    "                Distance_list.append(find_distance(i,j))\n",
    "        df[i] = Distance_list\n",
    "        df.set_index([list_1], inplace = True)\n",
    "    return df"
   ]
  },
  {
   "cell_type": "code",
   "execution_count": 23,
   "metadata": {
    "scrolled": true
   },
   "outputs": [
    {
     "data": {
      "text/html": [
       "<div>\n",
       "<style scoped>\n",
       "    .dataframe tbody tr th:only-of-type {\n",
       "        vertical-align: middle;\n",
       "    }\n",
       "\n",
       "    .dataframe tbody tr th {\n",
       "        vertical-align: top;\n",
       "    }\n",
       "\n",
       "    .dataframe thead th {\n",
       "        text-align: right;\n",
       "    }\n",
       "</style>\n",
       "<table border=\"1\" class=\"dataframe\">\n",
       "  <thead>\n",
       "    <tr style=\"text-align: right;\">\n",
       "      <th></th>\n",
       "      <th>Switzerland</th>\n",
       "      <th>Netherlands</th>\n",
       "      <th>Spain</th>\n",
       "    </tr>\n",
       "  </thead>\n",
       "  <tbody>\n",
       "    <tr>\n",
       "      <th>Switzerland</th>\n",
       "      <td>NaN</td>\n",
       "      <td>392.029</td>\n",
       "      <td>714.804</td>\n",
       "    </tr>\n",
       "    <tr>\n",
       "      <th>Netherlands</th>\n",
       "      <td>392.029</td>\n",
       "      <td>NaN</td>\n",
       "      <td>919.684</td>\n",
       "    </tr>\n",
       "    <tr>\n",
       "      <th>Spain</th>\n",
       "      <td>714.804</td>\n",
       "      <td>919.684</td>\n",
       "      <td>NaN</td>\n",
       "    </tr>\n",
       "  </tbody>\n",
       "</table>\n",
       "</div>"
      ],
      "text/plain": [
       "            Switzerland Netherlands    Spain\n",
       "Switzerland         NaN     392.029  714.804\n",
       "Netherlands     392.029         NaN  919.684\n",
       "Spain           714.804     919.684      NaN"
      ]
     },
     "execution_count": 23,
     "metadata": {},
     "output_type": "execute_result"
    }
   ],
   "source": [
    "#Q10: What are the distances between Switzerland, Netherlands and Spain?\n",
    "find_group_distance(['Switzerland','Netherlands','Spain'])"
   ]
  },
  {
   "cell_type": "code",
   "execution_count": 24,
   "metadata": {},
   "outputs": [],
   "source": [
    "# def test_args(args, *haha):\n",
    "#     list_1 = []\n",
    "#     list_1.append(args)\n",
    "#     for i in haha:\n",
    "#         list_1 = [i]\n",
    "#     return list_1\n",
    "\n",
    "# test_args('a')"
   ]
  },
  {
   "cell_type": "code",
   "execution_count": 25,
   "metadata": {},
   "outputs": [
    {
     "data": {
      "text/html": [
       "<div>\n",
       "<style scoped>\n",
       "    .dataframe tbody tr th:only-of-type {\n",
       "        vertical-align: middle;\n",
       "    }\n",
       "\n",
       "    .dataframe tbody tr th {\n",
       "        vertical-align: top;\n",
       "    }\n",
       "\n",
       "    .dataframe thead th {\n",
       "        text-align: right;\n",
       "    }\n",
       "</style>\n",
       "<table border=\"1\" class=\"dataframe\">\n",
       "  <thead>\n",
       "    <tr style=\"text-align: right;\">\n",
       "      <th></th>\n",
       "      <th>Chile</th>\n",
       "      <th>Guyana</th>\n",
       "      <th>Colombia</th>\n",
       "      <th>Suriname</th>\n",
       "      <th>Brazil</th>\n",
       "      <th>Bolivia</th>\n",
       "      <th>Venezuela</th>\n",
       "      <th>Argentina</th>\n",
       "      <th>Peru</th>\n",
       "      <th>Ecuador</th>\n",
       "      <th>Uruguay</th>\n",
       "      <th>Paraguay</th>\n",
       "    </tr>\n",
       "  </thead>\n",
       "  <tbody>\n",
       "    <tr>\n",
       "      <th>Chile</th>\n",
       "      <td>NaN</td>\n",
       "      <td>2897.55</td>\n",
       "      <td>2636.64</td>\n",
       "      <td>2895.81</td>\n",
       "      <td>1869.74</td>\n",
       "      <td>1180.74</td>\n",
       "      <td>3043.66</td>\n",
       "      <td>690.784</td>\n",
       "      <td>1531.48</td>\n",
       "      <td>2350.21</td>\n",
       "      <td>833.403</td>\n",
       "      <td>963.636</td>\n",
       "    </tr>\n",
       "    <tr>\n",
       "      <th>Guyana</th>\n",
       "      <td>2897.55</td>\n",
       "      <td>NaN</td>\n",
       "      <td>1105.07</td>\n",
       "      <td>215.336</td>\n",
       "      <td>1709.07</td>\n",
       "      <td>1747.77</td>\n",
       "      <td>646.97</td>\n",
       "      <td>2857.52</td>\n",
       "      <td>1837.86</td>\n",
       "      <td>1483.19</td>\n",
       "      <td>2878.64</td>\n",
       "      <td>2214.29</td>\n",
       "    </tr>\n",
       "    <tr>\n",
       "      <th>Colombia</th>\n",
       "      <td>2636.64</td>\n",
       "      <td>1105.07</td>\n",
       "      <td>NaN</td>\n",
       "      <td>1303.41</td>\n",
       "      <td>2275.52</td>\n",
       "      <td>1512.12</td>\n",
       "      <td>639.361</td>\n",
       "      <td>2885.36</td>\n",
       "      <td>1167.51</td>\n",
       "      <td>451.004</td>\n",
       "      <td>2962.23</td>\n",
       "      <td>2337.62</td>\n",
       "    </tr>\n",
       "    <tr>\n",
       "      <th>Suriname</th>\n",
       "      <td>2895.81</td>\n",
       "      <td>215.336</td>\n",
       "      <td>1303.41</td>\n",
       "      <td>NaN</td>\n",
       "      <td>1572.67</td>\n",
       "      <td>1778.77</td>\n",
       "      <td>861.457</td>\n",
       "      <td>2799.89</td>\n",
       "      <td>1944.75</td>\n",
       "      <td>1661.7</td>\n",
       "      <td>2809.74</td>\n",
       "      <td>2153.86</td>\n",
       "    </tr>\n",
       "    <tr>\n",
       "      <th>Brazil</th>\n",
       "      <td>1869.74</td>\n",
       "      <td>1709.07</td>\n",
       "      <td>2275.52</td>\n",
       "      <td>1572.67</td>\n",
       "      <td>NaN</td>\n",
       "      <td>1342.3</td>\n",
       "      <td>2228.69</td>\n",
       "      <td>1459.14</td>\n",
       "      <td>1967.77</td>\n",
       "      <td>2344.58</td>\n",
       "      <td>1412.1</td>\n",
       "      <td>908.186</td>\n",
       "    </tr>\n",
       "    <tr>\n",
       "      <th>Bolivia</th>\n",
       "      <td>1180.74</td>\n",
       "      <td>1747.77</td>\n",
       "      <td>1512.12</td>\n",
       "      <td>1778.77</td>\n",
       "      <td>1342.3</td>\n",
       "      <td>NaN</td>\n",
       "      <td>1865.13</td>\n",
       "      <td>1379.46</td>\n",
       "      <td>669.926</td>\n",
       "      <td>1326.76</td>\n",
       "      <td>1467.25</td>\n",
       "      <td>906.799</td>\n",
       "    </tr>\n",
       "    <tr>\n",
       "      <th>Venezuela</th>\n",
       "      <td>3043.66</td>\n",
       "      <td>646.97</td>\n",
       "      <td>639.361</td>\n",
       "      <td>861.457</td>\n",
       "      <td>2228.69</td>\n",
       "      <td>1865.13</td>\n",
       "      <td>NaN</td>\n",
       "      <td>3157.62</td>\n",
       "      <td>1705.42</td>\n",
       "      <td>1088.06</td>\n",
       "      <td>3207.35</td>\n",
       "      <td>2544.8</td>\n",
       "    </tr>\n",
       "    <tr>\n",
       "      <th>Argentina</th>\n",
       "      <td>690.784</td>\n",
       "      <td>2857.52</td>\n",
       "      <td>2885.36</td>\n",
       "      <td>2799.89</td>\n",
       "      <td>1459.14</td>\n",
       "      <td>1379.46</td>\n",
       "      <td>3157.62</td>\n",
       "      <td>NaN</td>\n",
       "      <td>1936.47</td>\n",
       "      <td>2696.15</td>\n",
       "      <td>143.07</td>\n",
       "      <td>646.036</td>\n",
       "    </tr>\n",
       "    <tr>\n",
       "      <th>Peru</th>\n",
       "      <td>1531.48</td>\n",
       "      <td>1837.86</td>\n",
       "      <td>1167.51</td>\n",
       "      <td>1944.75</td>\n",
       "      <td>1967.77</td>\n",
       "      <td>669.926</td>\n",
       "      <td>1705.42</td>\n",
       "      <td>1936.47</td>\n",
       "      <td>NaN</td>\n",
       "      <td>823.054</td>\n",
       "      <td>2046.57</td>\n",
       "      <td>1558.64</td>\n",
       "    </tr>\n",
       "    <tr>\n",
       "      <th>Ecuador</th>\n",
       "      <td>2350.21</td>\n",
       "      <td>1483.19</td>\n",
       "      <td>451.004</td>\n",
       "      <td>1661.7</td>\n",
       "      <td>2344.58</td>\n",
       "      <td>1326.76</td>\n",
       "      <td>1088.06</td>\n",
       "      <td>2696.15</td>\n",
       "      <td>823.054</td>\n",
       "      <td>NaN</td>\n",
       "      <td>2791.2</td>\n",
       "      <td>2218.65</td>\n",
       "    </tr>\n",
       "    <tr>\n",
       "      <th>Uruguay</th>\n",
       "      <td>833.403</td>\n",
       "      <td>2878.64</td>\n",
       "      <td>2962.23</td>\n",
       "      <td>2809.74</td>\n",
       "      <td>1412.1</td>\n",
       "      <td>1467.25</td>\n",
       "      <td>3207.35</td>\n",
       "      <td>143.07</td>\n",
       "      <td>2046.57</td>\n",
       "      <td>2791.2</td>\n",
       "      <td>NaN</td>\n",
       "      <td>667.699</td>\n",
       "    </tr>\n",
       "    <tr>\n",
       "      <th>Paraguay</th>\n",
       "      <td>963.636</td>\n",
       "      <td>2214.29</td>\n",
       "      <td>2337.62</td>\n",
       "      <td>2153.86</td>\n",
       "      <td>908.186</td>\n",
       "      <td>906.799</td>\n",
       "      <td>2544.8</td>\n",
       "      <td>646.036</td>\n",
       "      <td>1558.64</td>\n",
       "      <td>2218.65</td>\n",
       "      <td>667.699</td>\n",
       "      <td>NaN</td>\n",
       "    </tr>\n",
       "  </tbody>\n",
       "</table>\n",
       "</div>"
      ],
      "text/plain": [
       "             Chile   Guyana Colombia Suriname   Brazil  Bolivia Venezuela  \\\n",
       "Chile          NaN  2897.55  2636.64  2895.81  1869.74  1180.74   3043.66   \n",
       "Guyana     2897.55      NaN  1105.07  215.336  1709.07  1747.77    646.97   \n",
       "Colombia   2636.64  1105.07      NaN  1303.41  2275.52  1512.12   639.361   \n",
       "Suriname   2895.81  215.336  1303.41      NaN  1572.67  1778.77   861.457   \n",
       "Brazil     1869.74  1709.07  2275.52  1572.67      NaN   1342.3   2228.69   \n",
       "Bolivia    1180.74  1747.77  1512.12  1778.77   1342.3      NaN   1865.13   \n",
       "Venezuela  3043.66   646.97  639.361  861.457  2228.69  1865.13       NaN   \n",
       "Argentina  690.784  2857.52  2885.36  2799.89  1459.14  1379.46   3157.62   \n",
       "Peru       1531.48  1837.86  1167.51  1944.75  1967.77  669.926   1705.42   \n",
       "Ecuador    2350.21  1483.19  451.004   1661.7  2344.58  1326.76   1088.06   \n",
       "Uruguay    833.403  2878.64  2962.23  2809.74   1412.1  1467.25   3207.35   \n",
       "Paraguay   963.636  2214.29  2337.62  2153.86  908.186  906.799    2544.8   \n",
       "\n",
       "          Argentina     Peru  Ecuador  Uruguay Paraguay  \n",
       "Chile       690.784  1531.48  2350.21  833.403  963.636  \n",
       "Guyana      2857.52  1837.86  1483.19  2878.64  2214.29  \n",
       "Colombia    2885.36  1167.51  451.004  2962.23  2337.62  \n",
       "Suriname    2799.89  1944.75   1661.7  2809.74  2153.86  \n",
       "Brazil      1459.14  1967.77  2344.58   1412.1  908.186  \n",
       "Bolivia     1379.46  669.926  1326.76  1467.25  906.799  \n",
       "Venezuela   3157.62  1705.42  1088.06  3207.35   2544.8  \n",
       "Argentina       NaN  1936.47  2696.15   143.07  646.036  \n",
       "Peru        1936.47      NaN  823.054  2046.57  1558.64  \n",
       "Ecuador     2696.15  823.054      NaN   2791.2  2218.65  \n",
       "Uruguay      143.07  2046.57   2791.2      NaN  667.699  \n",
       "Paraguay    646.036  1558.64  2218.65  667.699      NaN  "
      ]
     },
     "execution_count": 25,
     "metadata": {},
     "output_type": "execute_result"
    }
   ],
   "source": [
    "#Q11: What is the distance between every pair of countries in the South American continent?\n",
    "def select_countries(column,keyword):\n",
    "    return list(countries[(countries[column] == keyword)]['country'])\n",
    "sa_countries_d = find_group_distance(select_countries('continent','South America'))\n",
    "sa_countries_d"
   ]
  },
  {
   "cell_type": "code",
   "execution_count": 26,
   "metadata": {},
   "outputs": [],
   "source": [
    "#sa_countries_d.apply(lambda x: x.sum(), axis=1)\n",
    "def no_nan(a):\n",
    "    return not a == 'NaN'\n",
    "def new_avg(x):\n",
    "    return sum(list(filter(no_nan, x.tolist())))/len(list(filter(no_nan, x.tolist())))"
   ]
  },
  {
   "cell_type": "code",
   "execution_count": 27,
   "metadata": {},
   "outputs": [
    {
     "data": {
      "text/plain": [
       "'Bolivia'"
      ]
     },
     "execution_count": 27,
     "metadata": {},
     "output_type": "execute_result"
    }
   ],
   "source": [
    "#Q12: What is the most central country in the South American continent?\n",
    "sa_countries_d['Avg'] = sa_countries_d.apply(lambda x: new_avg(x), axis=1)\n",
    "# new_sa_countries_d.loc['Avg'] = new_sa_countries_d.apply(lambda x: new_sum(x))\n",
    "sa_countries_d['Avg'].sort_values(ascending = True).index[0]"
   ]
  },
  {
   "cell_type": "code",
   "execution_count": 28,
   "metadata": {},
   "outputs": [
    {
     "data": {
      "text/plain": [
       "'Uruguay'"
      ]
     },
     "execution_count": 28,
     "metadata": {},
     "output_type": "execute_result"
    }
   ],
   "source": [
    "#Q13: What is the least central country in South America?\n",
    "sa_countries_d['Avg'].sort_values(ascending = False).index[0]"
   ]
  },
  {
   "cell_type": "code",
   "execution_count": 29,
   "metadata": {},
   "outputs": [
    {
     "data": {
      "text/html": [
       "<div>\n",
       "<style scoped>\n",
       "    .dataframe tbody tr th:only-of-type {\n",
       "        vertical-align: middle;\n",
       "    }\n",
       "\n",
       "    .dataframe tbody tr th {\n",
       "        vertical-align: top;\n",
       "    }\n",
       "\n",
       "    .dataframe thead th {\n",
       "        text-align: right;\n",
       "    }\n",
       "</style>\n",
       "<table border=\"1\" class=\"dataframe\">\n",
       "  <thead>\n",
       "    <tr style=\"text-align: right;\">\n",
       "      <th></th>\n",
       "      <th>Chile</th>\n",
       "      <th>Guyana</th>\n",
       "      <th>Colombia</th>\n",
       "      <th>Suriname</th>\n",
       "      <th>Brazil</th>\n",
       "      <th>Bolivia</th>\n",
       "      <th>Venezuela</th>\n",
       "      <th>Argentina</th>\n",
       "      <th>Peru</th>\n",
       "      <th>Ecuador</th>\n",
       "      <th>Uruguay</th>\n",
       "      <th>Paraguay</th>\n",
       "      <th>Avg</th>\n",
       "    </tr>\n",
       "  </thead>\n",
       "  <tbody>\n",
       "    <tr>\n",
       "      <th>Chile</th>\n",
       "      <td>NaN</td>\n",
       "      <td>2897.553095</td>\n",
       "      <td>2636.644599</td>\n",
       "      <td>2895.810776</td>\n",
       "      <td>1869.737031</td>\n",
       "      <td>1180.741903</td>\n",
       "      <td>3043.657689</td>\n",
       "      <td>690.784168</td>\n",
       "      <td>1531.480189</td>\n",
       "      <td>2350.207788</td>\n",
       "      <td>833.403262</td>\n",
       "      <td>963.635535</td>\n",
       "      <td>NaN</td>\n",
       "    </tr>\n",
       "    <tr>\n",
       "      <th>Guyana</th>\n",
       "      <td>2897.553095</td>\n",
       "      <td>NaN</td>\n",
       "      <td>1105.066312</td>\n",
       "      <td>215.336336</td>\n",
       "      <td>1709.071018</td>\n",
       "      <td>1747.772670</td>\n",
       "      <td>646.969843</td>\n",
       "      <td>2857.520462</td>\n",
       "      <td>1837.860149</td>\n",
       "      <td>1483.193753</td>\n",
       "      <td>2878.638295</td>\n",
       "      <td>2214.288286</td>\n",
       "      <td>NaN</td>\n",
       "    </tr>\n",
       "    <tr>\n",
       "      <th>Colombia</th>\n",
       "      <td>2636.644599</td>\n",
       "      <td>1105.066312</td>\n",
       "      <td>NaN</td>\n",
       "      <td>1303.405134</td>\n",
       "      <td>2275.516286</td>\n",
       "      <td>1512.119255</td>\n",
       "      <td>639.361118</td>\n",
       "      <td>2885.355610</td>\n",
       "      <td>1167.505359</td>\n",
       "      <td>451.004119</td>\n",
       "      <td>2962.230943</td>\n",
       "      <td>2337.615967</td>\n",
       "      <td>NaN</td>\n",
       "    </tr>\n",
       "    <tr>\n",
       "      <th>Suriname</th>\n",
       "      <td>2895.810776</td>\n",
       "      <td>215.336336</td>\n",
       "      <td>1303.405134</td>\n",
       "      <td>NaN</td>\n",
       "      <td>1572.674232</td>\n",
       "      <td>1778.772975</td>\n",
       "      <td>861.456786</td>\n",
       "      <td>2799.886429</td>\n",
       "      <td>1944.750017</td>\n",
       "      <td>1661.699022</td>\n",
       "      <td>2809.744412</td>\n",
       "      <td>2153.855447</td>\n",
       "      <td>NaN</td>\n",
       "    </tr>\n",
       "    <tr>\n",
       "      <th>Brazil</th>\n",
       "      <td>1869.737031</td>\n",
       "      <td>1709.071018</td>\n",
       "      <td>2275.516286</td>\n",
       "      <td>1572.674232</td>\n",
       "      <td>NaN</td>\n",
       "      <td>1342.297074</td>\n",
       "      <td>2228.690679</td>\n",
       "      <td>1459.139733</td>\n",
       "      <td>1967.770515</td>\n",
       "      <td>2344.584922</td>\n",
       "      <td>1412.096335</td>\n",
       "      <td>908.185710</td>\n",
       "      <td>NaN</td>\n",
       "    </tr>\n",
       "    <tr>\n",
       "      <th>Bolivia</th>\n",
       "      <td>1180.741903</td>\n",
       "      <td>1747.772670</td>\n",
       "      <td>1512.119255</td>\n",
       "      <td>1778.772975</td>\n",
       "      <td>1342.297074</td>\n",
       "      <td>NaN</td>\n",
       "      <td>1865.131181</td>\n",
       "      <td>1379.455701</td>\n",
       "      <td>669.926372</td>\n",
       "      <td>1326.758656</td>\n",
       "      <td>1467.253638</td>\n",
       "      <td>906.799256</td>\n",
       "      <td>NaN</td>\n",
       "    </tr>\n",
       "    <tr>\n",
       "      <th>Venezuela</th>\n",
       "      <td>3043.657689</td>\n",
       "      <td>646.969843</td>\n",
       "      <td>639.361118</td>\n",
       "      <td>861.456786</td>\n",
       "      <td>2228.690679</td>\n",
       "      <td>1865.131181</td>\n",
       "      <td>NaN</td>\n",
       "      <td>3157.624051</td>\n",
       "      <td>1705.418003</td>\n",
       "      <td>1088.064117</td>\n",
       "      <td>3207.352176</td>\n",
       "      <td>2544.799572</td>\n",
       "      <td>NaN</td>\n",
       "    </tr>\n",
       "    <tr>\n",
       "      <th>Argentina</th>\n",
       "      <td>690.784168</td>\n",
       "      <td>2857.520462</td>\n",
       "      <td>2885.355610</td>\n",
       "      <td>2799.886429</td>\n",
       "      <td>1459.139733</td>\n",
       "      <td>1379.455701</td>\n",
       "      <td>3157.624051</td>\n",
       "      <td>NaN</td>\n",
       "      <td>1936.465790</td>\n",
       "      <td>2696.149591</td>\n",
       "      <td>143.069943</td>\n",
       "      <td>646.036441</td>\n",
       "      <td>NaN</td>\n",
       "    </tr>\n",
       "    <tr>\n",
       "      <th>Peru</th>\n",
       "      <td>1531.480189</td>\n",
       "      <td>1837.860149</td>\n",
       "      <td>1167.505359</td>\n",
       "      <td>1944.750017</td>\n",
       "      <td>1967.770515</td>\n",
       "      <td>669.926372</td>\n",
       "      <td>1705.418003</td>\n",
       "      <td>1936.465790</td>\n",
       "      <td>NaN</td>\n",
       "      <td>823.054491</td>\n",
       "      <td>2046.571589</td>\n",
       "      <td>1558.635236</td>\n",
       "      <td>NaN</td>\n",
       "    </tr>\n",
       "    <tr>\n",
       "      <th>Ecuador</th>\n",
       "      <td>2350.207788</td>\n",
       "      <td>1483.193753</td>\n",
       "      <td>451.004119</td>\n",
       "      <td>1661.699022</td>\n",
       "      <td>2344.584922</td>\n",
       "      <td>1326.758656</td>\n",
       "      <td>1088.064117</td>\n",
       "      <td>2696.149591</td>\n",
       "      <td>823.054491</td>\n",
       "      <td>NaN</td>\n",
       "      <td>2791.196721</td>\n",
       "      <td>2218.650964</td>\n",
       "      <td>NaN</td>\n",
       "    </tr>\n",
       "    <tr>\n",
       "      <th>Uruguay</th>\n",
       "      <td>833.403262</td>\n",
       "      <td>2878.638295</td>\n",
       "      <td>2962.230943</td>\n",
       "      <td>2809.744412</td>\n",
       "      <td>1412.096335</td>\n",
       "      <td>1467.253638</td>\n",
       "      <td>3207.352176</td>\n",
       "      <td>143.069943</td>\n",
       "      <td>2046.571589</td>\n",
       "      <td>2791.196721</td>\n",
       "      <td>NaN</td>\n",
       "      <td>667.699386</td>\n",
       "      <td>NaN</td>\n",
       "    </tr>\n",
       "    <tr>\n",
       "      <th>Paraguay</th>\n",
       "      <td>963.635535</td>\n",
       "      <td>2214.288286</td>\n",
       "      <td>2337.615967</td>\n",
       "      <td>2153.855447</td>\n",
       "      <td>908.185710</td>\n",
       "      <td>906.799256</td>\n",
       "      <td>2544.799572</td>\n",
       "      <td>646.036441</td>\n",
       "      <td>1558.635236</td>\n",
       "      <td>2218.650964</td>\n",
       "      <td>667.699386</td>\n",
       "      <td>NaN</td>\n",
       "      <td>NaN</td>\n",
       "    </tr>\n",
       "  </tbody>\n",
       "</table>\n",
       "</div>"
      ],
      "text/plain": [
       "                 Chile       Guyana     Colombia     Suriname       Brazil  \\\n",
       "Chile              NaN  2897.553095  2636.644599  2895.810776  1869.737031   \n",
       "Guyana     2897.553095          NaN  1105.066312   215.336336  1709.071018   \n",
       "Colombia   2636.644599  1105.066312          NaN  1303.405134  2275.516286   \n",
       "Suriname   2895.810776   215.336336  1303.405134          NaN  1572.674232   \n",
       "Brazil     1869.737031  1709.071018  2275.516286  1572.674232          NaN   \n",
       "Bolivia    1180.741903  1747.772670  1512.119255  1778.772975  1342.297074   \n",
       "Venezuela  3043.657689   646.969843   639.361118   861.456786  2228.690679   \n",
       "Argentina   690.784168  2857.520462  2885.355610  2799.886429  1459.139733   \n",
       "Peru       1531.480189  1837.860149  1167.505359  1944.750017  1967.770515   \n",
       "Ecuador    2350.207788  1483.193753   451.004119  1661.699022  2344.584922   \n",
       "Uruguay     833.403262  2878.638295  2962.230943  2809.744412  1412.096335   \n",
       "Paraguay    963.635535  2214.288286  2337.615967  2153.855447   908.185710   \n",
       "\n",
       "               Bolivia    Venezuela    Argentina         Peru      Ecuador  \\\n",
       "Chile      1180.741903  3043.657689   690.784168  1531.480189  2350.207788   \n",
       "Guyana     1747.772670   646.969843  2857.520462  1837.860149  1483.193753   \n",
       "Colombia   1512.119255   639.361118  2885.355610  1167.505359   451.004119   \n",
       "Suriname   1778.772975   861.456786  2799.886429  1944.750017  1661.699022   \n",
       "Brazil     1342.297074  2228.690679  1459.139733  1967.770515  2344.584922   \n",
       "Bolivia            NaN  1865.131181  1379.455701   669.926372  1326.758656   \n",
       "Venezuela  1865.131181          NaN  3157.624051  1705.418003  1088.064117   \n",
       "Argentina  1379.455701  3157.624051          NaN  1936.465790  2696.149591   \n",
       "Peru        669.926372  1705.418003  1936.465790          NaN   823.054491   \n",
       "Ecuador    1326.758656  1088.064117  2696.149591   823.054491          NaN   \n",
       "Uruguay    1467.253638  3207.352176   143.069943  2046.571589  2791.196721   \n",
       "Paraguay    906.799256  2544.799572   646.036441  1558.635236  2218.650964   \n",
       "\n",
       "               Uruguay     Paraguay  Avg  \n",
       "Chile       833.403262   963.635535  NaN  \n",
       "Guyana     2878.638295  2214.288286  NaN  \n",
       "Colombia   2962.230943  2337.615967  NaN  \n",
       "Suriname   2809.744412  2153.855447  NaN  \n",
       "Brazil     1412.096335   908.185710  NaN  \n",
       "Bolivia    1467.253638   906.799256  NaN  \n",
       "Venezuela  3207.352176  2544.799572  NaN  \n",
       "Argentina   143.069943   646.036441  NaN  \n",
       "Peru       2046.571589  1558.635236  NaN  \n",
       "Ecuador    2791.196721  2218.650964  NaN  \n",
       "Uruguay            NaN   667.699386  NaN  \n",
       "Paraguay    667.699386          NaN  NaN  "
      ]
     },
     "execution_count": 29,
     "metadata": {},
     "output_type": "execute_result"
    }
   ],
   "source": [
    "sa_countries_d_2 = find_group_distance_2(select_countries('continent','South America'))\n",
    "sa_countries_d_2['Avg'] = sa_countries_d_2.apply(lambda x: new_avg(x), axis=1)\n",
    "sa_countries_d_2"
   ]
  },
  {
   "cell_type": "code",
   "execution_count": 30,
   "metadata": {},
   "outputs": [],
   "source": [
    "def find_neighbor(distance):\n",
    "    sa_countries = select_countries('continent','South America')\n",
    "    df = DataFrame()\n",
    "    idx = []\n",
    "    value = []\n",
    "    if distance == 'nearest':\n",
    "        for i in sa_countries:\n",
    "            idx.append(sa_countries_d_2[i].idxmin())\n",
    "            value.append(sa_countries_d_2[i].min())\n",
    "        df['nearest'] = idx\n",
    "        df['distance'] = value\n",
    "        df.set_index([sa_countries], inplace = True)\n",
    "    elif distance == 'furthest':\n",
    "        for i in sa_countries:\n",
    "            idx.append(sa_countries_d_2[i].idxmax())\n",
    "            value.append(sa_countries_d_2[i].max())\n",
    "        df['furthest'] = idx\n",
    "        df['distance'] = value\n",
    "        df.set_index([sa_countries], inplace = True)\n",
    "    else:\n",
    "        print('Wrong Input')\n",
    "    return df\n"
   ]
  },
  {
   "cell_type": "code",
   "execution_count": 31,
   "metadata": {},
   "outputs": [
    {
     "data": {
      "text/html": [
       "<div>\n",
       "<style scoped>\n",
       "    .dataframe tbody tr th:only-of-type {\n",
       "        vertical-align: middle;\n",
       "    }\n",
       "\n",
       "    .dataframe tbody tr th {\n",
       "        vertical-align: top;\n",
       "    }\n",
       "\n",
       "    .dataframe thead th {\n",
       "        text-align: right;\n",
       "    }\n",
       "</style>\n",
       "<table border=\"1\" class=\"dataframe\">\n",
       "  <thead>\n",
       "    <tr style=\"text-align: right;\">\n",
       "      <th></th>\n",
       "      <th>nearest</th>\n",
       "      <th>distance</th>\n",
       "    </tr>\n",
       "  </thead>\n",
       "  <tbody>\n",
       "    <tr>\n",
       "      <th>Chile</th>\n",
       "      <td>Argentina</td>\n",
       "      <td>690.784168</td>\n",
       "    </tr>\n",
       "    <tr>\n",
       "      <th>Guyana</th>\n",
       "      <td>Suriname</td>\n",
       "      <td>215.336336</td>\n",
       "    </tr>\n",
       "    <tr>\n",
       "      <th>Colombia</th>\n",
       "      <td>Ecuador</td>\n",
       "      <td>451.004119</td>\n",
       "    </tr>\n",
       "    <tr>\n",
       "      <th>Suriname</th>\n",
       "      <td>Guyana</td>\n",
       "      <td>215.336336</td>\n",
       "    </tr>\n",
       "    <tr>\n",
       "      <th>Brazil</th>\n",
       "      <td>Paraguay</td>\n",
       "      <td>908.185710</td>\n",
       "    </tr>\n",
       "    <tr>\n",
       "      <th>Bolivia</th>\n",
       "      <td>Peru</td>\n",
       "      <td>669.926372</td>\n",
       "    </tr>\n",
       "    <tr>\n",
       "      <th>Venezuela</th>\n",
       "      <td>Colombia</td>\n",
       "      <td>639.361118</td>\n",
       "    </tr>\n",
       "    <tr>\n",
       "      <th>Argentina</th>\n",
       "      <td>Uruguay</td>\n",
       "      <td>143.069943</td>\n",
       "    </tr>\n",
       "    <tr>\n",
       "      <th>Peru</th>\n",
       "      <td>Bolivia</td>\n",
       "      <td>669.926372</td>\n",
       "    </tr>\n",
       "    <tr>\n",
       "      <th>Ecuador</th>\n",
       "      <td>Colombia</td>\n",
       "      <td>451.004119</td>\n",
       "    </tr>\n",
       "    <tr>\n",
       "      <th>Uruguay</th>\n",
       "      <td>Argentina</td>\n",
       "      <td>143.069943</td>\n",
       "    </tr>\n",
       "    <tr>\n",
       "      <th>Paraguay</th>\n",
       "      <td>Argentina</td>\n",
       "      <td>646.036441</td>\n",
       "    </tr>\n",
       "  </tbody>\n",
       "</table>\n",
       "</div>"
      ],
      "text/plain": [
       "             nearest    distance\n",
       "Chile      Argentina  690.784168\n",
       "Guyana      Suriname  215.336336\n",
       "Colombia     Ecuador  451.004119\n",
       "Suriname      Guyana  215.336336\n",
       "Brazil      Paraguay  908.185710\n",
       "Bolivia         Peru  669.926372\n",
       "Venezuela   Colombia  639.361118\n",
       "Argentina    Uruguay  143.069943\n",
       "Peru         Bolivia  669.926372\n",
       "Ecuador     Colombia  451.004119\n",
       "Uruguay    Argentina  143.069943\n",
       "Paraguay   Argentina  646.036441"
      ]
     },
     "execution_count": 31,
     "metadata": {},
     "output_type": "execute_result"
    }
   ],
   "source": [
    "#Q14: How close is each country in South America to it's nearest neighbor?\n",
    "find_neighbor('nearest')"
   ]
  },
  {
   "cell_type": "code",
   "execution_count": 32,
   "metadata": {},
   "outputs": [
    {
     "data": {
      "text/html": [
       "<div>\n",
       "<style scoped>\n",
       "    .dataframe tbody tr th:only-of-type {\n",
       "        vertical-align: middle;\n",
       "    }\n",
       "\n",
       "    .dataframe tbody tr th {\n",
       "        vertical-align: top;\n",
       "    }\n",
       "\n",
       "    .dataframe thead th {\n",
       "        text-align: right;\n",
       "    }\n",
       "</style>\n",
       "<table border=\"1\" class=\"dataframe\">\n",
       "  <thead>\n",
       "    <tr style=\"text-align: right;\">\n",
       "      <th></th>\n",
       "      <th>furthest</th>\n",
       "      <th>distance</th>\n",
       "    </tr>\n",
       "  </thead>\n",
       "  <tbody>\n",
       "    <tr>\n",
       "      <th>Chile</th>\n",
       "      <td>Venezuela</td>\n",
       "      <td>3043.657689</td>\n",
       "    </tr>\n",
       "    <tr>\n",
       "      <th>Guyana</th>\n",
       "      <td>Chile</td>\n",
       "      <td>2897.553095</td>\n",
       "    </tr>\n",
       "    <tr>\n",
       "      <th>Colombia</th>\n",
       "      <td>Uruguay</td>\n",
       "      <td>2962.230943</td>\n",
       "    </tr>\n",
       "    <tr>\n",
       "      <th>Suriname</th>\n",
       "      <td>Chile</td>\n",
       "      <td>2895.810776</td>\n",
       "    </tr>\n",
       "    <tr>\n",
       "      <th>Brazil</th>\n",
       "      <td>Ecuador</td>\n",
       "      <td>2344.584922</td>\n",
       "    </tr>\n",
       "    <tr>\n",
       "      <th>Bolivia</th>\n",
       "      <td>Venezuela</td>\n",
       "      <td>1865.131181</td>\n",
       "    </tr>\n",
       "    <tr>\n",
       "      <th>Venezuela</th>\n",
       "      <td>Uruguay</td>\n",
       "      <td>3207.352176</td>\n",
       "    </tr>\n",
       "    <tr>\n",
       "      <th>Argentina</th>\n",
       "      <td>Venezuela</td>\n",
       "      <td>3157.624051</td>\n",
       "    </tr>\n",
       "    <tr>\n",
       "      <th>Peru</th>\n",
       "      <td>Uruguay</td>\n",
       "      <td>2046.571589</td>\n",
       "    </tr>\n",
       "    <tr>\n",
       "      <th>Ecuador</th>\n",
       "      <td>Uruguay</td>\n",
       "      <td>2791.196721</td>\n",
       "    </tr>\n",
       "    <tr>\n",
       "      <th>Uruguay</th>\n",
       "      <td>Venezuela</td>\n",
       "      <td>3207.352176</td>\n",
       "    </tr>\n",
       "    <tr>\n",
       "      <th>Paraguay</th>\n",
       "      <td>Venezuela</td>\n",
       "      <td>2544.799572</td>\n",
       "    </tr>\n",
       "  </tbody>\n",
       "</table>\n",
       "</div>"
      ],
      "text/plain": [
       "            furthest     distance\n",
       "Chile      Venezuela  3043.657689\n",
       "Guyana         Chile  2897.553095\n",
       "Colombia     Uruguay  2962.230943\n",
       "Suriname       Chile  2895.810776\n",
       "Brazil       Ecuador  2344.584922\n",
       "Bolivia    Venezuela  1865.131181\n",
       "Venezuela    Uruguay  3207.352176\n",
       "Argentina  Venezuela  3157.624051\n",
       "Peru         Uruguay  2046.571589\n",
       "Ecuador      Uruguay  2791.196721\n",
       "Uruguay    Venezuela  3207.352176\n",
       "Paraguay   Venezuela  2544.799572"
      ]
     },
     "execution_count": 32,
     "metadata": {},
     "output_type": "execute_result"
    }
   ],
   "source": [
    "#Q15: How far is each country in South America to it's furthest neighbor?\n",
    "find_neighbor('furthest')"
   ]
  },
  {
   "cell_type": "code",
   "execution_count": 33,
   "metadata": {},
   "outputs": [],
   "source": [
    "import sqlite3\n",
    "conn = sqlite3.connect('countries.db')\n",
    "countries.to_sql(\"countries\", conn, if_exists=\"replace\", index=False)\n",
    "capitals.to_sql(\"capitals\", conn, if_exists=\"replace\", index=False)\n",
    "\n",
    "# remember to do conn.close() at the end of your notebook"
   ]
  },
  {
   "cell_type": "code",
   "execution_count": 34,
   "metadata": {},
   "outputs": [
    {
     "data": {
      "text/html": [
       "<div>\n",
       "<style scoped>\n",
       "    .dataframe tbody tr th:only-of-type {\n",
       "        vertical-align: middle;\n",
       "    }\n",
       "\n",
       "    .dataframe tbody tr th {\n",
       "        vertical-align: top;\n",
       "    }\n",
       "\n",
       "    .dataframe thead th {\n",
       "        text-align: right;\n",
       "    }\n",
       "</style>\n",
       "<table border=\"1\" class=\"dataframe\">\n",
       "  <thead>\n",
       "    <tr style=\"text-align: right;\">\n",
       "      <th></th>\n",
       "      <th>continent</th>\n",
       "      <th>number of countries</th>\n",
       "    </tr>\n",
       "  </thead>\n",
       "  <tbody>\n",
       "    <tr>\n",
       "      <th>0</th>\n",
       "      <td>Australia</td>\n",
       "      <td>12</td>\n",
       "    </tr>\n",
       "    <tr>\n",
       "      <th>1</th>\n",
       "      <td>South America</td>\n",
       "      <td>12</td>\n",
       "    </tr>\n",
       "    <tr>\n",
       "      <th>2</th>\n",
       "      <td>North America</td>\n",
       "      <td>24</td>\n",
       "    </tr>\n",
       "    <tr>\n",
       "      <th>3</th>\n",
       "      <td>Asia</td>\n",
       "      <td>38</td>\n",
       "    </tr>\n",
       "    <tr>\n",
       "      <th>4</th>\n",
       "      <td>Europe</td>\n",
       "      <td>41</td>\n",
       "    </tr>\n",
       "    <tr>\n",
       "      <th>5</th>\n",
       "      <td>Africa</td>\n",
       "      <td>47</td>\n",
       "    </tr>\n",
       "  </tbody>\n",
       "</table>\n",
       "</div>"
      ],
      "text/plain": [
       "       continent  number of countries\n",
       "0      Australia                   12\n",
       "1  South America                   12\n",
       "2  North America                   24\n",
       "3           Asia                   38\n",
       "4         Europe                   41\n",
       "5         Africa                   47"
      ]
     },
     "execution_count": 34,
     "metadata": {},
     "output_type": "execute_result"
    }
   ],
   "source": [
    "#Q16: In our dataset, how many countries are in each continent?\n",
    "select = lambda x:pd.read_sql(x,conn)\n",
    "sort_contries = select('''\n",
    "SELECT continent, COUNT(*) AS `number of countries`\n",
    "FROM countries\n",
    "GROUP BY continent\n",
    "ORDER BY COUNT(*)\n",
    "''')\n",
    "sort_contries"
   ]
  },
  {
   "cell_type": "code",
   "execution_count": 35,
   "metadata": {},
   "outputs": [],
   "source": [
    "def qry(sql):\n",
    "    return pd.read_sql(sql, conn)"
   ]
  },
  {
   "cell_type": "code",
   "execution_count": 36,
   "metadata": {},
   "outputs": [],
   "source": [
    "%matplotlib inline\n",
    "import matplotlib.pyplot as plt"
   ]
  },
  {
   "cell_type": "code",
   "execution_count": 37,
   "metadata": {},
   "outputs": [],
   "source": [
    "def pl_qr(xlabel,ylabel,s):\n",
    "    continents=s[xlabel]\n",
    "    num_of_countries=s[ylabel]\n",
    "    d={}\n",
    "    for idx in range(len(s)):\n",
    "        d[continents[idx]]=num_of_countries[idx]\n",
    "    se6=pd.Series(d)\n",
    "    p=se6.plot.bar(color = 'k')\n",
    "    p.set_ylabel(ylabel)\n",
    "    p.set_xlabel(xlabel)"
   ]
  },
  {
   "cell_type": "code",
   "execution_count": 38,
   "metadata": {},
   "outputs": [
    {
     "data": {
      "image/png": "[encoded data removed]",
      "text/plain": [
       "<Figure size 432x288 with 1 Axes>"
      ]
     },
     "metadata": {
      "needs_background": "light"
     },
     "output_type": "display_data"
    }
   ],
   "source": [
    "#Q17: How many countries are in each continent? (answer with a plot)\n",
    "pl_qr(\"continent\",\"number of countries\",sort_contries)"
   ]
  },
  {
   "cell_type": "code",
   "execution_count": 39,
   "metadata": {},
   "outputs": [
    {
     "data": {
      "text/html": [
       "<div>\n",
       "<style scoped>\n",
       "    .dataframe tbody tr th:only-of-type {\n",
       "        vertical-align: middle;\n",
       "    }\n",
       "\n",
       "    .dataframe tbody tr th {\n",
       "        vertical-align: top;\n",
       "    }\n",
       "\n",
       "    .dataframe thead th {\n",
       "        text-align: right;\n",
       "    }\n",
       "</style>\n",
       "<table border=\"1\" class=\"dataframe\">\n",
       "  <thead>\n",
       "    <tr style=\"text-align: right;\">\n",
       "      <th></th>\n",
       "      <th>continent</th>\n",
       "      <th>total area</th>\n",
       "    </tr>\n",
       "  </thead>\n",
       "  <tbody>\n",
       "    <tr>\n",
       "      <th>0</th>\n",
       "      <td>Asia</td>\n",
       "      <td>29731231</td>\n",
       "    </tr>\n",
       "    <tr>\n",
       "      <th>1</th>\n",
       "      <td>Africa</td>\n",
       "      <td>25199550</td>\n",
       "    </tr>\n",
       "    <tr>\n",
       "      <th>2</th>\n",
       "      <td>Europe</td>\n",
       "      <td>23708430</td>\n",
       "    </tr>\n",
       "    <tr>\n",
       "      <th>3</th>\n",
       "      <td>North America</td>\n",
       "      <td>22327685</td>\n",
       "    </tr>\n",
       "    <tr>\n",
       "      <th>4</th>\n",
       "      <td>South America</td>\n",
       "      <td>17715335</td>\n",
       "    </tr>\n",
       "    <tr>\n",
       "      <th>5</th>\n",
       "      <td>Australia</td>\n",
       "      <td>8488612</td>\n",
       "    </tr>\n",
       "  </tbody>\n",
       "</table>\n",
       "</div>"
      ],
      "text/plain": [
       "       continent  total area\n",
       "0           Asia    29731231\n",
       "1         Africa    25199550\n",
       "2         Europe    23708430\n",
       "3  North America    22327685\n",
       "4  South America    17715335\n",
       "5      Australia     8488612"
      ]
     },
     "execution_count": 39,
     "metadata": {},
     "output_type": "execute_result"
    }
   ],
   "source": [
    "#Q18: What is the total area of each continent?\n",
    "total_area = select('''\n",
    "SELECT continent, SUM(area) AS `total area`\n",
    "FROM countries\n",
    "GROUP BY continent\n",
    "ORDER BY SUM(area) DESC\n",
    "''')\n",
    "\n",
    "total_area"
   ]
  },
  {
   "cell_type": "code",
   "execution_count": 40,
   "metadata": {},
   "outputs": [
    {
     "data": {
      "image/png": "[encoded data removed]",
      "text/plain": [
       "<Figure size 432x288 with 1 Axes>"
      ]
     },
     "metadata": {
      "needs_background": "light"
     },
     "output_type": "display_data"
    }
   ],
   "source": [
    "#Q19: What is the total area of each continent? (answer with a plot)\n",
    "pl_qr(\"continent\",\"total area\",total_area)"
   ]
  },
  {
   "cell_type": "code",
   "execution_count": 41,
   "metadata": {},
   "outputs": [
    {
     "data": {
      "text/html": [
       "<div>\n",
       "<style scoped>\n",
       "    .dataframe tbody tr th:only-of-type {\n",
       "        vertical-align: middle;\n",
       "    }\n",
       "\n",
       "    .dataframe tbody tr th {\n",
       "        vertical-align: top;\n",
       "    }\n",
       "\n",
       "    .dataframe thead th {\n",
       "        text-align: right;\n",
       "    }\n",
       "</style>\n",
       "<table border=\"1\" class=\"dataframe\">\n",
       "  <thead>\n",
       "    <tr style=\"text-align: right;\">\n",
       "      <th></th>\n",
       "      <th>country</th>\n",
       "      <th>area</th>\n",
       "    </tr>\n",
       "  </thead>\n",
       "  <tbody>\n",
       "    <tr>\n",
       "      <th>0</th>\n",
       "      <td>Brazil</td>\n",
       "      <td>8511965</td>\n",
       "    </tr>\n",
       "    <tr>\n",
       "      <th>1</th>\n",
       "      <td>Argentina</td>\n",
       "      <td>2766890</td>\n",
       "    </tr>\n",
       "    <tr>\n",
       "      <th>2</th>\n",
       "      <td>Peru</td>\n",
       "      <td>1285220</td>\n",
       "    </tr>\n",
       "    <tr>\n",
       "      <th>3</th>\n",
       "      <td>Colombia</td>\n",
       "      <td>1138910</td>\n",
       "    </tr>\n",
       "    <tr>\n",
       "      <th>4</th>\n",
       "      <td>Bolivia</td>\n",
       "      <td>1098580</td>\n",
       "    </tr>\n",
       "    <tr>\n",
       "      <th>5</th>\n",
       "      <td>Venezuela</td>\n",
       "      <td>912050</td>\n",
       "    </tr>\n",
       "    <tr>\n",
       "      <th>6</th>\n",
       "      <td>Chile</td>\n",
       "      <td>756950</td>\n",
       "    </tr>\n",
       "    <tr>\n",
       "      <th>7</th>\n",
       "      <td>Paraguay</td>\n",
       "      <td>406750</td>\n",
       "    </tr>\n",
       "    <tr>\n",
       "      <th>8</th>\n",
       "      <td>Ecuador</td>\n",
       "      <td>283560</td>\n",
       "    </tr>\n",
       "    <tr>\n",
       "      <th>9</th>\n",
       "      <td>Guyana</td>\n",
       "      <td>214970</td>\n",
       "    </tr>\n",
       "    <tr>\n",
       "      <th>10</th>\n",
       "      <td>Uruguay</td>\n",
       "      <td>176220</td>\n",
       "    </tr>\n",
       "    <tr>\n",
       "      <th>11</th>\n",
       "      <td>Suriname</td>\n",
       "      <td>163270</td>\n",
       "    </tr>\n",
       "  </tbody>\n",
       "</table>\n",
       "</div>"
      ],
      "text/plain": [
       "      country     area\n",
       "0      Brazil  8511965\n",
       "1   Argentina  2766890\n",
       "2        Peru  1285220\n",
       "3    Colombia  1138910\n",
       "4     Bolivia  1098580\n",
       "5   Venezuela   912050\n",
       "6       Chile   756950\n",
       "7    Paraguay   406750\n",
       "8     Ecuador   283560\n",
       "9      Guyana   214970\n",
       "10    Uruguay   176220\n",
       "11   Suriname   163270"
      ]
     },
     "execution_count": 41,
     "metadata": {},
     "output_type": "execute_result"
    }
   ],
   "source": [
    "#Q20: What is the area of each country in South America?\n",
    "select('''\n",
    "SELECT country, SUM(area) as `area`\n",
    "FROM countries\n",
    "WHERE continent = \"South America\"\n",
    "GROUP BY country\n",
    "ORDER BY SUM(area) DESC\n",
    "''')"
   ]
  },
  {
   "cell_type": "code",
   "execution_count": 42,
   "metadata": {},
   "outputs": [
    {
     "data": {
      "text/html": [
       "<div>\n",
       "<style scoped>\n",
       "    .dataframe tbody tr th:only-of-type {\n",
       "        vertical-align: middle;\n",
       "    }\n",
       "\n",
       "    .dataframe tbody tr th {\n",
       "        vertical-align: top;\n",
       "    }\n",
       "\n",
       "    .dataframe thead th {\n",
       "        text-align: right;\n",
       "    }\n",
       "</style>\n",
       "<table border=\"1\" class=\"dataframe\">\n",
       "  <thead>\n",
       "    <tr style=\"text-align: right;\">\n",
       "      <th></th>\n",
       "      <th>country</th>\n",
       "      <th>real GDP (billion)</th>\n",
       "    </tr>\n",
       "  </thead>\n",
       "  <tbody>\n",
       "    <tr>\n",
       "      <th>0</th>\n",
       "      <td>United States</td>\n",
       "      <td>11281.191327</td>\n",
       "    </tr>\n",
       "    <tr>\n",
       "      <th>1</th>\n",
       "      <td>China</td>\n",
       "      <td>6569.868565</td>\n",
       "    </tr>\n",
       "    <tr>\n",
       "      <th>2</th>\n",
       "      <td>Japan</td>\n",
       "      <td>3594.473830</td>\n",
       "    </tr>\n",
       "    <tr>\n",
       "      <th>3</th>\n",
       "      <td>India</td>\n",
       "      <td>3176.520785</td>\n",
       "    </tr>\n",
       "    <tr>\n",
       "      <th>4</th>\n",
       "      <td>Germany</td>\n",
       "      <td>2274.855452</td>\n",
       "    </tr>\n",
       "    <tr>\n",
       "      <th>5</th>\n",
       "      <td>France</td>\n",
       "      <td>1680.181354</td>\n",
       "    </tr>\n",
       "    <tr>\n",
       "      <th>6</th>\n",
       "      <td>United Kingdom</td>\n",
       "      <td>1678.873538</td>\n",
       "    </tr>\n",
       "    <tr>\n",
       "      <th>7</th>\n",
       "      <td>Italy</td>\n",
       "      <td>1552.164690</td>\n",
       "    </tr>\n",
       "  </tbody>\n",
       "</table>\n",
       "</div>"
      ],
      "text/plain": [
       "          country  real GDP (billion)\n",
       "0   United States        11281.191327\n",
       "1           China         6569.868565\n",
       "2           Japan         3594.473830\n",
       "3           India         3176.520785\n",
       "4         Germany         2274.855452\n",
       "5          France         1680.181354\n",
       "6  United Kingdom         1678.873538\n",
       "7           Italy         1552.164690"
      ]
     },
     "execution_count": 42,
     "metadata": {},
     "output_type": "execute_result"
    }
   ],
   "source": [
    "#Q21: What are the top 8 countries that have the largest real GDP?\n",
    "GDP = select('''\n",
    "SELECT country, population * \"gdp-per-capita\"/1000000000.0 AS `real GDP (billion)`\n",
    "FROM countries\n",
    "GROUP BY country\n",
    "ORDER BY population * \"gdp-per-capita\" DESC\n",
    "LIMIT 8\n",
    "''')\n",
    "\n",
    "GDP"
   ]
  },
  {
   "cell_type": "code",
   "execution_count": 43,
   "metadata": {},
   "outputs": [
    {
     "data": {
      "image/png": "[encoded data removed]",
      "text/plain": [
       "<Figure size 432x288 with 1 Axes>"
      ]
     },
     "metadata": {
      "needs_background": "light"
     },
     "output_type": "display_data"
    }
   ],
   "source": [
    "#Q22: What are the top 8 countries that have the largest real GDP? (answer with a plot)\n",
    "others = qry('''\n",
    "SELECT country, population * \"gdp-per-capita\"/1000000000.0 AS `real GDP (billion)`\n",
    "FROM countries\n",
    "GROUP BY country\n",
    "ORDER BY population * \"gdp-per-capita\" DESC\n",
    "''')[11:].sum()\n",
    "others_GDP=[\"other\", others.iloc[1]]\n",
    "GDP.loc[8] = others_GDP\n",
    "pl_qr('country','real GDP (billion)', GDP)"
   ]
  },
  {
   "cell_type": "code",
   "execution_count": 44,
   "metadata": {},
   "outputs": [
    {
     "data": {
      "image/png": "[encoded data removed]",
      "text/plain": [
       "<Figure size 432x288 with 1 Axes>"
      ]
     },
     "metadata": {
      "needs_background": "light"
     },
     "output_type": "display_data"
    }
   ],
   "source": [
    "#Q23: What is the relationship between GDP per capita and net-migration?\n",
    "def scatter(x,y,xlable,ylable):\n",
    "    plt.scatter(x, y, s=15, c=\"k\")\n",
    "    plt.xlabel(xlable)\n",
    "    plt.ylabel(ylable)\n",
    "    plt.show()\n",
    "GDP_net_migration = select('''\n",
    "SELECT \"gdp-per-capita\" , \"net-migration\"\n",
    "FROM countries\n",
    "GROUP BY country\n",
    "ORDER BY \"gdp-per-capita\" , \"net-migration\"\n",
    "''')\n",
    "\n",
    "scatter(GDP_net_migration[\"gdp-per-capita\"], GDP_net_migration[\"net-migration\"],\"gdp-per-capita\" , \"net-migration\")"
   ]
  },
  {
   "cell_type": "code",
   "execution_count": 45,
   "metadata": {},
   "outputs": [
    {
     "data": {
      "text/plain": [
       "0.45232113250112843"
      ]
     },
     "execution_count": 45,
     "metadata": {},
     "output_type": "execute_result"
    }
   ],
   "source": [
    "#Q24: What is the correlation between GDP per capita and net-migration?\n",
    "GDP_net_migration.corr()['net-migration'].to_list()[0]\n",
    "#r.corr(method = \"pearson\")[\"birth-rate\"].to_list()[1]"
   ]
  },
  {
   "cell_type": "code",
   "execution_count": 46,
   "metadata": {},
   "outputs": [
    {
     "data": {
      "image/png": "[encoded data removed]",
      "text/plain": [
       "<Figure size 432x288 with 1 Axes>"
      ]
     },
     "metadata": {
      "needs_background": "light"
     },
     "output_type": "display_data"
    }
   ],
   "source": [
    "#Q25: What is the relationship between GDP per capita and death rates?:\n",
    "GDP_death_rates = select('''\n",
    "SELECT \"gdp-per-capita\" , \"death-rate\"\n",
    "FROM countries\n",
    "GROUP BY country\n",
    "ORDER BY \"gdp-per-capita\" , \"death-rates\"\n",
    "''')\n",
    "scatter(GDP_death_rates[\"gdp-per-capita\"], GDP_death_rates[\"death-rate\"],\"gdp-per-capita\" , \"death-rate\")"
   ]
  },
  {
   "cell_type": "code",
   "execution_count": 47,
   "metadata": {},
   "outputs": [
    {
     "data": {
      "image/png": "[encoded data removed]",
      "text/plain": [
       "<Figure size 432x288 with 1 Axes>"
      ]
     },
     "metadata": {
      "needs_background": "light"
     },
     "output_type": "display_data"
    }
   ],
   "source": [
    "#Q26: What is the relationship between GDP per capita and infant-mortality?\n",
    "GDP_infant_mortality = select('''\n",
    "SELECT \"gdp-per-capita\" , \"infant-mortality\"\n",
    "FROM countries\n",
    "GROUP BY country\n",
    "ORDER BY \"gdp-per-capita\" , \"infant-mortality\"\n",
    "''')\n",
    "scatter(GDP_infant_mortality[\"gdp-per-capita\"], GDP_infant_mortality[\"infant-mortality\"],\"gdp-per-capita\" , \"infant-mortality\")"
   ]
  },
  {
   "cell_type": "code",
   "execution_count": 48,
   "metadata": {},
   "outputs": [
    {
     "data": {
      "image/png": "[encoded data removed]",
      "text/plain": [
       "<Figure size 432x288 with 1 Axes>"
      ]
     },
     "metadata": {
      "needs_background": "light"
     },
     "output_type": "display_data"
    }
   ],
   "source": [
    "#Q27: What is the relationship between GDP per capita and inverse of infant-mortality?\n",
    "GDP_inverse_infant_mortality = select('''\n",
    "SELECT 1/\"infant-mortality\" AS `inverse` , \"gdp-per-capita\"\n",
    "FROM countries\n",
    "GROUP BY country\n",
    "ORDER BY \"gdp-per-capita\" , \"inverse\"\n",
    "''')\n",
    "scatter(GDP_inverse_infant_mortality[\"gdp-per-capita\"], GDP_inverse_infant_mortality[\"inverse\"],\"gdp-per-capita\" , \"infant-mortality\")"
   ]
  },
  {
   "cell_type": "code",
   "execution_count": 49,
   "metadata": {},
   "outputs": [
    {
     "data": {
      "text/plain": [
       "(6.482983154848297e-06, 0.01323784909212086)"
      ]
     },
     "execution_count": 49,
     "metadata": {},
     "output_type": "execute_result"
    }
   ],
   "source": [
    "#Q28: fit a y = m * x + n line to the scatter plot in question 27 using the least-squares method; what are the coefficients m and n?\n",
    "\n",
    "\n",
    "df = pd.DataFrame({\n",
    "    \"gdp-per-capita\": GDP_inverse_infant_mortality[\"gdp-per-capita\"].to_list(),\n",
    "    \"inverse\": GDP_inverse_infant_mortality[\"inverse\"].to_list()\n",
    "})\n",
    "df[\"1\"] = 1\n",
    "\n",
    "res = np.linalg.lstsq(df[[\"gdp-per-capita\", \"1\"]], df[\"inverse\"], rcond=None)\n",
    "\n",
    "# res is a tuple: (COEFFICIENTS, VALUE, VALUE, VALUE)\n",
    "coefficients = res[0] # coefficients is (m,n:\n",
    "m = coefficients[0] # slope\n",
    "n = coefficients[1] # intercept\n",
    "\n",
    "\n",
    "df[\"fit\"] = df[\"gdp-per-capita\"] * m + n\n",
    "\n",
    "tpl = (m,n)\n",
    "\n",
    "tpl"
   ]
  },
  {
   "cell_type": "code",
   "execution_count": 50,
   "metadata": {},
   "outputs": [
    {
     "data": {
      "text/plain": [
       "2.963955279079342"
      ]
     },
     "execution_count": 50,
     "metadata": {},
     "output_type": "execute_result"
    }
   ],
   "source": [
    "#Q29: When gdp-per-capita = 50000, what is the expected value for infant-mortality?\n",
    "predict = lambda x:1/(m*x+n)\n",
    "predict(50000)"
   ]
  },
  {
   "cell_type": "code",
   "execution_count": 51,
   "metadata": {},
   "outputs": [
    {
     "data": {
      "text/plain": [
       "<matplotlib.axes._subplots.AxesSubplot at 0x1133ac610>"
      ]
     },
     "execution_count": 51,
     "metadata": {},
     "output_type": "execute_result"
    },
    {
     "data": {
      "image/png": "[encoded data removed]",
      "text/plain": [
       "<Figure size 432x288 with 1 Axes>"
      ]
     },
     "metadata": {
      "needs_background": "light"
     },
     "output_type": "display_data"
    }
   ],
   "source": [
    "#Q30: plot the regression line to the scatter plot\n",
    "ax = df.plot.scatter(x=\"gdp-per-capita\", y=\"inverse\", c=\"k\")\n",
    "df.plot.line(x=\"gdp-per-capita\", y='fit', c='red', ax=ax)"
   ]
  },
  {
   "cell_type": "code",
   "execution_count": null,
   "metadata": {},
   "outputs": [],
   "source": []
  },
  {
   "cell_type": "code",
   "execution_count": null,
   "metadata": {},
   "outputs": [],
   "source": []
  },
  {
   "cell_type": "code",
   "execution_count": null,
   "metadata": {},
   "outputs": [],
   "source": []
  },
  {
   "cell_type": "code",
   "execution_count": 52,
   "metadata": {},
   "outputs": [],
   "source": [
    "conn.close()"
   ]
  }
 ],
 "metadata": {
  "kernelspec": {
   "display_name": "Python 3",
   "language": "python",
   "name": "python3"
  },
  "language_info": {
   "codemirror_mode": {
    "name": "ipython",
    "version": 3
   },
   "file_extension": ".py",
   "mimetype": "text/x-python",
   "name": "python",
   "nbconvert_exporter": "python",
   "pygments_lexer": "ipython3",
   "version": "3.7.6"
  }
 },
 "nbformat": 4,
 "nbformat_minor": 4
}
