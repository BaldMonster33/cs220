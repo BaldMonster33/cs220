{
 "cells": [
  {
   "cell_type": "code",
   "execution_count": null,
   "metadata": {},
   "outputs": [],
   "source": [
    "#project :p9\n",
    "#submitter : lqin33\n",
    "#partner : mjiao5"
   ]
  },
  {
   "cell_type": "code",
   "execution_count": 1,
   "metadata": {},
   "outputs": [],
   "source": [
    "import os, json, csv\n",
    "from collections import namedtuple"
   ]
  },
  {
   "cell_type": "code",
   "execution_count": 2,
   "metadata": {},
   "outputs": [],
   "source": [
    "#draft:\n",
    "#def find_values(key = \"review id\", value = \"84440\", return_value = \"review text\"):\n",
    "# '''idx = \"1\"\n",
    "#     name = \"review\" + idx + '.csv'\n",
    "#     csv_data_1 = read_files(name, file_type = \".csv\")\n",
    "#     for i in csv_data_1:\n",
    "#         if i[key] == value:\n",
    "#             return i[return_value]\n",
    "#         else: \n",
    "#             idx = str(int(idx) + 1)'''    \n",
    "# # '''def get_reviews2():\n",
    "    \n",
    "#     csv_1 = read_files(name = 'review2.csv')\n",
    "#     json_1 = read_files(name = 'review2.json')\n",
    "#     list_1 = []\n",
    "#     for i in range(len(json_1)):\n",
    "#         try:\n",
    "#     #if csv_1[i]['review id'] is not '' :\n",
    "#             review_id  = int(csv_1[i]['review id'])\n",
    "#         #idx +=1\n",
    "#     #if csv_1[i]['review date'] is not '' and csv_1[i]['review date'] is not None:\n",
    "#             date = csv_1[i]['review date']\n",
    "#         #idx +=1\n",
    "#     #if csv_1[i]['review do_recommend'] is not '' :\n",
    "#         #try:\n",
    "#             do_recommend = bool(csv_1[i]['review do_recommend'])\n",
    "#             #idx +=1\n",
    "#         #except:\n",
    "#             #print('he')\n",
    "#     #if csv_1[i]['review num_helpful'] is not '':\n",
    "#             num_helpful = int(csv_1[i]['review num_helpful'])\n",
    "#         #idx +=1\n",
    "#     #if csv_1[i]['review title'] is not '':\n",
    "#             title = csv_1[i]['review title']\n",
    "#         #idx +=1\n",
    "#     #if csv_1[i]['review text'] is not '':\n",
    "#             text = csv_1[i]['review text']\n",
    "#         #idx +=1\n",
    "#     #if csv_1[i]['review rating'] is not '' :\n",
    "#         #try:\n",
    "#             rating = int(csv_1[i]['review rating'])\n",
    "#             #idx +=1\n",
    "#         #except:\n",
    "#         #    print('he')\n",
    "#     #if review_id or review_id is not '' :\n",
    "#             username = json_1[csv_1[i]['review id']][0]\n",
    "#             asin = json_1[csv_1[i]['review id']][1]\n",
    "#         #idx +=1\n",
    "#     #if idx == 8:\n",
    "#             review = Review(review_id, username, asin, title, text, rating, do_recommend, num_helpful, date)\n",
    "#             list_1.append(review)\n",
    "#         except:\n",
    "#             continue\n",
    "#     return list_1\n",
    "    \n",
    "# get_reviews2()'''\n",
    "\n",
    "# dict1={1:[1,11,111],2:[2,22,222]}\n",
    "# dict2={3:[3,33,333],4:[4,44,444]}\n",
    "\n",
    "\n",
    "# dictMerged2={**dict1, **dict2}\n",
    "# dictMerged2"
   ]
  },
  {
   "cell_type": "code",
   "execution_count": 3,
   "metadata": {},
   "outputs": [
    {
     "data": {
      "text/plain": [
       "['sample_reviews.json',\n",
       " 'sample_reviews.csv',\n",
       " 'review5.json',\n",
       " 'review5.csv',\n",
       " 'review4.json',\n",
       " 'review4.csv',\n",
       " 'review3.json',\n",
       " 'review3.csv',\n",
       " 'review2.json',\n",
       " 'review2.csv',\n",
       " 'review1.json',\n",
       " 'review1.csv',\n",
       " 'products.json',\n",
       " '.DS_Store']"
      ]
     },
     "execution_count": 3,
     "metadata": {},
     "output_type": "execute_result"
    }
   ],
   "source": [
    "#q1\n",
    "def find_names(i = \"data\"):\n",
    "    return sorted(os.listdir(i), reverse = True)\n",
    "    \n",
    "find_names(\"data\")"
   ]
  },
  {
   "cell_type": "code",
   "execution_count": 4,
   "metadata": {},
   "outputs": [
    {
     "data": {
      "text/plain": [
       "['data/sample_reviews.json',\n",
       " 'data/sample_reviews.csv',\n",
       " 'data/review5.json',\n",
       " 'data/review5.csv',\n",
       " 'data/review4.json',\n",
       " 'data/review4.csv',\n",
       " 'data/review3.json',\n",
       " 'data/review3.csv',\n",
       " 'data/review2.json',\n",
       " 'data/review2.csv',\n",
       " 'data/review1.json',\n",
       " 'data/review1.csv',\n",
       " 'data/products.json',\n",
       " 'data/.DS_Store']"
      ]
     },
     "execution_count": 4,
     "metadata": {},
     "output_type": "execute_result"
    }
   ],
   "source": [
    "def find_paths(i = \"data\"):\n",
    "    list_1 = []\n",
    "    for obj in os.listdir(i):\n",
    "        list_1.append(os.path.join(\"data\", obj))\n",
    "    return(sorted(list_1, reverse = True))\n",
    "\n",
    "def find_paths_filter_dot(i = \"data\"):\n",
    "    list_1 = []\n",
    "    for obj in os.listdir(i):\n",
    "        if obj[0] != '.':\n",
    "            list_1.append(os.path.join(i, obj))\n",
    "    return(sorted(list_1, reverse = True))   \n"
   ]
  },
  {
   "cell_type": "code",
   "execution_count": 56,
   "metadata": {},
   "outputs": [
    {
     "data": {
      "text/plain": [
       "['data/sample_reviews.json',\n",
       " 'data/sample_reviews.csv',\n",
       " 'data/review5.json',\n",
       " 'data/review5.csv',\n",
       " 'data/review4.json',\n",
       " 'data/review4.csv',\n",
       " 'data/review3.json',\n",
       " 'data/review3.csv',\n",
       " 'data/review2.json',\n",
       " 'data/review2.csv',\n",
       " 'data/review1.json',\n",
       " 'data/review1.csv',\n",
       " 'data/products.json']"
      ]
     },
     "execution_count": 56,
     "metadata": {},
     "output_type": "execute_result"
    }
   ],
   "source": [
    "#q2\n",
    "find_paths_filter_dot()"
   ]
  },
  {
   "cell_type": "code",
   "execution_count": 5,
   "metadata": {},
   "outputs": [
    {
     "data": {
      "text/plain": [
       "['data/sample_reviews.json',\n",
       " 'data/review5.json',\n",
       " 'data/review4.json',\n",
       " 'data/review3.json',\n",
       " 'data/review2.json',\n",
       " 'data/review1.json',\n",
       " 'data/products.json']"
      ]
     },
     "execution_count": 5,
     "metadata": {},
     "output_type": "execute_result"
    }
   ],
   "source": [
    "#Q3: What are the paths of all the JSON files present in data directory?\n",
    "def find_input_files(i = \"data\", key = \".json\", num = 1):\n",
    "    list_1 = find_names(i)\n",
    "    list_2 = []\n",
    "    for i in list_1:\n",
    "        if num == 1 and os.path.splitext(i)[num] == key :\n",
    "                list_2.append(os.path.join(\"data\", i))     \n",
    "        elif num == 0 and i.startswith(key):\n",
    "            list_2.append(os.path.join(\"data\", i))\n",
    "            \n",
    "    return sorted(list_2, reverse = True)\n",
    "find_input_files(i = \"data\", key = \".json\")"
   ]
  },
  {
   "cell_type": "code",
   "execution_count": 6,
   "metadata": {},
   "outputs": [
    {
     "data": {
      "text/plain": [
       "['data/review5.json',\n",
       " 'data/review5.csv',\n",
       " 'data/review4.json',\n",
       " 'data/review4.csv',\n",
       " 'data/review3.json',\n",
       " 'data/review3.csv',\n",
       " 'data/review2.json',\n",
       " 'data/review2.csv',\n",
       " 'data/review1.json',\n",
       " 'data/review1.csv']"
      ]
     },
     "execution_count": 6,
     "metadata": {},
     "output_type": "execute_result"
    }
   ],
   "source": [
    "#Q4: What are the paths of all the files present in data directory, that begin with the phrase 'review'?\n",
    "find_input_files(key = \"review\", num = 0)"
   ]
  },
  {
   "cell_type": "code",
   "execution_count": 7,
   "metadata": {},
   "outputs": [
    {
     "data": {
      "text/plain": [
       "False"
      ]
     },
     "execution_count": 7,
     "metadata": {},
     "output_type": "execute_result"
    }
   ],
   "source": [
    "name = \"products.json\"\n",
    "name.endswith('.csv')"
   ]
  },
  {
   "cell_type": "code",
   "execution_count": 8,
   "metadata": {},
   "outputs": [],
   "source": [
    "def read_files(path = \"data\", name = \"products.json\"):\n",
    "    if name.endswith('.json'):\n",
    "        f = open(os.path.join(path, name), encoding=\"utf-8\")\n",
    "        reader = json.load(f)\n",
    "    elif name.endswith('.csv'):\n",
    "        f = open(os.path.join(path, name), encoding=\"utf-8\")\n",
    "        reader = list(csv.DictReader(f))\n",
    "        reader = json.loads(json.dumps(reader))\n",
    "            \n",
    "    else:\n",
    "        reader = \"Input wrong type of file\"\n",
    "    return(reader)"
   ]
  },
  {
   "cell_type": "code",
   "execution_count": 9,
   "metadata": {},
   "outputs": [
    {
     "data": {
      "text/plain": [
       "{'B00QFQRELG': 'Amazon 9W PowerFast Official OEM USB Charger and Power Adapter for Fire Tablets and Kindle eReaders',\n",
       " 'B01BH83OOM': 'Amazon Tap Smart Assistant Alexa enabled (black) Brand New',\n",
       " 'B00ZV9PXP2': 'All-New Kindle E-reader - Black, 6\" Glare-Free Touchscreen Display, Wi-Fi - Includes Special Offers',\n",
       " 'B0751RGYJV': 'Amazon Echo (2nd Generation) Smart Assistant Oak Finish Priority Shipping',\n",
       " 'B00IOY8XWQ': 'Kindle Voyage E-reader, 6 High-Resolution Display (300 ppi) with Adaptive Built-in Light, PagePress Sensors, Wi-Fi - Includes Special Offers',\n",
       " 'B0752151W6': 'All-new Echo (2nd Generation) with improved sound, powered by Dolby, and a new design Walnut Finish',\n",
       " 'B018Y226XO': 'Fire Kids Edition Tablet, 7 Display, Wi-Fi, 16 GB, Pink Kid-Proof Case',\n",
       " 'B01ACEKAJY': 'All-New Fire HD 8 Tablet, 8 HD Display, Wi-Fi, 32 GB - Includes Special Offers, Black',\n",
       " 'B01AHB9CYG': 'All-New Fire HD 8 Tablet, 8 HD Display, Wi-Fi, 32 GB - Includes Special Offers, Magenta',\n",
       " 'B01AHB9CN2': 'All-New Fire HD 8 Tablet, 8 HD Display, Wi-Fi, 16 GB - Includes Special Offers, Magenta',\n",
       " 'B00VINDBJK': 'Kindle Oasis E-reader with Leather Charging Cover - Merlot, 6 High-Resolution Display (300 ppi), Wi-Fi - Includes Special Offers',\n",
       " 'B01AHB9C1E': 'Fire HD 8 Tablet with Alexa, 8 HD Display, 32 GB, Tangerine - with Special Offers',\n",
       " 'B018Y229OU': 'Fire Tablet, 7 Display, Wi-Fi, 8 GB - Includes Special Offers, Magenta'}"
      ]
     },
     "execution_count": 9,
     "metadata": {},
     "output_type": "execute_result"
    }
   ],
   "source": [
    "#Q5: What are the products in products.json?\n",
    "read_files()"
   ]
  },
  {
   "cell_type": "code",
   "execution_count": 10,
   "metadata": {},
   "outputs": [],
   "source": [
    "csv_data_1 = read_files(name = \"review1.csv\")"
   ]
  },
  {
   "cell_type": "code",
   "execution_count": 11,
   "metadata": {},
   "outputs": [],
   "source": [
    "def find_all_csv_files(file = \"data\"):\n",
    "    list_1 = find_names(file)\n",
    "    list_2 = []\n",
    "    for i in list_1:\n",
    "        if i.startswith('review') and i.endswith('.csv'):\n",
    "            list_2.append(i)\n",
    "    return list_2\n",
    "\n",
    "def find_all_json_files(file = \"data\"):\n",
    "    list_1 = find_names(file)\n",
    "    list_2 = []\n",
    "    for i in list_1:\n",
    "        if i.startswith('review') and i.endswith('.json'):\n",
    "            list_2.append(i)\n",
    "    return list_2\n",
    "\n",
    "def find_values(key = \"review id\", value = \"84440\", return_value = \"review text\", num = False):\n",
    "    for file in find_all_csv_files(\"data\"):\n",
    "        file_1 = read_files(name = file)\n",
    "        for i in file_1:\n",
    "            if i[key] == value :\n",
    "                if num == True:\n",
    "                    return file\n",
    "                else:\n",
    "                    return i[return_value]"
   ]
  },
  {
   "cell_type": "code",
   "execution_count": 12,
   "metadata": {},
   "outputs": [
    {
     "data": {
      "text/plain": [
       "'I would recommend this product. It works great and ver compact.'"
      ]
     },
     "execution_count": 12,
     "metadata": {},
     "output_type": "execute_result"
    }
   ],
   "source": [
    "#Q6: What is the review text of review with id 84440?\n",
    "find_values(value = \"84440\")\n",
    "            "
   ]
  },
  {
   "cell_type": "code",
   "execution_count": 13,
   "metadata": {},
   "outputs": [
    {
     "data": {
      "text/plain": [
       "'Loveeeeeeeee........................................'"
      ]
     },
     "execution_count": 13,
     "metadata": {},
     "output_type": "execute_result"
    }
   ],
   "source": [
    "#Q7: What is the review text of review with id 28615?\n",
    "find_values(value = \"28615\")"
   ]
  },
  {
   "cell_type": "code",
   "execution_count": 14,
   "metadata": {},
   "outputs": [
    {
     "data": {
      "text/plain": [
       "'review2.csv'"
      ]
     },
     "execution_count": 14,
     "metadata": {},
     "output_type": "execute_result"
    }
   ],
   "source": [
    "#Q8: What file contained the review with id 69273?\n",
    "find_values(value = \"69273\", num = True)"
   ]
  },
  {
   "cell_type": "code",
   "execution_count": 15,
   "metadata": {},
   "outputs": [
    {
     "data": {
      "text/plain": [
       "{'46663': ['Dmh1589', 'B018Y229OU'],\n",
       " '36363': ['Shoot2thril', 'B018Y229OU'],\n",
       " '15763': ['Barbara', 'B018Y229OU'],\n",
       " '5463': ['Elec8', 'B018Y229OU'],\n",
       " '54066': ['Silvrblur', 'B018Y229OU'],\n",
       " '33466': ['Trish', 'B018Y229OU'],\n",
       " '40869': ['airbear', 'B018Y229OU'],\n",
       " '30569': ['lorphe', 'B018Y229OU'],\n",
       " '89472': ['felix', 'B018Y229OU'],\n",
       " '48272': ['Bull99', 'B018Y229OU']}"
      ]
     },
     "execution_count": 15,
     "metadata": {},
     "output_type": "execute_result"
    }
   ],
   "source": [
    "#Q9: What is the data stored in sample_reviews.json?\n",
    "read_files(path = \"data\", name = \"sample_reviews.json\")"
   ]
  },
  {
   "cell_type": "code",
   "execution_count": 16,
   "metadata": {},
   "outputs": [],
   "source": [
    "Review = namedtuple('Review', ['id', 'username', 'asin', 'title', 'text', 'rating', 'do_recommend', 'num_helpful', 'date'])"
   ]
  },
  {
   "cell_type": "code",
   "execution_count": 17,
   "metadata": {},
   "outputs": [
    {
     "data": {
      "text/plain": [
       "[Review(id=46663, username='Dmh1589', asin='B018Y229OU', title='Nice for kids', text='Easy to use. Memory fills up fast though. Battery life is decent.', rating=4, do_recommend=True, num_helpful=0, date='2016-12-23'),\n",
       " Review(id=36363, username='Shoot2thril', asin='B018Y229OU', title='Great tablet', text='Great tablet for the price. I already have 3 followers including the hd.', rating=5, do_recommend=True, num_helpful=0, date='2016-12-23'),\n",
       " Review(id=15763, username='Barbara', asin='B018Y229OU', title='Great tablet', text='Excellent tablet. Love the size. Fits perfectly in my purse. I would recommend this tablet.', rating=5, do_recommend=True, num_helpful=0, date='2016-12-23'),\n",
       " Review(id=5463, username='Elec8', asin='B018Y229OU', title='Great budget tablet', text='Great tablet for kids. Good for Netflix and YouTube.', rating=5, do_recommend=True, num_helpful=0, date='2016-12-23'),\n",
       " Review(id=54066, username='Silvrblur', asin='B018Y229OU', title='Great tablet for the price.', text='I bought this tablet for my 9 year old nephew and he loves it. It is easy to setup and very user friendly. Picked up a case for protection.Buy far the best bang for your buck for an entry level tablet.', rating=5, do_recommend=True, num_helpful=0, date='2016-12-23'),\n",
       " Review(id=33466, username='Trish', asin='B018Y229OU', title='Love it', text='My sister in law is in love with this. Best gift ever for her', rating=5, do_recommend=True, num_helpful=0, date='2016-12-23'),\n",
       " Review(id=40869, username='airbear', asin='B018Y229OU', title='Love it', text='Love it so much. So easy to use even for my little kids.', rating=5, do_recommend=True, num_helpful=0, date='2016-12-23'),\n",
       " Review(id=30569, username='lorphe', asin='B018Y229OU', title='Stand Amazon Tablet', text='Works well for the money. Got it from Black Friday deal. User friendly', rating=4, do_recommend=True, num_helpful=0, date='2016-12-23'),\n",
       " Review(id=89472, username='felix', asin='B018Y229OU', title='great ipad', text='i brought this for my kids and no regret. Make sure you buy a case protector along with it.', rating=5, do_recommend=True, num_helpful=0, date='2016-12-23'),\n",
       " Review(id=48272, username='Bull99', asin='B018Y229OU', title='Works great', text='This tablet is so compact and fit in my purse. It works very well.', rating=5, do_recommend=True, num_helpful=0, date='2016-12-23')]"
      ]
     },
     "execution_count": 17,
     "metadata": {},
     "output_type": "execute_result"
    }
   ],
   "source": [
    "#Q10: What is produced by your function get_reviews('sample_reviews.csv', 'sample_reviews.json')\n",
    "def find_what_contained_in_file(filename):\n",
    "    list_1 = []\n",
    "    csv_1 = read_files(path = \"data\", name = filename)\n",
    "    for obj in range(len(csv_1)):\n",
    "        for idx in csv_1[obj]:\n",
    "            list_1.append(idx)\n",
    "            #list_1.append(idx.split(' ')[1])\n",
    "    return sorted(list(set(list_1)))\n",
    "\n",
    "find_what_contained_in_file('sample_reviews.csv')\n",
    "    \n",
    "def get_reviews(csvfile, jsonfile):\n",
    "    csv_1 = read_files(name = csvfile)\n",
    "    json_1 = read_files(name = jsonfile)\n",
    "    list_1 = []\n",
    "    for i in range(len(json_1)):\n",
    "        idx = 0\n",
    "        if csv_1[i]['review id'] is not '' :\n",
    "            review_id  = int(csv_1[i]['review id'])\n",
    "            idx +=1\n",
    "        if csv_1[i]['review date'] is not '' and csv_1[i]['review date'] is not None:\n",
    "            date = csv_1[i]['review date']\n",
    "            idx +=1\n",
    "        if csv_1[i]['review do_recommend'] is not '' and csv_1[i]['review do_recommend'] is not None :\n",
    "            if csv_1[i]['review do_recommend'].lower() == 'true':\n",
    "                do_recommend = True\n",
    "                idx +=1\n",
    "            elif csv_1[i]['review do_recommend'].lower() == 'false':\n",
    "                do_recommend = False\n",
    "                idx +=1        \n",
    "        if csv_1[i]['review num_helpful'] is not '' and csv_1[i]['review num_helpful'] is not None:\n",
    "            num_helpful = int(csv_1[i]['review num_helpful'])\n",
    "            idx +=1\n",
    "        if csv_1[i]['review title'] is not '':\n",
    "            title = csv_1[i]['review title']\n",
    "            idx +=1\n",
    "        if csv_1[i]['review text'] is not '':\n",
    "            text = csv_1[i]['review text']\n",
    "            idx +=1\n",
    "        if csv_1[i]['review rating'] is not '' :\n",
    "            try:\n",
    "                rating = int(csv_1[i]['review rating'])\n",
    "                idx +=1\n",
    "            except:\n",
    "                continue\n",
    "        if idx == 7:\n",
    "            if review_id is not None or review_id is not '' :\n",
    "                username = json_1[csv_1[i]['review id']][0]\n",
    "                asin = json_1[csv_1[i]['review id']][1]\n",
    "                idx +=1\n",
    "        if idx == 8:\n",
    "            review = Review(review_id, username, asin, title, text, rating, do_recommend, num_helpful, date)\n",
    "            list_1.append(review)\n",
    "    return list_1\n",
    "    \n",
    "get_reviews('sample_reviews.csv', 'sample_reviews.json')"
   ]
  },
  {
   "cell_type": "code",
   "execution_count": 18,
   "metadata": {},
   "outputs": [
    {
     "data": {
      "text/plain": [
       "[Review(id=46663, username='Dmh1589', asin='B018Y229OU', title='Nice for kids', text='Easy to use. Memory fills up fast though. Battery life is decent.', rating=4, do_recommend=True, num_helpful=0, date='2016-12-23'),\n",
       " Review(id=36363, username='Shoot2thril', asin='B018Y229OU', title='Great tablet', text='Great tablet for the price. I already have 3 followers including the hd.', rating=5, do_recommend=True, num_helpful=0, date='2016-12-23'),\n",
       " Review(id=15763, username='Barbara', asin='B018Y229OU', title='Great tablet', text='Excellent tablet. Love the size. Fits perfectly in my purse. I would recommend this tablet.', rating=5, do_recommend=True, num_helpful=0, date='2016-12-23'),\n",
       " Review(id=5463, username='Elec8', asin='B018Y229OU', title='Great budget tablet', text='Great tablet for kids. Good for Netflix and YouTube.', rating=5, do_recommend=True, num_helpful=0, date='2016-12-23'),\n",
       " Review(id=54066, username='Silvrblur', asin='B018Y229OU', title='Great tablet for the price.', text='I bought this tablet for my 9 year old nephew and he loves it. It is easy to setup and very user friendly. Picked up a case for protection.Buy far the best bang for your buck for an entry level tablet.', rating=5, do_recommend=True, num_helpful=0, date='2016-12-23'),\n",
       " Review(id=33466, username='Trish', asin='B018Y229OU', title='Love it', text='My sister in law is in love with this. Best gift ever for her', rating=5, do_recommend=True, num_helpful=0, date='2016-12-23'),\n",
       " Review(id=40869, username='airbear', asin='B018Y229OU', title='Love it', text='Love it so much. So easy to use even for my little kids.', rating=5, do_recommend=True, num_helpful=0, date='2016-12-23'),\n",
       " Review(id=30569, username='lorphe', asin='B018Y229OU', title='Stand Amazon Tablet', text='Works well for the money. Got it from Black Friday deal. User friendly', rating=4, do_recommend=True, num_helpful=0, date='2016-12-23'),\n",
       " Review(id=89472, username='felix', asin='B018Y229OU', title='great ipad', text='i brought this for my kids and no regret. Make sure you buy a case protector along with it.', rating=5, do_recommend=True, num_helpful=0, date='2016-12-23'),\n",
       " Review(id=48272, username='Bull99', asin='B018Y229OU', title='Works great', text='This tablet is so compact and fit in my purse. It works very well.', rating=5, do_recommend=True, num_helpful=0, date='2016-12-23')]"
      ]
     },
     "execution_count": 18,
     "metadata": {},
     "output_type": "execute_result"
    }
   ],
   "source": [
    "#Q11: What are the first ten Review objects in the list produced by get_reviews('review4.csv', 'review4.json')?\n",
    "get_reviews('review4.csv', 'review4.json')[:10]"
   ]
  },
  {
   "cell_type": "code",
   "execution_count": 19,
   "metadata": {},
   "outputs": [
    {
     "data": {
      "text/plain": [
       "[Review(id=25136, username='Angrydagg', asin='B018Y229OU', title='Nice features for the price.', text='For the price this tables does everything I need. so far.', rating=4, do_recommend=True, num_helpful=0, date='2015-12-30'),\n",
       " Review(id=84039, username='Appman2015', asin='B018Y229OU', title='Great for xmas', text='So far I have bought three of these of tablets and they love it', rating=4, do_recommend=True, num_helpful=1, date='2015-12-30'),\n",
       " Review(id=22239, username='SuzieQ', asin='B018Y229OU', title='great for pre teens', text='i am glad i got them for my grand children they r enjoying them', rating=5, do_recommend=True, num_helpful=0, date='2015-12-31'),\n",
       " Review(id=70842, username='Gracie', asin='B018Y229OU', title='Great kindle', text='Purchase was good. Very easy to set up and use. Clear screen. Easy to charge. Would like more storage.', rating=5, do_recommend=True, num_helpful=0, date='2015-12-31'),\n",
       " Review(id=60542, username='Jeremyjeepster', asin='B018Y229OU', title='Good entry level tablet reader.', text='His is a very economical entry level tablet. Great for kids or for first time users.', rating=4, do_recommend=True, num_helpful=0, date='2015-12-31'),\n",
       " Review(id=9042, username='kinglowe78', asin='B018Y229OU', title='Good Deal', text='Real good deal. Nice present for those who want a tablet', rating=4, do_recommend=True, num_helpful=1, date='2016-01-01'),\n",
       " Review(id=98845, username='jamal', asin='B018Y229OU', title='good basic', text='Good gift for basic Internet use browsing emails .', rating=3, do_recommend=True, num_helpful=1, date='2016-01-01'),\n",
       " Review(id=88545, username='Abc1', asin='B018Y229OU', title='Lots of apps to play with', text='This is a good beginning tablet. Works well and has lots of preloaded apps to start you off.', rating=4, do_recommend=True, num_helpful=2, date='2016-01-01'),\n",
       " Review(id=47345, username='4Thrifty', asin='B018Y229OU', title='Great tablet', text='Well priced. Easy to operate. Fast and efficient. Great product.', rating=4, do_recommend=False, num_helpful=0, date='2016-01-02'),\n",
       " Review(id=54748, username='Sandycat19', asin='B018Y229OU', title='Good product fair price', text='Good for little ones who are just getting started on apps.', rating=5, do_recommend=True, num_helpful=0, date='2016-01-02')]"
      ]
     },
     "execution_count": 19,
     "metadata": {},
     "output_type": "execute_result"
    }
   ],
   "source": [
    "#Q12: What are the last ten Review objects in the list produced by get_reviews('review2.csv', 'review2.json')?\n",
    "get_reviews('review2.csv', 'review2.json')[-10:]"
   ]
  },
  {
   "cell_type": "code",
   "execution_count": 20,
   "metadata": {},
   "outputs": [],
   "source": [
    "def find_object_in_review(value = 25401):\n",
    "    list_1 = []\n",
    "    for file in find_all_csv_files(\"data\"):\n",
    "        file_1 = file\n",
    "        file_2 = file.split('.')[0]+'.json'\n",
    "        try:\n",
    "            reviews = get_reviews(file_1, file_2)\n",
    "            for i in reviews:\n",
    "                if i.id == value:\n",
    "                    return i\n",
    "        except:\n",
    "            print('Some of the json files are broken.')\n",
    "    \n",
    "        "
   ]
  },
  {
   "cell_type": "code",
   "execution_count": 21,
   "metadata": {},
   "outputs": [
    {
     "data": {
      "text/plain": [
       "Review(id=25401, username='Brody16', asin='B018Y229OU', title='Wonderful for our grandsons', text='Love the ease of using them for our grandsons and they enjoyed them for Christmas', rating=1, do_recommend=True, num_helpful=0, date='2017-01-06')"
      ]
     },
     "execution_count": 21,
     "metadata": {},
     "output_type": "execute_result"
    }
   ],
   "source": [
    "#Q13: What is the Review object with review id 25401?\n",
    "find_object_in_review()"
   ]
  },
  {
   "cell_type": "code",
   "execution_count": 22,
   "metadata": {},
   "outputs": [
    {
     "name": "stdout",
     "output_type": "stream",
     "text": [
      "Some of the json files are broken.\n"
     ]
    },
    {
     "data": {
      "text/plain": [
       "Review(id=78626, username='Mijenx', asin='B01AHB9CN2', title='Ended up returning', text='I bought this tablet for my 4 year old daughter. Too many advertisements. I would rather pay more and not have a single ad.', rating=1, do_recommend=False, num_helpful=2, date='2016-11-25')"
      ]
     },
     "execution_count": 22,
     "metadata": {},
     "output_type": "execute_result"
    }
   ],
   "source": [
    "#Q14: What is the Review object with review id 78626?\n",
    "find_object_in_review(value = 78626)"
   ]
  },
  {
   "cell_type": "code",
   "execution_count": 23,
   "metadata": {},
   "outputs": [
    {
     "name": "stdout",
     "output_type": "stream",
     "text": [
      "Some of the json files are broken.\n"
     ]
    }
   ],
   "source": [
    "def sort_reviews():\n",
    "    list_1 = []\n",
    "    for file in find_all_csv_files(\"data\"):\n",
    "        file_1 = file\n",
    "        file_2 = file.split('.')[0]+'.json'\n",
    "        try:\n",
    "            reviews = get_reviews(file_1, file_2)\n",
    "            for i in reviews:\n",
    "                list_1.append(i)\n",
    "        except:\n",
    "            print('Some of the json files are broken.')\n",
    "    return sorted(list_1, reverse = True, key = lambda x:x[1])\n",
    "\n",
    "reviews = sort_reviews()"
   ]
  },
  {
   "cell_type": "code",
   "execution_count": 24,
   "metadata": {},
   "outputs": [
    {
     "data": {
      "text/plain": [
       "[Review(id=29325, username='zerofighterblue', asin='B018Y229OU', title='cant live without', text='have a kindle with a broken screen. bought originally for 99.00. now regular price is 49.99 and were on sale black Friday for 34.99. got 2 more.', rating=5, do_recommend=True, num_helpful=1, date='2015-12-10'),\n",
       " Review(id=96947, username='zedog83', asin='B01AHB9CN2', title='Great for kids', text='Bought this for our 6 year old daughter and she uses it daily. She enjoys watching movies on it and playing learning games. So far it has been very durable and battery life has been great.', rating=5, do_recommend=True, num_helpful=0, date='2017-01-18'),\n",
       " Review(id=77499, username='zcraig7', asin='B018Y229OU', title='Awesome picture quality', text='I bought two of these for black friday and the kids love them', rating=5, do_recommend=True, num_helpful=0, date='2016-01-04'),\n",
       " Review(id=48890, username='zarm7', asin='B018Y229OU', title='This is a nice tablet', text='I bought it for reading books. And it works very well for that purpose.', rating=4, do_recommend=True, num_helpful=0, date='2016-09-02'),\n",
       " Review(id=84641, username='zabintenn', asin='B018Y229OU', title='Good tablet', text='I bought this tablet as a gift for my granddaughter to play games on. It is very easy for her to use and it is just the right size.', rating=4, do_recommend=True, num_helpful=0, date='2016-12-15'),\n",
       " Review(id=15839, username='zRoyals', asin='B01AHB9CN2', title='One of the best', text='Easy to use and elegant in design. Perfect Gift for Kids.', rating=5, do_recommend=True, num_helpful=0, date='2016-12-07'),\n",
       " Review(id=48019, username='yuty', asin='B01AHB9CN2', title='Terrifico', text='Great tablet for the price point....especially if you are big Amazon user.Expandable memory is a great feature.', rating=5, do_recommend=True, num_helpful=0, date='2017-01-07'),\n",
       " Review(id=63046, username='yuri', asin='B018Y229OU', title='great and cheap', text='Easy to use. Durable great material very happy with it.', rating=4, do_recommend=True, num_helpful=0, date='2016-01-08'),\n",
       " Review(id=37258, username='yroc', asin='B018Y229OU', title='excellent bargain', text='Excellent bargain and works for all purposes that a tablet is needed for.', rating=5, do_recommend=True, num_helpful=0, date='2015-12-28'),\n",
       " Review(id=64466, username='yosi', asin='B018Y226XO', title='great', text='great table for kids and parents control great gre', rating=5, do_recommend=True, num_helpful=0, date='2016-12-19')]"
      ]
     },
     "execution_count": 24,
     "metadata": {},
     "output_type": "execute_result"
    }
   ],
   "source": [
    "#Q15: List the first ten Review objects in the entire dataset, when the usernames are sorted in the reverse alphabetical order.\n",
    "reviews[:10]"
   ]
  },
  {
   "cell_type": "code",
   "execution_count": 25,
   "metadata": {},
   "outputs": [],
   "source": [
    "def bucketize(attr, attr2='username'):\n",
    "    bucket = {}\n",
    "    keys = []\n",
    "    for review in reviews:\n",
    "        if not getattr(review, attr2) in keys:\n",
    "            keys.append(getattr(review, attr2))\n",
    "\n",
    "    list_1 = []\n",
    "\n",
    "    for key in keys:\n",
    "        idx = 0\n",
    "        for review in reviews:\n",
    "            if not type(getattr(review, attr)) == int:\n",
    "                if getattr(review, attr2) == key:\n",
    "                    idx += 1\n",
    "            else:\n",
    "                if getattr(review, attr2) == key:\n",
    "                    idx += int(getattr(review, attr))           \n",
    "        bucket[key] = idx\n",
    "                    \n",
    "    return bucket"
   ]
  },
  {
   "cell_type": "code",
   "execution_count": 26,
   "metadata": {},
   "outputs": [],
   "source": [
    "reviews_by_username = bucketize('username')"
   ]
  },
  {
   "cell_type": "code",
   "execution_count": 27,
   "metadata": {},
   "outputs": [
    {
     "data": {
      "text/plain": [
       "{'Susan': 4,\n",
       " 'Missy': 4,\n",
       " 'Mike': 4,\n",
       " 'Dave': 4,\n",
       " '1234': 4,\n",
       " 'steve': 3,\n",
       " 'paul': 3,\n",
       " 'Susie': 3,\n",
       " 'Steve': 3,\n",
       " 'Richard': 3,\n",
       " 'Michael': 3,\n",
       " 'Manny': 3,\n",
       " 'Lisa': 3,\n",
       " 'Kathy': 3,\n",
       " 'John': 3,\n",
       " 'James': 3,\n",
       " 'Grandma': 3,\n",
       " 'Frank': 3,\n",
       " 'Chris': 3,\n",
       " 'Bubba': 3,\n",
       " 'Bill': 3,\n",
       " 'Angie': 3}"
      ]
     },
     "execution_count": 27,
     "metadata": {},
     "output_type": "execute_result"
    }
   ],
   "source": [
    "#Q16: Who are the top 22 prolific users in this dataset?\n",
    "sorted_reviews = sorted(reviews_by_username.items(), key = lambda x:x[1], reverse = True)\n",
    "dict(sorted_reviews[:22])"
   ]
  },
  {
   "cell_type": "code",
   "execution_count": 28,
   "metadata": {},
   "outputs": [],
   "source": [
    "list_sorted_num_helpful_reviews = sorted(bucketize('num_helpful').items(), key = lambda x:x[1], reverse = True)\n",
    "dict_sorted_num_helpful_reviews = dict(list_sorted_num_helpful_reviews)"
   ]
  },
  {
   "cell_type": "code",
   "execution_count": 29,
   "metadata": {},
   "outputs": [],
   "source": [
    "def larger_than_5(x):\n",
    "    if dict_sorted_num_helpful_reviews[x] >= 5:\n",
    "        return x\n",
    "def larger_than_1(x):\n",
    "    if dict_sorted_num_helpful_reviews[x] >= 1:\n",
    "        return x"
   ]
  },
  {
   "cell_type": "code",
   "execution_count": 30,
   "metadata": {},
   "outputs": [
    {
     "data": {
      "text/plain": [
       "{'Earthdog': 27,\n",
       " 'Ellen': 10,\n",
       " 'Stuartc': 8,\n",
       " 'Rodge': 6,\n",
       " 'trouble': 5,\n",
       " 'Raza': 5,\n",
       " 'Mark': 5,\n",
       " 'Kime': 5,\n",
       " 'Karch': 5,\n",
       " 'FrankW': 5,\n",
       " '1Briansapp': 5}"
      ]
     },
     "execution_count": 30,
     "metadata": {},
     "output_type": "execute_result"
    }
   ],
   "source": [
    "#Q17: Who are the users whose comments have been found helpful at least five times?\n",
    "at_least_five_times = len(list(filter(larger_than_5, dict_sorted_num_helpful_reviews)))\n",
    "dict(list_sorted_num_helpful_reviews[:at_least_five_times])"
   ]
  },
  {
   "cell_type": "code",
   "execution_count": 31,
   "metadata": {},
   "outputs": [],
   "source": [
    "%matplotlib inline"
   ]
  },
  {
   "cell_type": "code",
   "execution_count": 32,
   "metadata": {},
   "outputs": [],
   "source": [
    "import pandas as pd\n",
    "\n",
    "def scatter(x, y, xlabel=\"please label me!\", ylabel=\"please label me!\"):\n",
    "    df = pd.DataFrame({\"x\":x, \"y\":y})\n",
    "    ax = df.plot.scatter(x=\"x\", y=\"y\", color=\"black\", fontsize=16, xlim=0, ylim=0)\n",
    "    ax.set_xlabel(xlabel, fontsize=16)\n",
    "    ax.set_ylabel(ylabel, fontsize=16)\n",
    "    ax.get_xaxis().get_major_formatter().set_scientific(False)\n",
    "    ax.get_yaxis().get_major_formatter().set_scientific(False)\n",
    "\n",
    "    \n",
    "def bar_chart(x, y, xlabel=\"please label me!\", ylabel=\"please label me!\"):\n",
    "    df = pd.DataFrame({\"x\":x, \"y\":y})\n",
    "    ax = df.plot.bar(x=\"x\", y=\"y\", color=\"black\", fontsize=16, xlim=0, ylim=0)\n",
    "    ax.set_xlabel(xlabel, fontsize=16)\n",
    "    ax.set_ylabel(ylabel, fontsize=16)\n",
    "#     ax.get_xaxis().get_major_formatter().set_scientific(False)\n",
    "#     ax.get_yaxis().get_major_formatter().set_scientific(False)"
   ]
  },
  {
   "cell_type": "code",
   "execution_count": 33,
   "metadata": {},
   "outputs": [],
   "source": [
    "def relate_a_to_b(a,b):\n",
    "    keys = []\n",
    "    list_1 = []\n",
    "    bucket = {}\n",
    "    for review in reviews:\n",
    "        if not getattr(review, a) in keys:\n",
    "            keys.append(getattr(review, a))\n",
    "\n",
    "    for key in keys:\n",
    "        length = 0\n",
    "        number = 0\n",
    "        for review in reviews:\n",
    "            if getattr(review, a) == key:\n",
    "                length += len(getattr(review, b))\n",
    "                number += 1\n",
    "        bucket[key] = length/number\n",
    "         \n",
    "    return bucket     "
   ]
  },
  {
   "cell_type": "code",
   "execution_count": 34,
   "metadata": {},
   "outputs": [],
   "source": [
    "def from_dict_to_scatter(dict_1, a,b):\n",
    "    keys = list(dict_1.keys())\n",
    "    values = list(dict_1.values())\n",
    "    scatter(keys,values,xlabel = a, ylabel = b)\n",
    "    \n",
    "\n",
    "def from_dict_to_bar_chart(dict_1, a,b):\n",
    "    keys = list(dict_1.keys())\n",
    "    values = list(dict_1.values())\n",
    "    bar_chart(keys,values,xlabel = a, ylabel = b)"
   ]
  },
  {
   "cell_type": "code",
   "execution_count": 35,
   "metadata": {},
   "outputs": [
    {
     "data": {
      "image/png": "[encoded data removed]",
      "text/plain": [
       "<Figure size 432x288 with 1 Axes>"
      ]
     },
     "metadata": {
      "needs_background": "light"
     },
     "output_type": "display_data"
    }
   ],
   "source": [
    "#Q18: What is the relationship between the rating and the average text length?\n",
    "rating_vs_length = relate_a_to_b('rating','text')\n",
    "keys_1 = list(rating_vs_length.keys())\n",
    "values_1 = list(rating_vs_length.values())\n",
    "scatter(keys_1, values_1, xlabel=\"Rating\", ylabel=\"Average text length\")"
   ]
  },
  {
   "cell_type": "code",
   "execution_count": 36,
   "metadata": {},
   "outputs": [],
   "source": [
    "def find_rating_vs_reviews(attr):\n",
    "    bucket = {}\n",
    "    keys = []\n",
    "    list_1 = []\n",
    "    for review in reviews:\n",
    "        if not getattr(review, 'rating') in keys:\n",
    "            keys.append(getattr(review,'rating'))\n",
    "    for key in keys:\n",
    "        num_1 = 0\n",
    "        numbers = 0\n",
    "        for review in reviews:\n",
    "            if getattr(review, 'rating') == key:\n",
    "                if getattr(review, attr) == 0:\n",
    "                    numbers += 1\n",
    "                else:\n",
    "                    numbers +=1\n",
    "                    num_1 += 1\n",
    "        bucket[key] = num_1/numbers\n",
    "    return bucket"
   ]
  },
  {
   "cell_type": "code",
   "execution_count": 37,
   "metadata": {},
   "outputs": [
    {
     "data": {
      "image/png": "[encoded data removed]",
      "text/plain": [
       "<Figure size 432x288 with 1 Axes>"
      ]
     },
     "metadata": {
      "needs_background": "light"
     },
     "output_type": "display_data"
    }
   ],
   "source": [
    "#Q19: What is the relationship between the rating and the likelihood of the review being helpful?\n",
    "rating_vs_reviews = find_rating_vs_reviews('num_helpful')\n",
    "from_dict_to_scatter(rating_vs_reviews, a = 'Rating', b = 'Percentage of helpful reviews')"
   ]
  },
  {
   "cell_type": "code",
   "execution_count": 38,
   "metadata": {},
   "outputs": [
    {
     "data": {
      "text/plain": [
       "{'Amazon 9W PowerFast Official OEM USB Charger and Power Adapter for Fire Tablets and Kindle eReaders': 4.7272727272727275,\n",
       " 'Amazon Tap Smart Assistant Alexa enabled (black) Brand New': 4.6909090909090905,\n",
       " 'All-New Kindle E-reader - Black, 6\" Glare-Free Touchscreen Display, Wi-Fi - Includes Special Offers': 4.590163934426229,\n",
       " 'Amazon Echo (2nd Generation) Smart Assistant Oak Finish Priority Shipping': 5.0,\n",
       " 'Kindle Voyage E-reader, 6 High-Resolution Display (300 ppi) with Adaptive Built-in Light, PagePress Sensors, Wi-Fi - Includes Special Offers': 4.666666666666667,\n",
       " 'All-new Echo (2nd Generation) with improved sound, powered by Dolby, and a new design Walnut Finish': 5.0,\n",
       " 'Fire Kids Edition Tablet, 7 Display, Wi-Fi, 16 GB, Pink Kid-Proof Case': 4.603448275862069,\n",
       " 'All-New Fire HD 8 Tablet, 8 HD Display, Wi-Fi, 32 GB - Includes Special Offers, Black': 4.583333333333333,\n",
       " 'All-New Fire HD 8 Tablet, 8 HD Display, Wi-Fi, 32 GB - Includes Special Offers, Magenta': 4.574468085106383,\n",
       " 'All-New Fire HD 8 Tablet, 8 HD Display, Wi-Fi, 16 GB - Includes Special Offers, Magenta': 4.6,\n",
       " 'Kindle Oasis E-reader with Leather Charging Cover - Merlot, 6 High-Resolution Display (300 ppi), Wi-Fi - Includes Special Offers': 4.866666666666666,\n",
       " 'Fire HD 8 Tablet with Alexa, 8 HD Display, 32 GB, Tangerine - with Special Offers': 3.8333333333333335,\n",
       " 'Fire Tablet, 7 Display, Wi-Fi, 8 GB - Includes Special Offers, Magenta': 4.506039150354019}"
      ]
     },
     "execution_count": 38,
     "metadata": {},
     "output_type": "execute_result"
    }
   ],
   "source": [
    "#Q20: Find the average rating of each product.\n",
    "def find_average_rating(reviews = reviews):\n",
    "    bucket = {}\n",
    "    keys = read_files()\n",
    "    for key in keys:\n",
    "        ratings = 0\n",
    "        numbers = 0\n",
    "        for review in reviews:\n",
    "            if getattr(review, 'asin') == key:\n",
    "                ratings += getattr(review, 'rating')\n",
    "                numbers += 1\n",
    "                avg_rating = ratings/numbers\n",
    "        bucket[read_files()[key]] = avg_rating\n",
    "    return bucket\n",
    "org_dict = find_average_rating()\n",
    "org_dict"
   ]
  },
  {
   "cell_type": "code",
   "execution_count": null,
   "metadata": {},
   "outputs": [],
   "source": []
  },
  {
   "cell_type": "code",
   "execution_count": 39,
   "metadata": {},
   "outputs": [],
   "source": [
    "def find_average_rating_2():\n",
    "    bucket = {}\n",
    "    keys = read_files()\n",
    "    for key in keys:\n",
    "        ratings = 0\n",
    "        numbers = 0\n",
    "        for review in reviews:\n",
    "            if getattr(review, 'asin') == key:\n",
    "                ratings += getattr(review, 'rating')\n",
    "                numbers += 1\n",
    "                avg_rating = ratings/numbers\n",
    "        bucket[key] = avg_rating\n",
    "    return bucket\n",
    "ratings = find_average_rating_2()\n",
    "\n",
    "def find_numbers_of_reviews():\n",
    "    keys = read_files()\n",
    "    bucket = {}\n",
    "    for key in keys:\n",
    "        ratings = 0\n",
    "        numbers = 0\n",
    "        for review in reviews:\n",
    "            if getattr(review, 'asin') == key:\n",
    "                numbers += 1\n",
    "        bucket[key] = numbers\n",
    "    return bucket\n",
    "num_reviews = find_numbers_of_reviews()\n"
   ]
  },
  {
   "cell_type": "code",
   "execution_count": 40,
   "metadata": {},
   "outputs": [
    {
     "data": {
      "text/plain": [
       "{11: 4.7272727272727275,\n",
       " 165: 4.6909090909090905,\n",
       " 61: 4.590163934426229,\n",
       " 1: 5.0,\n",
       " 126: 4.666666666666667,\n",
       " 174: 4.603448275862069,\n",
       " 12: 4.583333333333333,\n",
       " 47: 4.574468085106383,\n",
       " 975: 4.6,\n",
       " 15: 4.866666666666666,\n",
       " 6: 3.8333333333333335,\n",
       " 2401: 4.506039150354019}"
      ]
     },
     "execution_count": 40,
     "metadata": {},
     "output_type": "execute_result"
    },
    {
     "data": {
      "image/png": "[encoded data removed]",
      "text/plain": [
       "<Figure size 432x288 with 1 Axes>"
      ]
     },
     "metadata": {
      "needs_background": "light"
     },
     "output_type": "display_data"
    }
   ],
   "source": [
    "#Q21: What is the relationship between the number of reviews and the average rating of a product?\n",
    "dict_1 = {}\n",
    "values = list(ratings.values())\n",
    "keys = list(num_reviews.values())\n",
    "for i in range(len(keys)):\n",
    "    dict_1[keys[i]] = values[i]\n",
    "from_dict_to_scatter(dict_1, a = 'Number of Reviews', b = 'Average Rating')\n",
    "dict_1"
   ]
  },
  {
   "cell_type": "code",
   "execution_count": 41,
   "metadata": {},
   "outputs": [
    {
     "data": {
      "image/png": "[encoded data removed]",
      "text/plain": [
       "<Figure size 432x288 with 1 Axes>"
      ]
     },
     "metadata": {
      "needs_background": "light"
     },
     "output_type": "display_data"
    }
   ],
   "source": [
    "#Q22: Remove the outliers from the last plot.\n",
    "def remove_outliers():\n",
    "    for i in list(dict_1.keys()):\n",
    "        if i > 500:\n",
    "            dict_1.pop(i)\n",
    "    return dict_1\n",
    "dict_2 = remove_outliers()\n",
    "from_dict_to_scatter(dict_2, a = 'Number of Reviews', b = 'Average Rating')"
   ]
  },
  {
   "cell_type": "code",
   "execution_count": 42,
   "metadata": {},
   "outputs": [],
   "source": [
    "def reverse_dict(org_dict):\n",
    "    dict_1 = {}\n",
    "    keys = list(org_dict.keys())\n",
    "    values = list(org_dict.values())\n",
    "    for i in range(len(keys)):\n",
    "        dict_1[values[i]] = keys[i]\n",
    "    return dict_1\n",
    "\n",
    "def find_month_reviews(product):\n",
    "    asin_name = reverse_dict(read_files())[product]\n",
    "    keys = []\n",
    "    bucket = {}\n",
    "    for review in reviews:\n",
    "        if not getattr(review, 'date')[5:7] in keys:\n",
    "            keys.append(getattr(review, 'date')[5:7])\n",
    "    keys = sorted(keys)\n",
    "    for key in keys:\n",
    "        nums = 0\n",
    "        for review in reviews:\n",
    "            if getattr(review, 'date')[5:7] == key and getattr(review, 'asin') == asin_name:\n",
    "                nums += 1\n",
    "        bucket[key] = nums\n",
    "    return bucket"
   ]
  },
  {
   "cell_type": "code",
   "execution_count": 43,
   "metadata": {},
   "outputs": [
    {
     "data": {
      "image/png": "[encoded data removed]",
      "text/plain": [
       "<Figure size 432x288 with 1 Axes>"
      ]
     },
     "metadata": {
      "needs_background": "light"
     },
     "output_type": "display_data"
    }
   ],
   "source": [
    "#Q23: What is the relationship between the month and the total number of reviews for the product 'Fire Kids Edition Tablet, 7 Display, Wi-Fi, 16 GB, Pink Kid-Proof Case' for each month?\n",
    "dict_1 = find_month_reviews('Fire Kids Edition Tablet, 7 Display, Wi-Fi, 16 GB, Pink Kid-Proof Case')\n",
    "from_dict_to_bar_chart(dict_1, a = 'Month', b = 'Number of reivews')\n"
   ]
  },
  {
   "cell_type": "code",
   "execution_count": 44,
   "metadata": {},
   "outputs": [
    {
     "data": {
      "image/png": "[encoded data removed]",
      "text/plain": [
       "<Figure size 432x288 with 1 Axes>"
      ]
     },
     "metadata": {
      "needs_background": "light"
     },
     "output_type": "display_data"
    }
   ],
   "source": [
    "#Q24: What is the relationship between the month and the total number of reviews for the product 'Fire Tablet, 7 Display, Wi-Fi, 8 GB - Includes Special Offers, Magenta' for each month?\n",
    "dict_1 = find_month_reviews('Fire Tablet, 7 Display, Wi-Fi, 8 GB - Includes Special Offers, Magenta')\n",
    "from_dict_to_bar_chart(dict_1, a = 'Month', b = 'Number of reivews')"
   ]
  },
  {
   "cell_type": "code",
   "execution_count": 45,
   "metadata": {},
   "outputs": [],
   "source": [
    "def real_file(x):\n",
    "    if x[0] != '.':\n",
    "        return x\n",
    "    \n",
    "def find_paths_filter_dot(i = \"data\"):\n",
    "    list_1 = []\n",
    "    for obj in os.listdir(i):\n",
    "        if obj[0] != '.':\n",
    "            list_1.append(os.path.join(i, obj))\n",
    "    return(sorted(list_1, reverse = True))    "
   ]
  },
  {
   "cell_type": "code",
   "execution_count": 46,
   "metadata": {},
   "outputs": [],
   "source": [
    "def find_all_path(path):\n",
    "    list_1 = []\n",
    "    list_2 = []\n",
    "    for file in find_paths_filter_dot(i = path):\n",
    "        if os.path.isdir(file):\n",
    "            list_1 = list_1 + find_all_path(file)\n",
    "        else:\n",
    "            list_1.append(file)\n",
    "    \n",
    "    return list_1"
   ]
  },
  {
   "cell_type": "code",
   "execution_count": 47,
   "metadata": {},
   "outputs": [
    {
     "data": {
      "text/plain": [
       "['broken_file/rating4/very_helpful/very_helpful.json']"
      ]
     },
     "execution_count": 47,
     "metadata": {},
     "output_type": "execute_result"
    }
   ],
   "source": [
    "#Q25: List the paths in the very_helpful directory of rating4 of broken_file.\n",
    "path = os.path.join('broken_file','rating4','very_helpful')\n",
    "find_all_path(path)"
   ]
  },
  {
   "cell_type": "code",
   "execution_count": 48,
   "metadata": {},
   "outputs": [
    {
     "data": {
      "text/plain": [
       "['broken_file/rating5/others.json', 'broken_file/rating5/helpful/helpful.json']"
      ]
     },
     "execution_count": 48,
     "metadata": {},
     "output_type": "execute_result"
    }
   ],
   "source": [
    "#Q26: List the paths of all the files in the rating5 directory of broken_file.\n",
    "path = os.path.join('broken_file','rating5')\n",
    "find_all_path(path)"
   ]
  },
  {
   "cell_type": "code",
   "execution_count": 49,
   "metadata": {},
   "outputs": [
    {
     "data": {
      "text/plain": [
       "['broken_file/rating5/others.json',\n",
       " 'broken_file/rating5/helpful/helpful.json',\n",
       " 'broken_file/rating4/very_helpful/very_helpful.json',\n",
       " 'broken_file/rating4/others/short/short.json',\n",
       " 'broken_file/rating4/others/others/others.json',\n",
       " 'broken_file/rating4/not_helpful.json',\n",
       " 'broken_file/rating3/others/others.json',\n",
       " 'broken_file/rating3/long/long.json',\n",
       " 'broken_file/others.json']"
      ]
     },
     "execution_count": 49,
     "metadata": {},
     "output_type": "execute_result"
    }
   ],
   "source": [
    "#Q27: List the paths of all the files in the broken_file directory.\n",
    "find_all_path('broken_file')"
   ]
  },
  {
   "cell_type": "code",
   "execution_count": 50,
   "metadata": {},
   "outputs": [],
   "source": [
    "#Q28: Combine all the files in broken_file directory and find the number of unique products being reviewed in these files.\n",
    "\n",
    "\n",
    "\n",
    "def read_broken_files(path = 'broken_file'):\n",
    "    list_1 = find_all_path(path)\n",
    "    dict_1 = {}\n",
    "    for file in list_1:\n",
    "        if file.endswith('.json'):\n",
    "            f = open(file, encoding = \"utf-8\")\n",
    "            reader = json.load(f)\n",
    "            dict_1 = {**reader, **dict_1}\n",
    "    return dict_1\n",
    "            \n",
    "def write_broken_files(broken_jsons = read_broken_files()):\n",
    "    f = open(os.path.join(\"data\", \"broken_file_trial.json\"), \"w\", encoding=\"utf-8\")\n",
    "    f.write(json.dumps(broken_jsons))\n",
    "    f.close()\n",
    "\n",
    "write_broken_files()"
   ]
  },
  {
   "cell_type": "code",
   "execution_count": 51,
   "metadata": {},
   "outputs": [],
   "source": [
    "# broken_jsons = read_broken_files()\n",
    "# f = open(os.path.join(\"data\", \"broken_file_trial.json\"), \"w\", encoding=\"utf-8\")\n",
    "# f.write(json.dumps(broken_jsons))\n",
    "# f.close()"
   ]
  },
  {
   "cell_type": "code",
   "execution_count": 52,
   "metadata": {},
   "outputs": [
    {
     "data": {
      "text/plain": [
       "1"
      ]
     },
     "execution_count": 52,
     "metadata": {},
     "output_type": "execute_result"
    }
   ],
   "source": [
    "#Q28: Combine all the files in broken_file directory and find the number of unique products being reviewed in these files.\n",
    "broken_reviews = get_reviews('review3.csv','broken_file_trial.json')\n",
    "\n",
    "def find_unique_products():\n",
    "    keys = []\n",
    "    reviews = broken_reviews\n",
    "    for review in broken_reviews:\n",
    "        asins = review.asin\n",
    "        if not asins in keys:\n",
    "            keys.append(asins)\n",
    "    return len(keys)\n",
    "\n",
    "find_unique_products()"
   ]
  },
  {
   "cell_type": "code",
   "execution_count": 53,
   "metadata": {},
   "outputs": [
    {
     "name": "stdout",
     "output_type": "stream",
     "text": [
      "Some of the json files are broken.\n"
     ]
    },
    {
     "data": {
      "text/plain": [
       "4995"
      ]
     },
     "execution_count": 53,
     "metadata": {},
     "output_type": "execute_result"
    }
   ],
   "source": [
    "#Q29: Combine all the files in the directories data and broken_file, and find the total number of reviews.\n",
    "def find_total_reviews():    \n",
    "    reviews = sort_reviews()\n",
    "    new_reviews = broken_reviews\n",
    "    new_reviews = new_reviews + reviews\n",
    "    os.remove(os.path.join('data','broken_file_trial.json'))\n",
    "    return new_reviews\n",
    "\n",
    "\n",
    "new_reviews = find_total_reviews()\n",
    "len(new_reviews)"
   ]
  },
  {
   "cell_type": "code",
   "execution_count": 54,
   "metadata": {},
   "outputs": [],
   "source": [
    "def find_average_rating_change(name = 'Fire Tablet, 7 Display, Wi-Fi, 8 GB - Includes Special Offers, Magenta'):\n",
    "    org_rating = org_dict[name]\n",
    "    new_rating = find_average_rating(reviews = new_reviews)[name]\n",
    "    changes = (new_rating-org_rating) / org_rating\n",
    "    return changes * 100"
   ]
  },
  {
   "cell_type": "code",
   "execution_count": 55,
   "metadata": {},
   "outputs": [
    {
     "data": {
      "text/plain": [
       "-0.039407079451942564"
      ]
     },
     "execution_count": 55,
     "metadata": {},
     "output_type": "execute_result"
    }
   ],
   "source": [
    "#Q30: What is the percentage of change in the average rating changed for the product 'Fire Tablet, 7 Display, Wi-Fi, 8 GB - Includes Special Offers, Magenta', because of the addition of the new data?\n",
    "find_average_rating_change()"
   ]
  },
  {
   "cell_type": "code",
   "execution_count": null,
   "metadata": {},
   "outputs": [],
   "source": []
  },
  {
   "cell_type": "code",
   "execution_count": null,
   "metadata": {},
   "outputs": [],
   "source": []
  },
  {
   "cell_type": "code",
   "execution_count": null,
   "metadata": {},
   "outputs": [],
   "source": []
  },
  {
   "cell_type": "code",
   "execution_count": null,
   "metadata": {},
   "outputs": [],
   "source": []
  },
  {
   "cell_type": "code",
   "execution_count": null,
   "metadata": {},
   "outputs": [],
   "source": [
    "  "
   ]
  },
  {
   "cell_type": "code",
   "execution_count": null,
   "metadata": {},
   "outputs": [],
   "source": []
  },
  {
   "cell_type": "code",
   "execution_count": null,
   "metadata": {},
   "outputs": [],
   "source": []
  },
  {
   "cell_type": "code",
   "execution_count": null,
   "metadata": {},
   "outputs": [],
   "source": []
  },
  {
   "cell_type": "code",
   "execution_count": null,
   "metadata": {},
   "outputs": [],
   "source": []
  },
  {
   "cell_type": "code",
   "execution_count": null,
   "metadata": {},
   "outputs": [],
   "source": []
  },
  {
   "cell_type": "code",
   "execution_count": null,
   "metadata": {},
   "outputs": [],
   "source": []
  },
  {
   "cell_type": "code",
   "execution_count": null,
   "metadata": {},
   "outputs": [],
   "source": []
  }
 ],
 "metadata": {
  "kernelspec": {
   "display_name": "Python 3",
   "language": "python",
   "name": "python3"
  },
  "language_info": {
   "codemirror_mode": {
    "name": "ipython",
    "version": 3
   },
   "file_extension": ".py",
   "mimetype": "text/x-python",
   "name": "python",
   "nbconvert_exporter": "python",
   "pygments_lexer": "ipython3",
   "version": "3.7.6"
  }
 },
 "nbformat": 4,
 "nbformat_minor": 4
}
