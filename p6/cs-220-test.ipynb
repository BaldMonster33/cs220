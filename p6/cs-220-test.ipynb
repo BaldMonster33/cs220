{
 "cells": [
  {
   "cell_type": "code",
   "execution_count": 1,
   "metadata": {},
   "outputs": [],
   "source": [
    "#project :p6\n",
    "#submitter : lqin33\n",
    "#partner : mjiao5"
   ]
  },
  {
   "cell_type": "code",
   "execution_count": 2,
   "metadata": {},
   "outputs": [],
   "source": [
    "import csv\n",
    "import math\n",
    "\n",
    "# copied from https://automatetheboringstuff.com/chapter14/\n",
    "def process_csv(filename):\n",
    "    exampleFile = open(filename, encoding=\"utf-8\")\n",
    "    exampleReader = csv.reader(exampleFile)\n",
    "    exampleData = list(exampleReader)\n",
    "    exampleFile.close()\n",
    "    return exampleData\n",
    "\n",
    "# use process_csv to pull out the header and data rows\n",
    "csv_rows = process_csv(\"wine.csv\")\n",
    "csv_header = csv_rows[0]\n",
    "csv_data = csv_rows[1:]\n",
    "\n"
   ]
  },
  {
   "cell_type": "code",
   "execution_count": 3,
   "metadata": {},
   "outputs": [],
   "source": [
    "#Draft \n",
    "#find index of given number\n",
    "#for i in range(len(csv_data)):\n",
    "#    if csv_rows[i][3] == \"Tinta de Toro\":\n",
    "#        print(i)\n",
    "#def checkAnagrams(str1,str2):\n",
    "#    delimiter = ''\n",
    "#    return sorted(delimiter.join(str1.split()).lower()) == sorted(delimiter.join(str2.split()).lower())\n",
    "#checkAnagrams(\"cat dd\",\"actdd \")  \n",
    "#name = []\n",
    "#def findHighest(header1,header2,name1):#header 1 is where to find, header 2 is find what, name1 is restricted condition.\n",
    "#    value = -1\n",
    "#    for i in range(len(csv_data)):\n",
    "#        if cell(i,\"country\") == name1 and cell(i,header1) != None and float(cell(i,header1)) >= float(value):\n",
    "#            value = cell(i,header1)\n",
    "#            name.append(cell(i,header2))\n",
    "#            continue\n",
    "#   return name\n",
    "#findHighest(\"points\",\"variety\",\"Spain\")\n",
    "\n",
    "#FP\n",
    "\n",
    "#def PPD(country, ifMax):\n",
    "#    foundList = list(map(lambda x : cell(x,\"winery\"), range(len(csv_data))))\n",
    "#    Wineries = findWineries(country)\n",
    "#    foundListIn = list(filter(lambda x : x in Wineries and averagePPD(x) != None, foundList))\n",
    "#    PPD = list(map(lambda x : [averagePPD(x), x], foundListIn))\n",
    "#    PPD1 = list(map(lambda x : x[0], PPD));\n",
    "#    value = max(PPD1) if(ifMax == 'Max') else min(PPD1);\n",
    "#    res = list(filter(lambda x : x[0] == value, PPD))\n",
    "#    return list(map(lambda x:x[1], res))\n",
    "#PPD(\"US\", 'Max')\n",
    "\n",
    "\n",
    "#def findPPD(country,ifMax):\n",
    "#    PPD = []\n",
    "#    res = []\n",
    "#    maxValue = 0\n",
    "#    for i in range(len(csv_data)):\n",
    "#        if cell(i,\"winery\") in findWineries(\"US\"):\n",
    "#            found = foundList[i]\n",
    "#            PPD.append([averagePPD(found), found])\n",
    "#            lastIndex = len(PPD) - 1\n",
    "#        if PPD[lastIndex][0] != None:\n",
    " #           maxValue = max(maxValue, PPD[lastIndex][0])\n",
    " #           res.append(PPD[lastIndex])\n",
    " #   res = list(filter(lambda x : x[0] == maxValue, res))\n",
    " #   return list(map(lambda x:x[1], res))\n",
    "#    PPD1 = list(map(lambda x : x[0], PPD));\n",
    "#    value = max(PPD1) if(ifMax == 'Max') else min(PPD1);"
   ]
  },
  {
   "cell_type": "code",
   "execution_count": 4,
   "metadata": {},
   "outputs": [
    {
     "data": {
      "text/plain": [
       "0"
      ]
     },
     "execution_count": 4,
     "metadata": {},
     "output_type": "execute_result"
    }
   ],
   "source": [
    "def findIndex(name1):\n",
    "    return csv_header.index(name1)\n",
    "findIndex(\"country\")"
   ]
  },
  {
   "cell_type": "code",
   "execution_count": 5,
   "metadata": {},
   "outputs": [],
   "source": [
    "def cell(row_idx, col_name):\n",
    "    col_idx = csv_header.index(col_name)\n",
    "    val = csv_data[row_idx][col_idx]\n",
    "    if val == \"\":\n",
    "        return None\n",
    "    # optional: convert types based on column name?\n",
    "    if col_name == 1 or col_name == \"points\":\n",
    "        return int(val)\n",
    "    if col_name == 2 or col_name == \"price\":\n",
    "        return float(val)\n",
    "    else:\n",
    "        return val# return given unit value."
   ]
  },
  {
   "cell_type": "code",
   "execution_count": 6,
   "metadata": {
    "scrolled": true
   },
   "outputs": [
    {
     "data": {
      "text/plain": [
       "['Italy',\n",
       " 'Bulgaria',\n",
       " 'Austria',\n",
       " 'Moldova',\n",
       " 'Greece',\n",
       " 'Croatia',\n",
       " 'Chile',\n",
       " 'Portugal',\n",
       " 'France',\n",
       " 'New Zealand',\n",
       " 'South Africa',\n",
       " 'US',\n",
       " 'Argentina',\n",
       " 'Israel',\n",
       " 'Canada',\n",
       " 'Australia',\n",
       " 'Spain',\n",
       " 'Hungary',\n",
       " 'Romania',\n",
       " 'Germany',\n",
       " 'India',\n",
       " 'Morocco',\n",
       " 'Slovenia']"
      ]
     },
     "execution_count": 6,
     "metadata": {},
     "output_type": "execute_result"
    }
   ],
   "source": [
    "#q1 \n",
    "def findCountry():\n",
    "    i = 0\n",
    "    raw = []\n",
    "    for i in range(len(csv_data)):\n",
    "        if csv_data[i][findIndex(\"country\")] != \"\":\n",
    "            raw.append(csv_data[i][findIndex(\"country\")])\n",
    "            continue\n",
    "    return list(set(raw))\n",
    "\n",
    "findCountry()\n",
    "#list2=[]\n",
    "#for i in list1:\n",
    "#   if i not in list2:\n",
    "#        list2.append(i)\n",
    "#print(list1)\n",
    "\n",
    "#for i in range(len(list1)):\n",
    "#    if list1[i] == None:\n",
    "#        print(i)\n",
    "#    else:\n",
    "#        continue"
   ]
  },
  {
   "cell_type": "code",
   "execution_count": 7,
   "metadata": {},
   "outputs": [
    {
     "data": {
      "text/plain": [
       "39.40787623066104"
      ]
     },
     "execution_count": 7,
     "metadata": {},
     "output_type": "execute_result"
    }
   ],
   "source": [
    "#q2\n",
    "def findAvgPrice():\n",
    "    i = 0\n",
    "    price_raw = []\n",
    "    for i in range(len(csv_data)):\n",
    "        if cell(i,\"price\") != None:\n",
    "        #if csv_data[i][findIndex(\"price\")]!= \"\": \n",
    "            #raw.append(csv_data[i][findIndex(\"price\")])\n",
    "            price_raw.append(float(cell(i,\"price\")))\n",
    "            continue\n",
    "    return sum(price_raw)/len(price_raw)\n",
    "findAvgPrice()"
   ]
  },
  {
   "cell_type": "code",
   "execution_count": 8,
   "metadata": {},
   "outputs": [
    {
     "data": {
      "text/plain": [
       "['Kumeu River', 'Felton Road', 'Spy Valley']"
      ]
     },
     "execution_count": 8,
     "metadata": {},
     "output_type": "execute_result"
    }
   ],
   "source": [
    "#q3 \n",
    "def findNewZealandWineries():\n",
    "    i = 0\n",
    "    Wineries = []\n",
    "    for i in range(len(csv_data)):\n",
    "        if cell(i,\"country\") == \"New Zealand\":\n",
    "            Wineries.append(cell(i,\"winery\"))\n",
    "            continue\n",
    "    return list(set(Wineries))\n",
    "findNewZealandWineries()"
   ]
  },
  {
   "cell_type": "code",
   "execution_count": 9,
   "metadata": {},
   "outputs": [
    {
     "data": {
      "text/plain": [
       "['Lemberger',\n",
       " 'Cabernet Franc',\n",
       " 'Bordeaux-style Red Blend',\n",
       " 'Nebbiolo',\n",
       " 'Merlot',\n",
       " 'Sangiovese',\n",
       " 'Blaufränkisch',\n",
       " 'Rosé',\n",
       " 'Meritage',\n",
       " 'Aglianico',\n",
       " 'Pinot Noir',\n",
       " 'Cabernet Sauvignon',\n",
       " 'Zinfandel']"
      ]
     },
     "execution_count": 9,
     "metadata": {},
     "output_type": "execute_result"
    }
   ],
   "source": [
    "#Q4: Which wine varieties contain the phrase \"cranberry\" in the description?\n",
    "def findGivenWord(word1,header):\n",
    "    i = 0\n",
    "    raw_list = []\n",
    "    for i in range(len(csv_data)):\n",
    "        if cell(i, \"description\").lower().find(word1) != -1:\n",
    "            raw_list.append(cell(i,header))\n",
    "    return list(set(raw_list))\n",
    "findGivenWord(\"cranberry\",\"variety\")"
   ]
  },
  {
   "cell_type": "code",
   "execution_count": 10,
   "metadata": {},
   "outputs": [
    {
     "data": {
      "text/plain": [
       "['Pinot Grigio', 'Chardonnay', 'Sparkling Blend']"
      ]
     },
     "execution_count": 10,
     "metadata": {},
     "output_type": "execute_result"
    }
   ],
   "source": [
    "#Q5: Which wine varieties contain the phrase \"lemon-lime soda\" in the description?\n",
    "findGivenWord(\"lemon-lime soda\",\"variety\")"
   ]
  },
  {
   "cell_type": "code",
   "execution_count": 11,
   "metadata": {},
   "outputs": [
    {
     "data": {
      "text/plain": [
       "['Tinta de Toro', 'Castelão', 'Tempranillo', 'Red Blend', 'Cabernet Sauvignon']"
      ]
     },
     "execution_count": 11,
     "metadata": {},
     "output_type": "execute_result"
    }
   ],
   "source": [
    "#Q6: Which wine varieties contain the phrase \"black-fruit\" in their description?\n",
    "findGivenWord(\"black-fruit\",\"variety\")"
   ]
  },
  {
   "cell_type": "code",
   "execution_count": 12,
   "metadata": {},
   "outputs": [
    {
     "data": {
      "text/plain": [
       "['Cabernet Sauvignon']"
      ]
     },
     "execution_count": 12,
     "metadata": {},
     "output_type": "execute_result"
    }
   ],
   "source": [
    "#q7 Which wine varieties are anagrams of the phrase \"antibus governance\"?\n",
    "def findAnagrams(str1,header):\n",
    "    i = 0\n",
    "    raw_list = []\n",
    "    delimiter = ''\n",
    "    for i in range(len(csv_data)):\n",
    "        str2 = cell(i,header)\n",
    "        if sorted(delimiter.join(str1.split()).lower()) == sorted(delimiter.join(str2.split()).lower()):\n",
    "            raw_list.append(cell(i,header))\n",
    "            continue\n",
    "    return list(set(raw_list))\n",
    "findAnagrams(\"antibus governance\",\"variety\")"
   ]
  },
  {
   "cell_type": "code",
   "execution_count": 13,
   "metadata": {},
   "outputs": [
    {
     "data": {
      "text/plain": [
       "123"
      ]
     },
     "execution_count": 13,
     "metadata": {},
     "output_type": "execute_result"
    }
   ],
   "source": [
    "#Q8: How many unique wineries, produce the wine variety \"Pinot Noir\"?\n",
    "def findWineries(word1,word2,header):#word1 is ponot, header is variety, word2 is wineries\n",
    "    i = 0\n",
    "    Wineries = []\n",
    "    for i in range(len(csv_data)):\n",
    "        if cell(i,header) == word1:\n",
    "            Wineries.append(cell(i,word2))\n",
    "            continue\n",
    "    return len(list(set(Wineries)))\n",
    "findWineries(\"Pinot Noir\",\"winery\",\"variety\")"
   ]
  },
  {
   "cell_type": "code",
   "execution_count": 14,
   "metadata": {},
   "outputs": [
    {
     "data": {
      "text/plain": [
       "['Tinta de Toro']"
      ]
     },
     "execution_count": 14,
     "metadata": {},
     "output_type": "execute_result"
    }
   ],
   "source": [
    "#q9\n",
    "def findHighest(header1,header2,name1):#header 1 is where to find, header 2 is find what, name1 is restricted condition.\n",
    "    name = []\n",
    "    value = -1\n",
    "    for i in range(len(csv_data)):\n",
    "        if cell(i,\"country\") == name1 and cell(i,header1) != None and float(cell(i,header1)) >= float(value):\n",
    "            value = cell(i,header1)\n",
    "            continue\n",
    "    for i in range(len(csv_data)):\n",
    "        if cell(i,\"country\") == name1 and cell(i,header1) != None and float(cell(i,header1)) == float(value):\n",
    "            name.append(cell(i,header2))\n",
    "    return name\n",
    "findHighest(\"points\",\"variety\",\"Spain\")\n"
   ]
  },
  {
   "cell_type": "code",
   "execution_count": 15,
   "metadata": {},
   "outputs": [
    {
     "data": {
      "text/plain": [
       "['Gaja']"
      ]
     },
     "execution_count": 15,
     "metadata": {},
     "output_type": "execute_result"
    }
   ],
   "source": [
    "#q10\n",
    "findHighest(\"price\",\"winery\",\"Italy\")"
   ]
  },
  {
   "cell_type": "code",
   "execution_count": 16,
   "metadata": {},
   "outputs": [
    {
     "data": {
      "text/plain": [
       "1.98628003003003"
      ]
     },
     "execution_count": 16,
     "metadata": {},
     "output_type": "execute_result"
    }
   ],
   "source": [
    "#Q11: What is the average points-per-dollar (PPD) ratio of the \"Patricia Green Cellars\" winery?\n",
    "def averagePPD(winery):\n",
    "    PPD = []\n",
    "    for i in range(len(csv_data)):\n",
    "        if cell(i,\"winery\") == winery and cell(i,\"points\") != None and cell(i,\"price\") != None and cell(i,\"points\") != 0 and cell(i,\"price\") != 0:\n",
    "            PPD.append(cell(i,\"points\") / cell(i,\"price\"))\n",
    "            continue\n",
    "    if len(PPD) != 0:\n",
    "        return sum(PPD) / len(PPD)\n",
    "\n",
    "averagePPD(\"Patricia Green Cellars\")\n",
    "        "
   ]
  },
  {
   "cell_type": "code",
   "execution_count": 17,
   "metadata": {},
   "outputs": [
    {
     "data": {
      "text/plain": [
       "0.2923076923076923"
      ]
     },
     "execution_count": 17,
     "metadata": {},
     "output_type": "execute_result"
    }
   ],
   "source": [
    "#Q12: What is the average PPD of the \"Hall\" winery?\n",
    "averagePPD(\"Hall\")"
   ]
  },
  {
   "cell_type": "code",
   "execution_count": 18,
   "metadata": {},
   "outputs": [],
   "source": [
    "def findWineries(country):\n",
    "    Winery = []\n",
    "    for i in range(len(csv_data)):\n",
    "        if cell(i,\"country\") == country:\n",
    "            Winery.append(cell(i,\"winery\"))\n",
    "            continue\n",
    "    return list(set(Winery))"
   ]
  },
  {
   "cell_type": "code",
   "execution_count": 19,
   "metadata": {
    "scrolled": true
   },
   "outputs": [
    {
     "data": {
      "text/plain": [
       "['Grand Pacific']"
      ]
     },
     "execution_count": 19,
     "metadata": {},
     "output_type": "execute_result"
    }
   ],
   "source": [
    "#q13\n",
    "def findPPD(country,ifMax):\n",
    "    PPD1 = []\n",
    "    PPD2 = []\n",
    "    for i in range(len(csv_data)):\n",
    "        if cell(i,\"winery\") in findWineries(country) and averagePPD(cell(i,\"winery\")) != None:\n",
    "            found = cell(i,\"winery\")\n",
    "            PPD1.append(averagePPD(found))\n",
    "            PPD2.append(found)\n",
    "    if(ifMax == \"Max\"):\n",
    "        value = max(PPD1)\n",
    "    else:\n",
    "        value = min(PPD1)\n",
    "    ansList = []\n",
    "    for i in range(len(PPD1)):\n",
    "        if PPD1[i] == value:\n",
    "            ansList.append(PPD2[i])\n",
    "    return ansList\n",
    "findPPD(\"US\",\"Max\")\n",
    "\n"
   ]
  },
  {
   "cell_type": "code",
   "execution_count": 20,
   "metadata": {},
   "outputs": [
    {
     "data": {
      "text/plain": [
       "['Long Neck', 'Essay', 'Robertson Winery', 'KWV']"
      ]
     },
     "execution_count": 20,
     "metadata": {},
     "output_type": "execute_result"
    }
   ],
   "source": [
    "#Q14: Which wineries in South Africa have the highest average PPD?\n",
    "findPPD(\"South Africa\",\"Max\")"
   ]
  },
  {
   "cell_type": "code",
   "execution_count": 21,
   "metadata": {},
   "outputs": [
    {
     "data": {
      "text/plain": [
       "['Bodega Las Cañitas']"
      ]
     },
     "execution_count": 21,
     "metadata": {},
     "output_type": "execute_result"
    }
   ],
   "source": [
    "#Q15: which wineies in Argentina have the lowest average PPD?\n",
    "findPPD(\"Argentina\",\"Min\")"
   ]
  },
  {
   "cell_type": "code",
   "execution_count": 22,
   "metadata": {},
   "outputs": [
    {
     "data": {
      "text/plain": [
       "['Cabernet Franc']"
      ]
     },
     "execution_count": 22,
     "metadata": {},
     "output_type": "execute_result"
    }
   ],
   "source": [
    "#Q16: Which wine varieties are produced by the \"Ironstone\" winery?\n",
    "def findVariety(winery):\n",
    "    ans_q16 = []\n",
    "    for i in range(len(csv_data)):\n",
    "        if cell(i, \"winery\") == winery:\n",
    "            ans_q16.append(cell(i, \"variety\"))\n",
    "    return ans_q16\n",
    "        \n",
    "#ans_q16 = list(filter(lambda x : cell(x, \"winery\") == \"Ironstone\", range(len(csv_data))))\n",
    "#ans_q16 = list(map(lambda x : cell(x, \"variety\"), ans_q16))\n",
    "\n",
    "findVariety(\"Ironstone\")"
   ]
  },
  {
   "cell_type": "code",
   "execution_count": 23,
   "metadata": {},
   "outputs": [
    {
     "data": {
      "text/plain": [
       "['Portuguese White', 'Portuguese Rosé', 'Portuguese Red']"
      ]
     },
     "execution_count": 23,
     "metadata": {},
     "output_type": "execute_result"
    }
   ],
   "source": [
    "#q17\n",
    "findVariety(\"Quinta Nova de Nossa Senhora do Carmo\")"
   ]
  },
  {
   "cell_type": "code",
   "execution_count": 24,
   "metadata": {},
   "outputs": [
    {
     "data": {
      "text/plain": [
       "7.6923076923076925"
      ]
     },
     "execution_count": 24,
     "metadata": {},
     "output_type": "execute_result"
    }
   ],
   "source": [
    "#Q18: What percentage of wine varieties that contain the word \"cranberry\" in its description also contain the phrase \"black-fruit\" in its description? See Q4 and Q6.\n",
    "def findWord(word1, word2):\n",
    "    word_set_1 = set(findGivenWord(word1,\"variety\"));\n",
    "    word_set_2 = set(findGivenWord(word2,\"variety\"));\n",
    "    percentage = len(word_set_1.intersection(word_set_2))/len(word_set_1) * 100\n",
    "    return percentage\n",
    "findWord(\"cranberry\",\"black-fruit\")\n"
   ]
  },
  {
   "cell_type": "code",
   "execution_count": 25,
   "metadata": {},
   "outputs": [
    {
     "data": {
      "text/plain": [
       "130.0"
      ]
     },
     "execution_count": 25,
     "metadata": {},
     "output_type": "execute_result"
    }
   ],
   "source": [
    "#Q19: What is the price of the most expensive wine that you could find in Portugal?\n",
    "def findCP(country, CP):\n",
    "    ans_q19 = list(filter(lambda x : cell(x,\"country\") == country and cell(x,\"price\") != None, range(len(csv_data))))\n",
    "    if CP == \"Max\":\n",
    "        price = max(list(map(lambda x: cell(x,\"price\"),ans_q19)))\n",
    "    else:\n",
    "        price = min(list(map(lambda x: cell(x,\"price\"),ans_q19)))\n",
    "    ans_q19_3 = list(filter(lambda x : cell(x,\"price\") == price, ans_q19))\n",
    "    ans_q19_4 = list(map(lambda x : cell(x,\"variety\"), ans_q19_3))\n",
    "    return price\n",
    "findCP(\"Portugal\", \"Max\")"
   ]
  },
  {
   "cell_type": "code",
   "execution_count": 26,
   "metadata": {},
   "outputs": [
    {
     "data": {
      "text/plain": [
       "281.0"
      ]
     },
     "execution_count": 26,
     "metadata": {},
     "output_type": "execute_result"
    }
   ],
   "source": [
    "#Q20: What is the total cost of buying two bottles of the most expensive wine and three bottles of the cheapest wine in Portugal?\n",
    "findCP(\"Portugal\", \"Max\") * 2 + findCP(\"Portugal\", \"Min\") * 3"
   ]
  },
  {
   "cell_type": "code",
   "execution_count": null,
   "metadata": {},
   "outputs": [],
   "source": []
  },
  {
   "cell_type": "code",
   "execution_count": null,
   "metadata": {},
   "outputs": [],
   "source": []
  },
  {
   "cell_type": "code",
   "execution_count": null,
   "metadata": {},
   "outputs": [],
   "source": []
  },
  {
   "cell_type": "code",
   "execution_count": null,
   "metadata": {},
   "outputs": [],
   "source": []
  }
 ],
 "metadata": {
  "kernelspec": {
   "display_name": "Python 3",
   "language": "python",
   "name": "python3"
  },
  "language_info": {
   "codemirror_mode": {
    "name": "ipython",
    "version": 3
   },
   "file_extension": ".py",
   "mimetype": "text/x-python",
   "name": "python",
   "nbconvert_exporter": "python",
   "pygments_lexer": "ipython3",
   "version": "3.8.1"
  }
 },
 "nbformat": 4,
 "nbformat_minor": 4
}
