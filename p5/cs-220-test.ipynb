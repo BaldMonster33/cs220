{
 "cells": [
  {
   "cell_type": "code",
   "execution_count": 1,
   "metadata": {},
   "outputs": [],
   "source": [
    "# project: p5\n",
    "# submitter: lqin33\n",
    "# partner: None"
   ]
  },
  {
   "cell_type": "code",
   "execution_count": 2,
   "metadata": {},
   "outputs": [
    {
     "data": {
      "text/plain": [
       "['__builtins__',\n",
       " '__cached__',\n",
       " '__doc__',\n",
       " '__file__',\n",
       " '__hurricane__',\n",
       " '__init__',\n",
       " '__loader__',\n",
       " '__name__',\n",
       " '__package__',\n",
       " '__spec__',\n",
       " 'count',\n",
       " 'get_damage',\n",
       " 'get_deaths',\n",
       " 'get_dissipated',\n",
       " 'get_formed',\n",
       " 'get_mph',\n",
       " 'get_name']"
      ]
     },
     "execution_count": 2,
     "metadata": {},
     "output_type": "execute_result"
    }
   ],
   "source": [
    "import project\n",
    "dir(project)"
   ]
  },
  {
   "cell_type": "code",
   "execution_count": 3,
   "metadata": {},
   "outputs": [
    {
     "data": {
      "text/plain": [
       "133"
      ]
     },
     "execution_count": 3,
     "metadata": {},
     "output_type": "execute_result"
    }
   ],
   "source": [
    "#q1\n",
    "def recordsNum():\n",
    "    return project.count()\n",
    "recordsNum()"
   ]
  },
  {
   "cell_type": "code",
   "execution_count": 4,
   "metadata": {},
   "outputs": [
    {
     "data": {
      "text/plain": [
       "'Omar'"
      ]
     },
     "execution_count": 4,
     "metadata": {},
     "output_type": "execute_result"
    }
   ],
   "source": [
    "#q2\n",
    "def getLastOne():\n",
    "    return project.get_name(project.count()-1)\n",
    "getLastOne()"
   ]
  },
  {
   "cell_type": "code",
   "execution_count": 5,
   "metadata": {},
   "outputs": [
    {
     "data": {
      "text/plain": [
       "72"
      ]
     },
     "execution_count": 5,
     "metadata": {},
     "output_type": "execute_result"
    }
   ],
   "source": [
    "#q3\n",
    "def getDeath():\n",
    "    return project.get_deaths(10)\n",
    "getDeath()"
   ]
  },
  {
   "cell_type": "code",
   "execution_count": 6,
   "metadata": {},
   "outputs": [
    {
     "data": {
      "text/plain": [
       "True"
      ]
     },
     "execution_count": 6,
     "metadata": {},
     "output_type": "execute_result"
    }
   ],
   "source": [
    "#q4\n",
    "def detectBob():\n",
    "    idx = 0\n",
    "    for i in range(project.count()):\n",
    "        idx += 1\n",
    "        if project.get_name(i) == \"Bob\":\n",
    "            return True\n",
    "            break\n",
    "        if idx == project.count():\n",
    "            return False\n",
    "            \n",
    "detectBob()"
   ]
  },
  {
   "cell_type": "code",
   "execution_count": 7,
   "metadata": {},
   "outputs": [
    {
     "data": {
      "text/plain": [
       "3"
      ]
     },
     "execution_count": 7,
     "metadata": {},
     "output_type": "execute_result"
    }
   ],
   "source": [
    "#q5\n",
    "def countFlorence():\n",
    "    a = 0\n",
    "    for i in range(project.count()):    \n",
    "        if project.get_name(i).upper() == \"FLORENCE\":\n",
    "            a += 1\n",
    "    return a\n",
    "#Do I need \"else\" for my for loop?\n",
    "countFlorence()"
   ]
  },
  {
   "cell_type": "code",
   "execution_count": 8,
   "metadata": {},
   "outputs": [
    {
     "data": {
      "text/plain": [
       "190"
      ]
     },
     "execution_count": 8,
     "metadata": {},
     "output_type": "execute_result"
    }
   ],
   "source": [
    "#q6 \n",
    "def findFastest():\n",
    "    fastest_i = 0\n",
    "    for i in range(project.count()):\n",
    "        if project.get_mph(i) > fastest_i:\n",
    "            fastest_i = project.get_mph(i)\n",
    "\n",
    "    return fastest_i\n",
    "\n",
    "findFastest()"
   ]
  },
  {
   "cell_type": "code",
   "execution_count": 9,
   "metadata": {},
   "outputs": [
    {
     "data": {
      "text/plain": [
       "'Allen'"
      ]
     },
     "execution_count": 9,
     "metadata": {},
     "output_type": "execute_result"
    }
   ],
   "source": [
    "#q7\n",
    "def findName():\n",
    "    fastest_i = 0\n",
    "    for i in range(project.count()):\n",
    "        if project.get_mph(i) > project.get_mph(fastest_i):\n",
    "            fastest_i = i\n",
    "    return project.get_name(fastest_i)\n",
    "findName()\n"
   ]
  },
  {
   "cell_type": "code",
   "execution_count": 10,
   "metadata": {},
   "outputs": [
    {
     "data": {
      "text/plain": [
       "1570000000"
      ]
     },
     "execution_count": 10,
     "metadata": {},
     "output_type": "execute_result"
    }
   ],
   "source": [
    "#q8\n",
    "def convertNum(damage):\n",
    "    if damage[-1] == 'K':\n",
    "        return int(float(damage[:-1]) * 1000)\n",
    "    elif damage[-1] == 'M':\n",
    "        return int(float(damage[:-1]) * 1000000)\n",
    "    else:\n",
    "        return int(float(damage[:-1]) * 1000000000)\n",
    "def format_damage():\n",
    "    max_index = -1\n",
    "    for i in range(project.count()):\n",
    "        if project.get_mph(i) > project.get_mph(max_index):\n",
    "            max_index = i\n",
    "    return project.get_damage(max_index)\n",
    "\n",
    "convertNum(format_damage())"
   ]
  },
  {
   "cell_type": "code",
   "execution_count": 11,
   "metadata": {},
   "outputs": [
    {
     "data": {
      "text/plain": [
       "18960"
      ]
     },
     "execution_count": 11,
     "metadata": {},
     "output_type": "execute_result"
    }
   ],
   "source": [
    "#q9\n",
    "def totalDeath():\n",
    "    idx = 0\n",
    "    for i in range(project.count()):\n",
    "        idx = idx + project.get_deaths(i)\n",
    "    return idx\n",
    "totalDeath()"
   ]
  },
  {
   "cell_type": "code",
   "execution_count": 12,
   "metadata": {},
   "outputs": [],
   "source": [
    "def get_month(date):\n",
    "    return int(date[:2])\n",
    "def get_day(date):\n",
    "    return int(date[4:6])\n",
    "def get_year(date):\n",
    "    return int(date[6:])\n",
    "#Q10: What was the deadliest hurricane between 2010 and 2020 (inclusive)?\n",
    "# return index of deadliest hurricane over the given date range\n",
    "def deadliest_in_range(year1, year2):\n",
    "    worst_idx = None\n",
    "    for i in range(project.count()):\n",
    "        if get_year(project.get_formed(i)) >= year1 and get_year(project.get_dissipated(i)) <= year2:  # TODO: check if year is in range\n",
    "            if worst_idx == None or project.get_deaths(worst_idx) < project.get_deaths(i):  # TODO: it is worse than previous?\n",
    "                worst_idx = i\n",
    "    return project.get_name(worst_idx)"
   ]
  },
  {
   "cell_type": "code",
   "execution_count": 13,
   "metadata": {},
   "outputs": [
    {
     "data": {
      "text/plain": [
       "'Maria'"
      ]
     },
     "execution_count": 13,
     "metadata": {},
     "output_type": "execute_result"
    }
   ],
   "source": [
    "#q10\n",
    "deadliest_in_range(2010, 2020)"
   ]
  },
  {
   "cell_type": "code",
   "execution_count": 14,
   "metadata": {},
   "outputs": [
    {
     "data": {
      "text/plain": [
       "'Inez'"
      ]
     },
     "execution_count": 14,
     "metadata": {},
     "output_type": "execute_result"
    }
   ],
   "source": [
    "#q11\n",
    "deadliest_in_range(1901, 2000)"
   ]
  },
  {
   "cell_type": "code",
   "execution_count": 15,
   "metadata": {},
   "outputs": [
    {
     "data": {
      "text/plain": [
       "1899"
      ]
     },
     "execution_count": 15,
     "metadata": {},
     "output_type": "execute_result"
    }
   ],
   "source": [
    "#q12\n",
    "def deadHurricane():\n",
    "    idx = 0\n",
    "    for i in range(project.count()):\n",
    "        if project.get_deaths(i) > project.get_deaths(idx):\n",
    "            idx = i\n",
    "    return project.get_formed(idx)\n",
    "get_year(deadHurricane())"
   ]
  },
  {
   "cell_type": "code",
   "execution_count": 16,
   "metadata": {},
   "outputs": [
    {
     "data": {
      "text/plain": [
       "91610000000"
      ]
     },
     "execution_count": 16,
     "metadata": {},
     "output_type": "execute_result"
    }
   ],
   "source": [
    "#q13\n",
    "def damageOfdead(year1,year2):\n",
    "    worst_idx = None\n",
    "    for i in range(project.count()):\n",
    "        if get_year(project.get_formed(i)) >= year1 and get_year(project.get_dissipated(i)) <= year2: \n",
    "            if worst_idx == None or project.get_deaths(worst_idx) < project.get_deaths(i):  # TODO: it is worse than previous?\n",
    "                worst_idx = i\n",
    "    return project.get_damage(worst_idx)\n",
    "convertNum(damageOfdead(2001,2100))"
   ]
  },
  {
   "cell_type": "code",
   "execution_count": 17,
   "metadata": {},
   "outputs": [
    {
     "data": {
      "text/plain": [
       "864830464997"
      ]
     },
     "execution_count": 17,
     "metadata": {},
     "output_type": "execute_result"
    }
   ],
   "source": [
    "#q14\n",
    "def totalDamage():\n",
    "    damage = 0\n",
    "    for i in range(project.count()):\n",
    "        damage += convertNum(project.get_damage(i))\n",
    "    return damage\n",
    "totalDamage()       "
   ]
  },
  {
   "cell_type": "code",
   "execution_count": 18,
   "metadata": {},
   "outputs": [],
   "source": [
    "def hurricanes_in_month(mm):\n",
    "    num_of_hurricanes = 0\n",
    "    for i in range(project.count()):\n",
    "        if get_month(project.get_formed(i)) == mm:\n",
    "            num_of_hurricanes += 1\n",
    "    return num_of_hurricanes"
   ]
  },
  {
   "cell_type": "code",
   "execution_count": 19,
   "metadata": {},
   "outputs": [
    {
     "data": {
      "text/plain": [
       "4"
      ]
     },
     "execution_count": 19,
     "metadata": {},
     "output_type": "execute_result"
    }
   ],
   "source": [
    "#q15\n",
    "hurricanes_in_month(6)"
   ]
  },
  {
   "cell_type": "code",
   "execution_count": 20,
   "metadata": {},
   "outputs": [
    {
     "data": {
      "text/plain": [
       "3"
      ]
     },
     "execution_count": 20,
     "metadata": {},
     "output_type": "execute_result"
    }
   ],
   "source": [
    "#q16\n",
    "hurricanes_in_month(1)"
   ]
  },
  {
   "cell_type": "code",
   "execution_count": 21,
   "metadata": {},
   "outputs": [
    {
     "data": {
      "text/plain": [
       "9"
      ]
     },
     "execution_count": 21,
     "metadata": {},
     "output_type": "execute_result"
    }
   ],
   "source": [
    "#q17\n",
    "def mostNum():\n",
    "    idx = 0\n",
    "    for i in range(12):\n",
    "        if hurricanes_in_month(i) > hurricanes_in_month(idx):\n",
    "            idx = i\n",
    "    return idx\n",
    "mostNum()"
   ]
  },
  {
   "cell_type": "code",
   "execution_count": 22,
   "metadata": {},
   "outputs": [],
   "source": [
    "def hurricanes_in_range(year1, year2):\n",
    "    worst_idx = 0\n",
    "    for i in range(project.count()):\n",
    "        if get_year(project.get_formed(i)) >= year1 and get_year(project.get_dissipated(i)) <= year2:  # TODO: check if year is in range\n",
    "                worst_idx += 1\n",
    "    return worst_idx"
   ]
  },
  {
   "cell_type": "code",
   "execution_count": 23,
   "metadata": {},
   "outputs": [
    {
     "data": {
      "text/plain": [
       "25"
      ]
     },
     "execution_count": 23,
     "metadata": {},
     "output_type": "execute_result"
    }
   ],
   "source": [
    "#q18\n",
    "hurricanes_in_range(1990, 1999)"
   ]
  },
  {
   "cell_type": "code",
   "execution_count": 24,
   "metadata": {},
   "outputs": [],
   "source": [
    "#Q19: How many years in the history experienced a hurricane that caused more than 200 in deaths?\n",
    "#Q20: How many years in the history experienced a hurricane that caused more than 10 Billion in damage?\n",
    "#Good luck with your hurricanes project! :)\n",
    "\n"
   ]
  },
  {
   "cell_type": "code",
   "execution_count": 25,
   "metadata": {},
   "outputs": [
    {
     "data": {
      "text/plain": [
       "16"
      ]
     },
     "execution_count": 25,
     "metadata": {},
     "output_type": "execute_result"
    }
   ],
   "source": [
    "#q19\n",
    "def countYearDeaths():\n",
    "    idx = 0\n",
    "    for i in range(project.count()):\n",
    "        if project.get_deaths(i) >= 200:\n",
    "            idx += 1\n",
    "    return idx\n",
    "countYearDeaths()"
   ]
  },
  {
   "cell_type": "code",
   "execution_count": 26,
   "metadata": {},
   "outputs": [
    {
     "data": {
      "text/plain": [
       "11"
      ]
     },
     "execution_count": 26,
     "metadata": {},
     "output_type": "execute_result"
    }
   ],
   "source": [
    "#q20\n",
    "def findMinYear():\n",
    "    idx = 0\n",
    "    for i in range(project.count()):\n",
    "        if get_year(project.get_formed(i)) < get_year(project.get_formed(idx)):\n",
    "            idx = i\n",
    "    return get_year(project.get_formed(idx))\n",
    "minYear = findMinYear()\n",
    "\n",
    "def findMaxYear():\n",
    "    idx = 0\n",
    "    for i in range(project.count()):\n",
    "        if get_year(project.get_formed(i)) > get_year(project.get_formed(idx)):\n",
    "            idx = i\n",
    "    return get_year(project.get_formed(idx))\n",
    "maxYear = findMaxYear()\n",
    "\n",
    "def checkYearDamage():\n",
    "    idx = 0\n",
    "    for i in range(minYear,maxYear+1,1):\n",
    "        for j in range(project.count()):\n",
    "            if get_year(project.get_formed(j)) == i and convertNum(project.get_damage(j)) > 10000000000:\n",
    "                idx +=1\n",
    "                break\n",
    "    return idx\n",
    "\n",
    "checkYearDamage()"
   ]
  },
  {
   "cell_type": "code",
   "execution_count": null,
   "metadata": {},
   "outputs": [],
   "source": []
  },
  {
   "cell_type": "code",
   "execution_count": null,
   "metadata": {},
   "outputs": [],
   "source": []
  },
  {
   "cell_type": "code",
   "execution_count": null,
   "metadata": {},
   "outputs": [],
   "source": []
  }
 ],
 "metadata": {
  "kernelspec": {
   "display_name": "Python 3",
   "language": "python",
   "name": "python3"
  },
  "language_info": {
   "codemirror_mode": {
    "name": "ipython",
    "version": 3
   },
   "file_extension": ".py",
   "mimetype": "text/x-python",
   "name": "python",
   "nbconvert_exporter": "python",
   "pygments_lexer": "ipython3",
   "version": "3.8.1"
  }
 },
 "nbformat": 4,
 "nbformat_minor": 4
}
