{
 "cells": [
  {
   "cell_type": "code",
   "execution_count": 1,
   "metadata": {},
   "outputs": [],
   "source": [
    "#project :p7\n",
    "#submitter : lqin33\n",
    "#partner : mjiao5"
   ]
  },
  {
   "cell_type": "code",
   "execution_count": 2,
   "metadata": {},
   "outputs": [],
   "source": [
    "import csv\n",
    "\n",
    "fifa_file = open('Fifa20.csv', encoding='utf-8')\n",
    "file_reader = csv.reader(fifa_file)\n",
    "player_data = list(file_reader)\n",
    "fifa_file.close()\n",
    "header = player_data[0] #header\n",
    "pd = player_data = player_data[1:] #player_data\n",
    "for row in player_data:\n",
    "    for idx in [2, 4]:\n",
    "        row[idx] = int(row[idx])"
   ]
  },
  {
   "cell_type": "code",
   "execution_count": 3,
   "metadata": {},
   "outputs": [
    {
     "data": {
      "text/plain": [
       "['158023',\n",
       " 'L. Messi',\n",
       " 32,\n",
       " 'Argentina',\n",
       " 94,\n",
       " 'FC Barcelona',\n",
       " 'RW',\n",
       " '€95.5M',\n",
       " '€565K',\n",
       " 'Left',\n",
       " '10',\n",
       " \"5'7\",\n",
       " '159lbs']"
      ]
     },
     "execution_count": 3,
     "metadata": {},
     "output_type": "execute_result"
    }
   ],
   "source": [
    "pd[0]"
   ]
  },
  {
   "cell_type": "code",
   "execution_count": 4,
   "metadata": {},
   "outputs": [],
   "source": [
    "def get_index_number(col_name):\n",
    "    for i in range(len(header)):\n",
    "        if header[i] == col_name:\n",
    "            return i"
   ]
  },
  {
   "cell_type": "code",
   "execution_count": 5,
   "metadata": {},
   "outputs": [],
   "source": [
    "player_dict = []\n",
    "for row in player_data:\n",
    "    dict_1 = {}\n",
    "    for i in range(len(header)):\n",
    "        dict_1[header[i]] = row[i]\n",
    "    player_dict.append(dict_1)\n",
    "\n",
    "    \n",
    "player_dict_backup = []\n",
    "for row in player_data:\n",
    "    dict_1 = {}\n",
    "    for i in range(len(header)):\n",
    "        dict_1[header[i]] = row[i]\n",
    "    player_dict_backup.append(dict_1)"
   ]
  },
  {
   "cell_type": "code",
   "execution_count": 6,
   "metadata": {},
   "outputs": [],
   "source": [
    "for row in player_dict:\n",
    "    for i in ['Wage','Value']:\n",
    "        if row[i][-1] == 'K':\n",
    "            row[i] = int(float(row[i][:-1].strip('€')) * 1000)\n",
    "        elif row[i][-1] == 'M':\n",
    "            row[i] = int(float(row[i][:-1].strip('€')) * 1000000)\n",
    "        elif row[i][-1] == 'B':\n",
    "            row[i] = int(float(row[i][:-1].strip('€')) * 1000000000)\n",
    "        else:\n",
    "            row[i] = int(float(row[i].strip('€')))\n",
    "   "
   ]
  },
  {
   "cell_type": "code",
   "execution_count": 7,
   "metadata": {},
   "outputs": [
    {
     "data": {
      "text/plain": [
       "{'ID': '20801',\n",
       " 'Name': 'Cristiano Ronaldo',\n",
       " 'Age': 34,\n",
       " 'Nationality': 'Portugal',\n",
       " 'Overall': 93,\n",
       " 'Club': 'Juventus',\n",
       " 'Position': 'ST',\n",
       " 'Value': 58500000,\n",
       " 'Wage': 405000,\n",
       " 'Preferred Foot': 'Right',\n",
       " 'Jersey Number': '7',\n",
       " 'Height': \"6'2\",\n",
       " 'Weight': '183lbs'}"
      ]
     },
     "execution_count": 7,
     "metadata": {},
     "output_type": "execute_result"
    }
   ],
   "source": [
    "player_dict[1]"
   ]
  },
  {
   "cell_type": "code",
   "execution_count": 8,
   "metadata": {},
   "outputs": [
    {
     "data": {
      "text/plain": [
       "'A. Hložek'"
      ]
     },
     "execution_count": 8,
     "metadata": {},
     "output_type": "execute_result"
    }
   ],
   "source": [
    "def best_answer(target, header1, header2):\n",
    "    best_row = None\n",
    "    for row in range(len(player_dict)):\n",
    "        if target == \"lowest\":\n",
    "            if best_row == None or int(player_dict[row][header1]) < int(player_dict[best_row][header1]):\n",
    "                best_row = row\n",
    "        elif target == \"highest\":\n",
    "            if best_row == None or int(player_dict[row][header1]) > int(player_dict[best_row][header1]):\n",
    "                best_row = row\n",
    "    return player_dict[best_row][header2]\n",
    "best_answer(\"lowest\", \"Age\", \"Name\")"
   ]
  },
  {
   "cell_type": "code",
   "execution_count": 9,
   "metadata": {},
   "outputs": [],
   "source": [
    "def find_name(if_Max, header1, name = \"Name\"):\n",
    "    find_row = None\n",
    "    for row in range(len(player_dict)):\n",
    "        if if_Max == \"Max\":\n",
    "            if find_row == None or player_dict[row][header1] > player_dict[find_row][header1]:\n",
    "                find_row = row\n",
    "        else:\n",
    "            if find_row == None or player_dict[row][header1] < player_dict[find_row][header1]:\n",
    "                find_row = row\n",
    "    return player_dict[find_row][name]\n",
    "            "
   ]
  },
  {
   "cell_type": "code",
   "execution_count": 10,
   "metadata": {},
   "outputs": [
    {
     "data": {
      "text/plain": [
       "'A. Hložek'"
      ]
     },
     "execution_count": 10,
     "metadata": {},
     "output_type": "execute_result"
    }
   ],
   "source": [
    "#Q1: What is the name of the youngest player?\n",
    "find_name(\"youngest\", \"Age\")"
   ]
  },
  {
   "cell_type": "code",
   "execution_count": 11,
   "metadata": {},
   "outputs": [
    {
     "data": {
      "text/plain": [
       "'L. Messi'"
      ]
     },
     "execution_count": 11,
     "metadata": {},
     "output_type": "execute_result"
    }
   ],
   "source": [
    "#Q2: What is the name of the highest-paid player?\n",
    "find_name(\"Max\",\"Wage\")"
   ]
  },
  {
   "cell_type": "code",
   "execution_count": 12,
   "metadata": {},
   "outputs": [
    {
     "data": {
      "text/plain": [
       "'Neymar Jr'"
      ]
     },
     "execution_count": 12,
     "metadata": {},
     "output_type": "execute_result"
    }
   ],
   "source": [
    "#Q3: What is the name of the highest valued player?\n",
    "find_name(\"Max\",\"Value\")"
   ]
  },
  {
   "cell_type": "code",
   "execution_count": 13,
   "metadata": {},
   "outputs": [
    {
     "data": {
      "text/plain": [
       "'LW'"
      ]
     },
     "execution_count": 13,
     "metadata": {},
     "output_type": "execute_result"
    }
   ],
   "source": [
    "#Q4: What is the position of that player (in above q3)?\n",
    "find_name(\"Max\",\"Value\",\"Position\")"
   ]
  },
  {
   "cell_type": "code",
   "execution_count": 14,
   "metadata": {},
   "outputs": [],
   "source": [
    "def get_column(col_name):\n",
    "    blank = []\n",
    "    for i in player_dict:\n",
    "        blank.append(i[col_name])\n",
    "    return blank\n"
   ]
  },
  {
   "cell_type": "code",
   "execution_count": 15,
   "metadata": {},
   "outputs": [
    {
     "data": {
      "text/plain": [
       "['FC Barcelona',\n",
       " 'Juventus',\n",
       " 'Paris Saint-Germain',\n",
       " 'Atlético Madrid',\n",
       " 'Real Madrid']"
      ]
     },
     "execution_count": 15,
     "metadata": {},
     "output_type": "execute_result"
    }
   ],
   "source": [
    "#Q5: What are the first five clubs listed in the dataset?\n",
    "get_column(\"Club\")[:5]"
   ]
  },
  {
   "cell_type": "code",
   "execution_count": 16,
   "metadata": {},
   "outputs": [],
   "source": [
    "def sort_name(header, numbers):\n",
    "    return sorted(list(set(get_column(header))))[:numbers]"
   ]
  },
  {
   "cell_type": "code",
   "execution_count": 17,
   "metadata": {},
   "outputs": [
    {
     "data": {
      "text/plain": [
       "['A. Abdallah',\n",
       " 'A. Abdellaoui',\n",
       " 'A. Abdennour',\n",
       " 'A. Abdi',\n",
       " 'A. Abdu',\n",
       " 'A. Abedzadeh']"
      ]
     },
     "execution_count": 17,
     "metadata": {},
     "output_type": "execute_result"
    }
   ],
   "source": [
    "#Q6: Which six names are alphabetically first in the dataset?\n",
    "sort_name(\"Name\",6)"
   ]
  },
  {
   "cell_type": "code",
   "execution_count": 18,
   "metadata": {},
   "outputs": [],
   "source": [
    "def find_average(header):\n",
    "    total_numbers = 0\n",
    "    variable1 = get_column(header)\n",
    "    for i in variable1:\n",
    "        total_numbers += i\n",
    "    return total_numbers / len(variable1)"
   ]
  },
  {
   "cell_type": "code",
   "execution_count": 19,
   "metadata": {},
   "outputs": [
    {
     "data": {
      "text/plain": [
       "9456.942772732247"
      ]
     },
     "execution_count": 19,
     "metadata": {},
     "output_type": "execute_result"
    }
   ],
   "source": [
    "#Q7: What is the average Wage?\n",
    "find_average('Wage')"
   ]
  },
  {
   "cell_type": "code",
   "execution_count": 20,
   "metadata": {},
   "outputs": [
    {
     "data": {
      "text/plain": [
       "66.24499398183609"
      ]
     },
     "execution_count": 20,
     "metadata": {},
     "output_type": "execute_result"
    }
   ],
   "source": [
    "#Q8: What is the average Overall?\n",
    "find_average('Overall')"
   ]
  },
  {
   "cell_type": "code",
   "execution_count": 21,
   "metadata": {},
   "outputs": [],
   "source": [
    "def player_count(header):\n",
    "    idx = 0\n",
    "    for i in player_dict:\n",
    "        if i['Position'] == header:\n",
    "            idx += 1\n",
    "    return idx"
   ]
  },
  {
   "cell_type": "code",
   "execution_count": 22,
   "metadata": {},
   "outputs": [
    {
     "data": {
      "text/plain": [
       "2036"
      ]
     },
     "execution_count": 22,
     "metadata": {},
     "output_type": "execute_result"
    }
   ],
   "source": [
    "#Q9: How many players play in the position 'GK'?\n",
    "player_count(\"GK\") "
   ]
  },
  {
   "cell_type": "code",
   "execution_count": 23,
   "metadata": {},
   "outputs": [
    {
     "data": {
      "text/plain": [
       "1146"
      ]
     },
     "execution_count": 23,
     "metadata": {},
     "output_type": "execute_result"
    }
   ],
   "source": [
    "#Q10: How many players play in the position 'CAM'?\n",
    "player_count(\"CAM\")"
   ]
  },
  {
   "cell_type": "code",
   "execution_count": 24,
   "metadata": {},
   "outputs": [
    {
     "data": {
      "text/plain": [
       "'CB'"
      ]
     },
     "execution_count": 24,
     "metadata": {},
     "output_type": "execute_result"
    }
   ],
   "source": [
    "#Q11: Which is the most common position among the players in FIFA20?\n",
    "def find_most(header):\n",
    "    positions_kinds = list(set(get_column(\"Position\")))\n",
    "    most_position = None\n",
    "    for position in positions_kinds:\n",
    "        if most_position == None or player_count(position) > player_count(most_position):\n",
    "            most_position = position\n",
    "    return most_position\n",
    "find_most('Position')"
   ]
  },
  {
   "cell_type": "code",
   "execution_count": 25,
   "metadata": {},
   "outputs": [],
   "source": [
    "def player_to_dict(player_id):\n",
    "    for row in player_dict_backup:\n",
    "        if row[\"ID\"] == player_id:\n",
    "            return row"
   ]
  },
  {
   "cell_type": "code",
   "execution_count": 26,
   "metadata": {},
   "outputs": [
    {
     "data": {
      "text/plain": [
       "{'ID': '183277',\n",
       " 'Name': 'E. Hazard',\n",
       " 'Age': 28,\n",
       " 'Nationality': 'Belgium',\n",
       " 'Overall': 91,\n",
       " 'Club': 'Real Madrid',\n",
       " 'Position': 'LW',\n",
       " 'Value': '€90M',\n",
       " 'Wage': '€470K',\n",
       " 'Preferred Foot': 'Right',\n",
       " 'Jersey Number': '7',\n",
       " 'Height': \"5'9\",\n",
       " 'Weight': '163lbs'}"
      ]
     },
     "execution_count": 26,
     "metadata": {},
     "output_type": "execute_result"
    }
   ],
   "source": [
    "#Q12: what are the stats for the player with ID equal to '183277'?\n",
    "player_to_dict('183277')"
   ]
  },
  {
   "cell_type": "code",
   "execution_count": 27,
   "metadata": {},
   "outputs": [
    {
     "data": {
      "text/plain": [
       "{'ID': '209331',\n",
       " 'Name': 'M. Salah',\n",
       " 'Age': 27,\n",
       " 'Nationality': 'Egypt',\n",
       " 'Overall': 90,\n",
       " 'Club': 'Liverpool',\n",
       " 'Position': 'RW',\n",
       " 'Value': '€80.5M',\n",
       " 'Wage': '€240K',\n",
       " 'Preferred Foot': 'Left',\n",
       " 'Jersey Number': '11',\n",
       " 'Height': \"5'9\",\n",
       " 'Weight': '157lbs'}"
      ]
     },
     "execution_count": 27,
     "metadata": {},
     "output_type": "execute_result"
    }
   ],
   "source": [
    "#Q13: What are the stats for the player with ID equal to '209331'?\n",
    "player_to_dict('209331')"
   ]
  },
  {
   "cell_type": "code",
   "execution_count": 28,
   "metadata": {},
   "outputs": [
    {
     "data": {
      "text/plain": [
       "{'ID': '195864',\n",
       " 'Name': 'P. Pogba',\n",
       " 'Age': 26,\n",
       " 'Nationality': 'France',\n",
       " 'Overall': 88,\n",
       " 'Club': 'Manchester United',\n",
       " 'Position': 'CM',\n",
       " 'Value': '€72.5M',\n",
       " 'Wage': '€250K',\n",
       " 'Preferred Foot': 'Right',\n",
       " 'Jersey Number': '6',\n",
       " 'Height': \"6'3\",\n",
       " 'Weight': '185lbs'}"
      ]
     },
     "execution_count": 28,
     "metadata": {},
     "output_type": "execute_result"
    }
   ],
   "source": [
    "#Q14: What are the stats for the player with ID equal to '195864'?\n",
    "player_to_dict('195864')"
   ]
  },
  {
   "cell_type": "code",
   "execution_count": 29,
   "metadata": {},
   "outputs": [
    {
     "data": {
      "text/plain": [
       "{'ID': '177003',\n",
       " 'Name': 'L. Modrić',\n",
       " 'Age': 33,\n",
       " 'Nationality': 'Croatia',\n",
       " 'Overall': 90,\n",
       " 'Club': 'Real Madrid',\n",
       " 'Position': 'CM',\n",
       " 'Value': '€45M',\n",
       " 'Wage': '€340K',\n",
       " 'Preferred Foot': 'Right',\n",
       " 'Jersey Number': '10',\n",
       " 'Height': \"5'8\",\n",
       " 'Weight': '146lbs'}"
      ]
     },
     "execution_count": 29,
     "metadata": {},
     "output_type": "execute_result"
    }
   ],
   "source": [
    "#Q15: What are the stats for the player with ID equal to '177003'?\n",
    "player_to_dict('177003')"
   ]
  },
  {
   "cell_type": "code",
   "execution_count": 30,
   "metadata": {},
   "outputs": [
    {
     "data": {
      "text/plain": [
       "{'Right': 13960, 'Left': 4318}"
      ]
     },
     "execution_count": 30,
     "metadata": {},
     "output_type": "execute_result"
    }
   ],
   "source": [
    "#Q16: How many players prefer their right foot and how many players prefer their left foot?\n",
    "\n",
    "def find_prefered_foot():\n",
    "    sum_right = 0 \n",
    "    sum_left = 0\n",
    "    for row in player_dict:\n",
    "        if row[\"Preferred Foot\"] == \"Right\":\n",
    "            sum_right += 1\n",
    "        elif row[\"Preferred Foot\"] == \"Left\":\n",
    "            sum_left += 1\n",
    "    prefered_foot = {}\n",
    "    keys = ['Right','Left']\n",
    "    vals = [sum_right,sum_left]\n",
    "    for i in range(len(keys)):\n",
    "        prefered_foot[keys[i]] = vals[i]\n",
    "    return prefered_foot\n",
    "\n",
    "find_prefered_foot()"
   ]
  },
  {
   "cell_type": "code",
   "execution_count": 31,
   "metadata": {},
   "outputs": [
    {
     "data": {
      "text/plain": [
       "{'Guinea': 35,\n",
       " 'Sweden': 358,\n",
       " 'France': 984,\n",
       " 'Georgia': 25,\n",
       " 'China PR': 373,\n",
       " 'Gambia': 22,\n",
       " 'United States': 347,\n",
       " 'Peru': 35,\n",
       " 'Honduras': 13,\n",
       " 'Guinea Bissau': 21,\n",
       " 'Germany': 1216,\n",
       " 'Israel': 16,\n",
       " 'India': 23,\n",
       " 'Angola': 16,\n",
       " 'Cape Verde': 20,\n",
       " 'Indonesia': 1,\n",
       " 'Montenegro': 33,\n",
       " 'Serbia': 139,\n",
       " 'Senegal': 127,\n",
       " 'Egypt': 30,\n",
       " 'Equatorial Guinea': 6,\n",
       " 'Netherlands': 416,\n",
       " 'Macau': 1,\n",
       " 'Puerto Rico': 1,\n",
       " 'Belgium': 268,\n",
       " 'Mali': 55,\n",
       " 'Cameroon': 78,\n",
       " 'England': 1667,\n",
       " 'Gabon': 16,\n",
       " 'Mauritius': 1,\n",
       " 'Bahrain': 1,\n",
       " 'Uganda': 3,\n",
       " 'Hong Kong': 1,\n",
       " 'Scotland': 277,\n",
       " 'Curacao': 16,\n",
       " 'Gibraltar': 1,\n",
       " 'Czech Republic': 102,\n",
       " 'Costa Rica': 30,\n",
       " 'Togo': 13,\n",
       " 'Ghana': 130,\n",
       " 'Panama': 12,\n",
       " 'Guyana': 4,\n",
       " 'Dominican Republic': 4,\n",
       " 'Romania': 287,\n",
       " 'Korea Republic': 322,\n",
       " 'Algeria': 50,\n",
       " 'Rwanda': 2,\n",
       " 'Turkey': 294,\n",
       " 'Belize': 1,\n",
       " 'Japan': 453,\n",
       " 'Brazil': 824,\n",
       " 'New Zealand': 35,\n",
       " 'Faroe Islands': 5,\n",
       " 'Kazakhstan': 2,\n",
       " 'Latvia': 6,\n",
       " 'Spain': 1035,\n",
       " 'Tanzania': 4,\n",
       " 'Cuba': 4,\n",
       " 'Mozambique': 4,\n",
       " 'Mauritania': 5,\n",
       " 'Portugal': 344,\n",
       " 'FYR Macedonia': 20,\n",
       " 'Slovakia': 54,\n",
       " 'Cyprus': 11,\n",
       " 'South Sudan': 1,\n",
       " 'Canada': 61,\n",
       " 'Bermuda': 3,\n",
       " 'Bulgaria': 41,\n",
       " 'Iran': 15,\n",
       " 'Iceland': 46,\n",
       " 'Estonia': 6,\n",
       " 'Guatemala': 2,\n",
       " 'Northern Ireland': 81,\n",
       " 'Azerbaijan': 6,\n",
       " 'DR Congo': 54,\n",
       " 'Morocco': 94,\n",
       " 'Austria': 319,\n",
       " 'Liechtenstein': 2,\n",
       " 'Bosnia Herzegovina': 66,\n",
       " 'Korea DPR': 4,\n",
       " 'Wales': 117,\n",
       " 'Jordan': 1,\n",
       " 'Colombia': 591,\n",
       " 'Republic of Ireland': 348,\n",
       " 'Tunisia': 35,\n",
       " 'Venezuela': 66,\n",
       " 'Central African Rep.': 4,\n",
       " 'Guam': 1,\n",
       " 'Burundi': 4,\n",
       " 'Russia': 81,\n",
       " 'Norway': 350,\n",
       " 'Luxembourg': 9,\n",
       " 'Italy': 732,\n",
       " 'Paraguay': 80,\n",
       " 'Antigua & Barbuda': 7,\n",
       " 'Palestine': 4,\n",
       " 'Ivory Coast': 105,\n",
       " 'Ecuador': 53,\n",
       " 'Kosovo': 40,\n",
       " 'São Tomé & Príncipe': 1,\n",
       " 'Nigeria': 126,\n",
       " 'United Arab Emirates': 22,\n",
       " 'Suriname': 2,\n",
       " 'South Africa': 72,\n",
       " 'Ethiopia': 1,\n",
       " 'Burkina Faso': 16,\n",
       " 'Thailand': 4,\n",
       " 'El Salvador': 4,\n",
       " 'Eritrea': 1,\n",
       " 'Mexico': 340,\n",
       " 'Switzerland': 229,\n",
       " 'Albania': 43,\n",
       " 'Argentina': 886,\n",
       " 'Liberia': 1,\n",
       " 'Barbados': 1,\n",
       " 'Malta': 2,\n",
       " 'Croatia': 126,\n",
       " 'Lebanon': 3,\n",
       " 'Armenia': 8,\n",
       " 'Malawi': 1,\n",
       " 'Lithuania': 10,\n",
       " 'Sudan': 3,\n",
       " 'Kenya': 7,\n",
       " 'Trinidad & Tobago': 6,\n",
       " 'Chinese Taipei': 1,\n",
       " 'Libya': 4,\n",
       " 'Finland': 72,\n",
       " 'Madagascar': 8,\n",
       " 'Haiti': 7,\n",
       " 'Zambia': 10,\n",
       " 'Uruguay': 164,\n",
       " 'St Lucia': 1,\n",
       " 'Hungary': 35,\n",
       " 'Montserrat': 3,\n",
       " 'Chile': 370,\n",
       " 'Grenada': 2,\n",
       " 'Australia': 196,\n",
       " 'Chad': 1,\n",
       " 'Congo': 18,\n",
       " 'Zimbabwe': 12,\n",
       " 'Sierra Leone': 10,\n",
       " 'Denmark': 345,\n",
       " 'Uzbekistan': 3,\n",
       " 'Syria': 4,\n",
       " 'Saudi Arabia': 310,\n",
       " 'Niger': 3,\n",
       " 'Comoros': 9,\n",
       " 'Greece': 96,\n",
       " 'Ukraine': 69,\n",
       " 'Benin': 15,\n",
       " 'Poland': 324,\n",
       " 'Jamaica': 29,\n",
       " 'New Caledonia': 2,\n",
       " 'Afghanistan': 2,\n",
       " 'Philippines': 2,\n",
       " 'Vietnam': 1,\n",
       " 'Slovenia': 61,\n",
       " 'Moldova': 12,\n",
       " 'Iraq': 5,\n",
       " 'St Kitts Nevis': 4,\n",
       " 'Bolivia': 23,\n",
       " 'Namibia': 2}"
      ]
     },
     "execution_count": 31,
     "metadata": {},
     "output_type": "execute_result"
    }
   ],
   "source": [
    "#Q17: How many players are there per Nationality?\n",
    "def find_nationality():\n",
    "    keys = list(set(get_column(\"Nationality\")))\n",
    "    nationality = {}\n",
    "    for i in range(len(keys)):\n",
    "        sum_nationality = 0\n",
    "        for row in player_dict:\n",
    "            if row[\"Nationality\"] == keys[i]:\n",
    "                sum_nationality += 1\n",
    "                nationality[keys[i]] = sum_nationality\n",
    "    return nationality\n",
    "find_nationality()"
   ]
  },
  {
   "cell_type": "code",
   "execution_count": 32,
   "metadata": {},
   "outputs": [
    {
     "data": {
      "text/plain": [
       "{'Guinea': 68.8,\n",
       " 'Sweden': 63.79050279329609,\n",
       " 'France': 67.41666666666667,\n",
       " 'Georgia': 69.04,\n",
       " 'China PR': 59.48525469168901,\n",
       " 'Gambia': 65.31818181818181,\n",
       " 'United States': 64.53025936599424,\n",
       " 'Peru': 69.74285714285715,\n",
       " 'Honduras': 68.38461538461539,\n",
       " 'Guinea Bissau': 67.38095238095238,\n",
       " 'Germany': 65.93914473684211,\n",
       " 'Israel': 71.125,\n",
       " 'India': 60.0,\n",
       " 'Angola': 69.375,\n",
       " 'Cape Verde': 70.5,\n",
       " 'Indonesia': 56.0,\n",
       " 'Montenegro': 66.36363636363636,\n",
       " 'Serbia': 69.48920863309353,\n",
       " 'Senegal': 68.64566929133858,\n",
       " 'Egypt': 70.1,\n",
       " 'Equatorial Guinea': 69.0,\n",
       " 'Netherlands': 68.14903846153847,\n",
       " 'Macau': 61.0,\n",
       " 'Puerto Rico': 70.0,\n",
       " 'Belgium': 68.43283582089552,\n",
       " 'Mali': 67.50909090909092,\n",
       " 'Cameroon': 68.33333333333333,\n",
       " 'England': 63.251949610077986,\n",
       " 'Gabon': 70.6875,\n",
       " 'Mauritius': 66.0,\n",
       " 'Bahrain': 72.0,\n",
       " 'Uganda': 66.0,\n",
       " 'Hong Kong': 67.0,\n",
       " 'Scotland': 64.75090252707581,\n",
       " 'Curacao': 66.0,\n",
       " 'Gibraltar': 62.0,\n",
       " 'Czech Republic': 70.31372549019608,\n",
       " 'Costa Rica': 68.23333333333333,\n",
       " 'Togo': 69.38461538461539,\n",
       " 'Ghana': 66.97692307692307,\n",
       " 'Panama': 66.0,\n",
       " 'Guyana': 63.5,\n",
       " 'Dominican Republic': 67.5,\n",
       " 'Romania': 63.70383275261324,\n",
       " 'Korea Republic': 63.683229813664596,\n",
       " 'Algeria': 71.38,\n",
       " 'Rwanda': 64.0,\n",
       " 'Turkey': 66.06802721088435,\n",
       " 'Belize': 66.0,\n",
       " 'Japan': 63.69094922737307,\n",
       " 'Brazil': 71.1614077669903,\n",
       " 'New Zealand': 64.17142857142858,\n",
       " 'Faroe Islands': 61.4,\n",
       " 'Kazakhstan': 68.0,\n",
       " 'Latvia': 61.666666666666664,\n",
       " 'Spain': 69.9536231884058,\n",
       " 'Tanzania': 63.25,\n",
       " 'Cuba': 67.25,\n",
       " 'Mozambique': 73.25,\n",
       " 'Mauritania': 65.2,\n",
       " 'Portugal': 70.51453488372093,\n",
       " 'FYR Macedonia': 68.7,\n",
       " 'Slovakia': 69.31481481481481,\n",
       " 'Cyprus': 61.72727272727273,\n",
       " 'South Sudan': 59.0,\n",
       " 'Canada': 63.91803278688525,\n",
       " 'Bermuda': 63.666666666666664,\n",
       " 'Bulgaria': 63.46341463414634,\n",
       " 'Iran': 69.0,\n",
       " 'Iceland': 67.28260869565217,\n",
       " 'Estonia': 66.33333333333333,\n",
       " 'Guatemala': 65.5,\n",
       " 'Northern Ireland': 63.79012345679013,\n",
       " 'Azerbaijan': 62.833333333333336,\n",
       " 'DR Congo': 68.4074074074074,\n",
       " 'Morocco': 69.69148936170212,\n",
       " 'Austria': 65.59561128526646,\n",
       " 'Liechtenstein': 62.0,\n",
       " 'Bosnia Herzegovina': 68.87878787878788,\n",
       " 'Korea DPR': 65.75,\n",
       " 'Wales': 64.6923076923077,\n",
       " 'Jordan': 68.0,\n",
       " 'Colombia': 65.67851099830796,\n",
       " 'Republic of Ireland': 61.00574712643678,\n",
       " 'Tunisia': 68.25714285714285,\n",
       " 'Venezuela': 67.07575757575758,\n",
       " 'Central African Rep.': 70.5,\n",
       " 'Guam': 66.0,\n",
       " 'Burundi': 63.75,\n",
       " 'Russia': 69.33333333333333,\n",
       " 'Norway': 63.02857142857143,\n",
       " 'Luxembourg': 65.66666666666667,\n",
       " 'Italy': 67.65710382513662,\n",
       " 'Paraguay': 69.7875,\n",
       " 'Antigua & Barbuda': 59.42857142857143,\n",
       " 'Palestine': 62.0,\n",
       " 'Ivory Coast': 69.0,\n",
       " 'Ecuador': 70.49056603773585,\n",
       " 'Kosovo': 66.625,\n",
       " 'São Tomé & Príncipe': 70.0,\n",
       " 'Nigeria': 67.15079365079364,\n",
       " 'United Arab Emirates': 62.86363636363637,\n",
       " 'Suriname': 66.0,\n",
       " 'South Africa': 67.72222222222223,\n",
       " 'Ethiopia': 64.0,\n",
       " 'Burkina Faso': 66.4375,\n",
       " 'Thailand': 64.0,\n",
       " 'El Salvador': 67.25,\n",
       " 'Eritrea': 71.0,\n",
       " 'Mexico': 65.80882352941177,\n",
       " 'Switzerland': 64.8471615720524,\n",
       " 'Albania': 66.4186046511628,\n",
       " 'Argentina': 69.11851015801355,\n",
       " 'Liberia': 69.0,\n",
       " 'Barbados': 64.0,\n",
       " 'Malta': 60.0,\n",
       " 'Croatia': 69.78571428571429,\n",
       " 'Lebanon': 64.0,\n",
       " 'Armenia': 69.375,\n",
       " 'Malawi': 62.0,\n",
       " 'Lithuania': 63.4,\n",
       " 'Sudan': 62.666666666666664,\n",
       " 'Kenya': 65.28571428571429,\n",
       " 'Trinidad & Tobago': 65.83333333333333,\n",
       " 'Chinese Taipei': 66.0,\n",
       " 'Libya': 71.0,\n",
       " 'Finland': 63.81944444444444,\n",
       " 'Madagascar': 70.25,\n",
       " 'Haiti': 63.285714285714285,\n",
       " 'Zambia': 67.1,\n",
       " 'Uruguay': 71.64634146341463,\n",
       " 'St Lucia': 64.0,\n",
       " 'Hungary': 69.68571428571428,\n",
       " 'Montserrat': 66.0,\n",
       " 'Chile': 64.80540540540541,\n",
       " 'Grenada': 60.5,\n",
       " 'Australia': 62.58163265306123,\n",
       " 'Chad': 73.0,\n",
       " 'Congo': 65.44444444444444,\n",
       " 'Zimbabwe': 67.25,\n",
       " 'Sierra Leone': 63.0,\n",
       " 'Denmark': 63.68115942028985,\n",
       " 'Uzbekistan': 67.66666666666667,\n",
       " 'Syria': 70.25,\n",
       " 'Saudi Arabia': 60.92903225806452,\n",
       " 'Niger': 57.0,\n",
       " 'Comoros': 65.22222222222223,\n",
       " 'Greece': 69.39583333333333,\n",
       " 'Ukraine': 69.8695652173913,\n",
       " 'Benin': 67.66666666666667,\n",
       " 'Poland': 63.49074074074074,\n",
       " 'Jamaica': 66.6896551724138,\n",
       " 'New Caledonia': 67.5,\n",
       " 'Afghanistan': 62.0,\n",
       " 'Philippines': 69.0,\n",
       " 'Vietnam': 62.0,\n",
       " 'Slovenia': 68.70491803278688,\n",
       " 'Moldova': 65.0,\n",
       " 'Iraq': 67.6,\n",
       " 'St Kitts Nevis': 62.75,\n",
       " 'Bolivia': 66.04347826086956,\n",
       " 'Namibia': 67.0}"
      ]
     },
     "execution_count": 32,
     "metadata": {},
     "output_type": "execute_result"
    }
   ],
   "source": [
    "#Q18: What is the average player score (represented by the Overall column) per Nationality?\n",
    "def find_avg_score(header,score):\n",
    "    keys = list(set(get_column(header)))\n",
    "    sum_overall = {}\n",
    "    find_nation = find_nationality()\n",
    "    for i in range(len(keys)):\n",
    "        total_overall = 0\n",
    "        for row in player_dict:\n",
    "            if row[header] == keys[i]:\n",
    "                total_overall += row[score]\n",
    "                sum_overall[keys[i]] = total_overall\n",
    "    score = {}\n",
    "    for key in keys:\n",
    "        score[key] = sum_overall[key] / find_nation[key]\n",
    "    return score\n",
    "\n",
    "find_avg_score('Nationality','Overall')"
   ]
  },
  {
   "cell_type": "code",
   "execution_count": 33,
   "metadata": {},
   "outputs": [
    {
     "data": {
      "text/plain": [
       "'Mozambique'"
      ]
     },
     "execution_count": 33,
     "metadata": {},
     "output_type": "execute_result"
    }
   ],
   "source": [
    "#Q19: Which Nationality has the highest average Overall?\n",
    "def find_most(header1,header2):\n",
    "    keys = list(set(get_column(\"Nationality\")))\n",
    "    variable1 = find_avg_score('Nationality','Overall')\n",
    "    find_avg_score(header1,header2) \n",
    "    best_key = None\n",
    "    for key in keys:\n",
    "        if best_key == None or variable1[key] > variable1[best_key]:\n",
    "            best_key = key\n",
    "    return best_key\n",
    "\n",
    "find_most('Nationality','Overall')"
   ]
  },
  {
   "cell_type": "code",
   "execution_count": 34,
   "metadata": {},
   "outputs": [
    {
     "data": {
      "text/plain": [
       "'FC Bayern München'"
      ]
     },
     "execution_count": 34,
     "metadata": {},
     "output_type": "execute_result"
    }
   ],
   "source": [
    "#Q20: Which Club has the highest average Value?:\n",
    "\n",
    "def find_avg_value(header, value = \"Value\"):\n",
    "    keys = list(set(get_column(\"Club\")))\n",
    "    sum_value = dict()\n",
    "    for i in range(len(keys)):\n",
    "        total_value = 0\n",
    "        for row in player_dict:\n",
    "            if row[\"Club\"] == keys[i]:\n",
    "                total_value += row[\"Value\"]\n",
    "                sum_value[keys[i]] = total_value\n",
    "    club = {}\n",
    "    for i in range(len(keys)):\n",
    "        member = 0\n",
    "        for row in player_dict:\n",
    "            if row[\"Club\"] == keys[i]:\n",
    "                member += 1\n",
    "                club[keys[i]] = member\n",
    "    best_key = None\n",
    "    for key in keys:\n",
    "        if best_key == None or (sum_value[key] / club[key]) > (sum_value[best_key] / club[best_key]):\n",
    "            best_key = key\n",
    "    return best_key\n",
    "\n",
    "find_avg_value(\"club\")"
   ]
  },
  {
   "cell_type": "code",
   "execution_count": null,
   "metadata": {},
   "outputs": [],
   "source": []
  }
 ],
 "metadata": {
  "kernelspec": {
   "display_name": "Python 3",
   "language": "python",
   "name": "python3"
  },
  "language_info": {
   "codemirror_mode": {
    "name": "ipython",
    "version": 3
   },
   "file_extension": ".py",
   "mimetype": "text/x-python",
   "name": "python",
   "nbconvert_exporter": "python",
   "pygments_lexer": "ipython3",
   "version": "3.7.6"
  }
 },
 "nbformat": 4,
 "nbformat_minor": 4
}
