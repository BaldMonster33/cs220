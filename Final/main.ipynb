{
 "cells": [
  {
   "cell_type": "code",
   "execution_count": 1,
   "metadata": {},
   "outputs": [
    {
     "data": {
      "text/plain": [
       "1.0796840350617745"
      ]
     },
     "execution_count": 1,
     "metadata": {},
     "output_type": "execute_result"
    }
   ],
   "source": [
    "nums = [1.1, 0.9, 1.2, 1.3, 0.95]\n",
    "mult = 1\n",
    "for x in nums:\n",
    "    mult *= x\n",
    "result = mult ** (1/5)\n",
    "result"
   ]
  },
  {
   "cell_type": "code",
   "execution_count": 2,
   "metadata": {},
   "outputs": [
    {
     "data": {
      "text/plain": [
       "0.8318375777038735"
      ]
     },
     "execution_count": 2,
     "metadata": {},
     "output_type": "execute_result"
    }
   ],
   "source": [
    "nums = [0.8, 0.7, 0.9, 0.95]\n",
    "mult = 1\n",
    "for x in nums:\n",
    "    mult *= x\n",
    "result = mult ** (1/4)\n",
    "result"
   ]
  },
  {
   "cell_type": "code",
   "execution_count": 3,
   "metadata": {},
   "outputs": [
    {
     "data": {
      "text/plain": [
       "1.4658972088782376"
      ]
     },
     "execution_count": 3,
     "metadata": {},
     "output_type": "execute_result"
    }
   ],
   "source": [
    "nums = [1.5, 1.4, 1.5]\n",
    "mult = 1\n",
    "for x in nums:\n",
    "    mult *= x\n",
    "result = mult ** (1/3)\n",
    "result"
   ]
  },
  {
   "cell_type": "code",
   "execution_count": 4,
   "metadata": {},
   "outputs": [],
   "source": [
    "def findResult(nums = [1.5, 1.4, 1.5]):\n",
    "    mult = 1\n",
    "    for x in nums:\n",
    "        mult *= x\n",
    "    result = mult ** (1/len(nums))\n",
    "    return result"
   ]
  },
  {
   "cell_type": "code",
   "execution_count": 5,
   "metadata": {},
   "outputs": [
    {
     "data": {
      "text/plain": [
       "1.4658972088782376"
      ]
     },
     "execution_count": 5,
     "metadata": {},
     "output_type": "execute_result"
    }
   ],
   "source": [
    "findResult()"
   ]
  },
  {
   "cell_type": "code",
   "execution_count": null,
   "metadata": {},
   "outputs": [],
   "source": [
    "import time\n",
    "\n",
    "# don't change this\n",
    "def get_winners():\n",
    "    # make this function slow, for the sake of the exercise\n",
    "    time.sleep(0.1)\n",
    "    return [999, 100, 150, 11, 555]\n",
    "\n",
    "# can you make this function faster?\n",
    "def count_winners(nums):\n",
    "    count = 0\n",
    "    for num in nums:\n",
    "        if num in get_winners():\n",
    "            count += 1\n",
    "    return count\n",
    "\n",
    "# don't change this either\n",
    "nums = []\n",
    "for i in range(200):\n",
    "    nums.append(i)\n",
    "\n",
    "print(\"Winners:\", count_winners(nums))"
   ]
  },
  {
   "cell_type": "code",
   "execution_count": 13,
   "metadata": {},
   "outputs": [
    {
     "name": "stdout",
     "output_type": "stream",
     "text": [
      "Winners: 3\n"
     ]
    }
   ],
   "source": [
    "import time\n",
    "\n",
    "# don't change this\n",
    "def get_winners():\n",
    "    # make this function slow, for the sake of the exercise\n",
    "    time.sleep(0.1)\n",
    "    return [999, 100, 150, 11, 555]\n",
    "\n",
    "# can you make this function faster?\n",
    "def count_winners(nums = get_winners()):\n",
    "    count = 0\n",
    "    a = get_winners()\n",
    "    for i in a:\n",
    "        if i in nums:\n",
    "            count += 1\n",
    "    return count\n",
    "\n",
    "# don't change this either\n",
    "nums = []\n",
    "for i in range(200):\n",
    "    nums.append(i)\n",
    "\n",
    "print(\"Winners:\", count_winners(nums))"
   ]
  },
  {
   "cell_type": "code",
   "execution_count": 11,
   "metadata": {},
   "outputs": [
    {
     "ename": "TypeError",
     "evalue": "'function' object is not iterable",
     "output_type": "error",
     "traceback": [
      "\u001b[0;31m---------------------------------------------------------------------------\u001b[0m",
      "\u001b[0;31mTypeError\u001b[0m                                 Traceback (most recent call last)",
      "\u001b[0;32m<ipython-input-11-f4a669a2c045>\u001b[0m in \u001b[0;36m<module>\u001b[0;34m\u001b[0m\n\u001b[0;32m----> 1\u001b[0;31m \u001b[0;32mfor\u001b[0m \u001b[0mi\u001b[0m \u001b[0;32min\u001b[0m \u001b[0mget_winners\u001b[0m\u001b[0;34m:\u001b[0m\u001b[0;34m\u001b[0m\u001b[0;34m\u001b[0m\u001b[0m\n\u001b[0m\u001b[1;32m      2\u001b[0m         \u001b[0;32mif\u001b[0m \u001b[0mi\u001b[0m \u001b[0;32min\u001b[0m \u001b[0mnums\u001b[0m\u001b[0;34m:\u001b[0m\u001b[0;34m\u001b[0m\u001b[0;34m\u001b[0m\u001b[0m\n\u001b[1;32m      3\u001b[0m             \u001b[0mcount\u001b[0m \u001b[0;34m+=\u001b[0m \u001b[0;36m1\u001b[0m\u001b[0;34m\u001b[0m\u001b[0;34m\u001b[0m\u001b[0m\n\u001b[1;32m      4\u001b[0m \u001b[0mcount\u001b[0m\u001b[0;34m\u001b[0m\u001b[0;34m\u001b[0m\u001b[0m\n",
      "\u001b[0;31mTypeError\u001b[0m: 'function' object is not iterable"
     ]
    }
   ],
   "source": [
    "nums = [5,4,3,2,1,0]\n",
    "nums.pop(0)\n",
    "print(nums)\n",
    "nums = [5,4,3,2,1,0]\n",
    "nums.remove(????)\n",
    "print(nums)"
   ]
  },
  {
   "cell_type": "code",
   "execution_count": 15,
   "metadata": {},
   "outputs": [
    {
     "name": "stdout",
     "output_type": "stream",
     "text": [
      "[5, 4, 3, 2, 1]\n",
      "[5, 4, 3, 2, 1]\n"
     ]
    }
   ],
   "source": [
    "nums = [5,4,3,2,1,0]\n",
    "nums.pop(-1)\n",
    "print(nums)\n",
    "nums = [5,4,3,2,1,0]\n",
    "nums.remove(0)\n",
    "print(nums)"
   ]
  },
  {
   "cell_type": "code",
   "execution_count": 16,
   "metadata": {},
   "outputs": [
    {
     "name": "stdout",
     "output_type": "stream",
     "text": [
      "[5, 4, 3, 2, 0]\n",
      "[5, 4, 3, 2, 0]\n"
     ]
    }
   ],
   "source": [
    "nums = [5,4,3,2,1,0]\n",
    "nums.pop(-2)\n",
    "print(nums)\n",
    "nums = [5,4,3,2,1,0]\n",
    "nums.remove(1)\n",
    "print(nums)"
   ]
  },
  {
   "cell_type": "code",
   "execution_count": 18,
   "metadata": {},
   "outputs": [
    {
     "name": "stdout",
     "output_type": "stream",
     "text": [
      "['A', 'C']\n",
      "['A', 'C']\n"
     ]
    }
   ],
   "source": [
    "nums = [\"A\", \"B\", \"C\"]\n",
    "nums.pop(1)\n",
    "print(nums)\n",
    "nums = [\"A\", \"B\", \"C\"]\n",
    "nums.remove(\"B\")\n",
    "print(nums)"
   ]
  },
  {
   "cell_type": "code",
   "execution_count": 19,
   "metadata": {},
   "outputs": [
    {
     "name": "stdout",
     "output_type": "stream",
     "text": [
      "[-1, 0, 1, 2]\n",
      "[-1, 0, 1, 2]\n"
     ]
    }
   ],
   "source": [
    "nums = [-2,-1,0,1,2]\n",
    "nums.pop(0)\n",
    "print(nums)\n",
    "nums = [-2,-1,0,1,2]\n",
    "nums.remove(-2)\n",
    "print(nums)"
   ]
  },
  {
   "cell_type": "code",
   "execution_count": 20,
   "metadata": {},
   "outputs": [
    {
     "name": "stdout",
     "output_type": "stream",
     "text": [
      "[-2, -1, 1, 2]\n",
      "[-2, -1, 1, 2]\n"
     ]
    }
   ],
   "source": [
    "nums = [-2,-1,0,1,2]\n",
    "nums.pop(-3)\n",
    "print(nums)\n",
    "nums = [-2,-1,0,1,2]\n",
    "nums.remove(0)\n",
    "print(nums)"
   ]
  },
  {
   "cell_type": "code",
   "execution_count": 23,
   "metadata": {},
   "outputs": [
    {
     "name": "stdout",
     "output_type": "stream",
     "text": [
      "looping over value: 100\n",
      "looping over value: 200\n",
      "looping over value: 300\n",
      "total: 600\n"
     ]
    }
   ],
   "source": [
    "values = [\"100\", \"200\", \"300\"]\n",
    "total = 0\n",
    "\n",
    "for x in values:\n",
    "    print(\"looping over value:\", x)\n",
    "    total += int(x)\n",
    "print(\"total:\", total)"
   ]
  },
  {
   "cell_type": "code",
   "execution_count": 26,
   "metadata": {},
   "outputs": [
    {
     "name": "stdout",
     "output_type": "stream",
     "text": [
      "looping over index: 0\n",
      "looping over index: 1\n",
      "looping over index: 2\n",
      "[100, 200, 300]\n",
      "total: 600\n"
     ]
    }
   ],
   "source": [
    "values = [\"100\", \"200\", \"300\"]\n",
    "\n",
    "for i in range(len(values)):\n",
    "    print(\"looping over index:\", i)\n",
    "    values[i] = int(values[i])\n",
    "\n",
    "print(values)\n",
    "print(\"total:\", sum(values))"
   ]
  },
  {
   "cell_type": "code",
   "execution_count": 46,
   "metadata": {},
   "outputs": [
    {
     "name": "stdout",
     "output_type": "stream",
     "text": [
      "The values are [3, 2, 1]\n",
      "The median is 2\n",
      "The values are still [3, 2, 1]\n"
     ]
    }
   ],
   "source": [
    "import copy\n",
    "\n",
    "def median(nums):\n",
    "    b = copy.copy(nums) \n",
    "    b.sort()\n",
    "    if len(b) % 2 == 1:\n",
    "        return b[len(b) // 2]\n",
    "    else:\n",
    "        v1 = b[len(b) // 2]\n",
    "        v2 = b[len(b) // 2 - 1]\n",
    "        return (v1+v2) / 2\n",
    "\n",
    "values = [3,2,1]\n",
    "\n",
    "print(\"The values are\", values)\n",
    "print(\"The median is\", median(values))\n",
    "print(\"The values are still\", values)"
   ]
  },
  {
   "cell_type": "code",
   "execution_count": 45,
   "metadata": {},
   "outputs": [
    {
     "name": "stdout",
     "output_type": "stream",
     "text": [
      "None\n"
     ]
    }
   ],
   "source": []
  },
  {
   "cell_type": "code",
   "execution_count": 51,
   "metadata": {},
   "outputs": [
    {
     "data": {
      "text/plain": [
       "[3, 2, 1]"
      ]
     },
     "execution_count": 51,
     "metadata": {},
     "output_type": "execute_result"
    }
   ],
   "source": []
  },
  {
   "cell_type": "code",
   "execution_count": 52,
   "metadata": {},
   "outputs": [
    {
     "data": {
      "text/plain": [
       "True"
      ]
     },
     "execution_count": 52,
     "metadata": {},
     "output_type": "execute_result"
    }
   ],
   "source": []
  },
  {
   "cell_type": "code",
   "execution_count": null,
   "metadata": {},
   "outputs": [],
   "source": []
  },
  {
   "cell_type": "code",
   "execution_count": null,
   "metadata": {},
   "outputs": [],
   "source": []
  },
  {
   "cell_type": "code",
   "execution_count": null,
   "metadata": {},
   "outputs": [],
   "source": []
  },
  {
   "cell_type": "code",
   "execution_count": null,
   "metadata": {},
   "outputs": [],
   "source": []
  }
 ],
 "metadata": {
  "kernelspec": {
   "display_name": "Python 3",
   "language": "python",
   "name": "python3"
  },
  "language_info": {
   "codemirror_mode": {
    "name": "ipython",
    "version": 3
   },
   "file_extension": ".py",
   "mimetype": "text/x-python",
   "name": "python",
   "nbconvert_exporter": "python",
   "pygments_lexer": "ipython3",
   "version": "3.7.6"
  }
 },
 "nbformat": 4,
 "nbformat_minor": 4
}
